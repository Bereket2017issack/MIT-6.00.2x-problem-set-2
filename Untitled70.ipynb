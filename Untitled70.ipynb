{
 "cells": [
  {
   "cell_type": "code",
   "execution_count": null,
   "metadata": {
    "collapsed": true
   },
   "outputs": [],
   "source": [
    "class RectangularRoom(object):\n",
    "    \"\"\"\n",
    "    The room has rectangular shape \n",
    "    \n",
    "    \"\"\"\n",
    "    def __init__(self, width, length):\n",
    "        \"\"\"\n",
    "        Now the room is initilized to width and length\n",
    "        And initially the room has no a single tile clean\n",
    "        Both width and length have integer values \n",
    "        \"\"\"\n",
    "        \n",
    "        self.width = width\n",
    "        self.height = length\n",
    "        self.cleaned_tiles = []\n",
    "    \n",
    "    def cleanTileAtPosition(self, pos):\n",
    "        \"\"\"\n",
    "        Here pos represent position in the tile\n",
    "        And it is a clean pos tile\n",
    "        \"\"\"\n",
    "        \n",
    "        single_point = (int(pos.getX()), int(pos.getY()))\n",
    "        if single_point not in self.cleaned_tiles:\n",
    "            self.cleaned_tiles.append(single_point)\n",
    "\n",
    "    def isTileCleaned(self, p, q):\n",
    "        \"\"\"\n",
    "        if the tile with a values (p, q) cleaned, then it returns True \n",
    "        otherwise False.\n",
    "        \n",
    "        \"\"\"\n",
    "        \n",
    "        self.p = p\n",
    "        self.q = q\n",
    "        tile = (self.p, self.q)\n",
    "        if tile in self.cleaned_tiles:\n",
    "            return True\n",
    "        else:\n",
    "            return False\n",
    "    \n",
    "    def getNumTiles(self):\n",
    "        \"\"\"\n",
    "        returns the number of tiles in the rectangular room.\n",
    "        \"\"\"\n",
    "        \n",
    "        \n",
    "    \n",
    "        return self.width * self.length\n",
    "\n",
    "    def getNumCleanedTiles(self):\n",
    "        \"\"\"\n",
    "        this one returns the number of clean tiles in the room\n",
    "        \"\"\"\n",
    "        \n",
    "        return len(self.cleaned_tiles)\n",
    "\n",
    "    def getRandomPosition(self):\n",
    "        \"\"\"\n",
    "        returns the random postion in the tile within the room\n",
    "        \"\"\"\n",
    "        \n",
    "        rand_posx = random.uniform(0, self.width)\n",
    "        rand_posy = random.uniform(0, self.length)\n",
    "        return Position(rand_posx, rand_posy)\n",
    "        \n",
    "\n",
    "    def isPositionInRoom(self, pos):\n",
    "        \"\"\"\n",
    "        A boolean that returns True if the pos is in the room\n",
    "        otherwise False\n",
    "        \"\"\"\n",
    "      \n",
    "        if pos.x >= 0 and pos.x < self.width and pos.y >= 0 and pos.y < self.length:\n",
    "            return True\n",
    "        else:\n",
    "            return False\n",
    "        "
   ]
  }
 ],
 "metadata": {
  "kernelspec": {
   "display_name": "Python 3",
   "language": "python",
   "name": "python3"
  },
  "language_info": {
   "codemirror_mode": {
    "name": "ipython",
    "version": 3
   },
   "file_extension": ".py",
   "mimetype": "text/x-python",
   "name": "python",
   "nbconvert_exporter": "python",
   "pygments_lexer": "ipython3",
   "version": "3.6.0"
  }
 },
 "nbformat": 4,
 "nbformat_minor": 2
}




class OneRobot(object):
    """
    The above class represents a robot cleaning one room
    The robot has constant speed 
    speed: a fixed value in m/s
    """
    def __init__(self, room, speed):
        """
        the robor is initilized 
        a certain room is to be cleaned at a time
        the robot has a fixed position and direction on the tile
        """
        self.room = room
        self.speed = speed
        self.angle = random.random() * 360
        self.position = room.getRandomPosition()

    def getOneRobotPosition(self):
        """
        returns the postion of the OneRobot on the tile
        """
        return self.position

    def geOnetRobotDirection(self):
        """
        this returns the OneRobot direction with a certain andgle
        """
        return self.angle

    def setOneRobotPosition(self, position):
        """
        sets the postion of the OneRobot on the tile
        """
        if self.room.isPositionInRoom(position):
            self.position = position

    def setRobotDirection(self, direction):
        """
        This is to set the direction of the OneRobot in a particular direction.
        The direction is angle of the OneRobot in 360 degree
        """
        self.angle = direction

    
