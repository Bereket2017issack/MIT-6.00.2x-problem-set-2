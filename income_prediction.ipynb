{
  "nbformat": 4,
  "nbformat_minor": 0,
  "metadata": {
    "colab": {
      "name": "income_prediction.ipynb",
      "version": "0.3.2",
      "provenance": [],
      "collapsed_sections": [],
      "include_colab_link": true
    },
    "kernelspec": {
      "name": "python3",
      "display_name": "Python 3"
    }
  },
  "cells": [
    {
      "cell_type": "markdown",
      "metadata": {
        "id": "view-in-github",
        "colab_type": "text"
      },
      "source": [
        "<a href=\"https://colab.research.google.com/github/Bereket2017issack/MIT-6.00.2x-problem-set-2/blob/master/income_prediction.ipynb\" target=\"_parent\"><img src=\"https://colab.research.google.com/assets/colab-badge.svg\" alt=\"Open In Colab\"/></a>"
      ]
    },
    {
      "metadata": {
        "id": "-G-eUGxUpD7e",
        "colab_type": "code",
        "colab": {}
      },
      "cell_type": "code",
      "source": [
        "from datascience import *\n",
        "import numpy as np\n",
        "import pandas as pd\n",
        "import seaborn as snb\n",
        "import matplotlib.pyplot as plt\n",
        "\n",
        "from sklearn import preprocessing, svm\n",
        "from sklearn.linear_model import LogisticRegression\n",
        "from sklearn.preprocessing import StandardScaler\n",
        "from sklearn.metrics import confusion_matrix, classification_report\n",
        "%matplotlib inline"
      ],
      "execution_count": 0,
      "outputs": []
    },
    {
      "metadata": {
        "id": "NxeGYG5GwOuS",
        "colab_type": "text"
      },
      "cell_type": "markdown",
      "source": [
        "Lets import and display our dataset\n"
      ]
    },
    {
      "metadata": {
        "id": "0Tz7ZN2UpIZe",
        "colab_type": "code",
        "outputId": "d23ab95e-cf95-4523-937b-122c57a5bc2a",
        "colab": {
          "base_uri": "https://localhost:8080/",
          "height": 204
        }
      },
      "cell_type": "code",
      "source": [
        "Table = pd.read_csv(\"http://mlr.cs.umass.edu/ml/machine-learning-databases/adult/adult.data\")\n",
        "Table.head()"
      ],
      "execution_count": 0,
      "outputs": [
        {
          "output_type": "execute_result",
          "data": {
            "text/html": [
              "<div>\n",
              "<style scoped>\n",
              "    .dataframe tbody tr th:only-of-type {\n",
              "        vertical-align: middle;\n",
              "    }\n",
              "\n",
              "    .dataframe tbody tr th {\n",
              "        vertical-align: top;\n",
              "    }\n",
              "\n",
              "    .dataframe thead th {\n",
              "        text-align: right;\n",
              "    }\n",
              "</style>\n",
              "<table border=\"1\" class=\"dataframe\">\n",
              "  <thead>\n",
              "    <tr style=\"text-align: right;\">\n",
              "      <th></th>\n",
              "      <th>39</th>\n",
              "      <th>State-gov</th>\n",
              "      <th>77516</th>\n",
              "      <th>Bachelors</th>\n",
              "      <th>13</th>\n",
              "      <th>Never-married</th>\n",
              "      <th>Adm-clerical</th>\n",
              "      <th>Not-in-family</th>\n",
              "      <th>White</th>\n",
              "      <th>Male</th>\n",
              "      <th>2174</th>\n",
              "      <th>0</th>\n",
              "      <th>40</th>\n",
              "      <th>United-States</th>\n",
              "      <th>&lt;=50K</th>\n",
              "    </tr>\n",
              "  </thead>\n",
              "  <tbody>\n",
              "    <tr>\n",
              "      <th>0</th>\n",
              "      <td>50</td>\n",
              "      <td>Self-emp-not-inc</td>\n",
              "      <td>83311</td>\n",
              "      <td>Bachelors</td>\n",
              "      <td>13</td>\n",
              "      <td>Married-civ-spouse</td>\n",
              "      <td>Exec-managerial</td>\n",
              "      <td>Husband</td>\n",
              "      <td>White</td>\n",
              "      <td>Male</td>\n",
              "      <td>0</td>\n",
              "      <td>0</td>\n",
              "      <td>13</td>\n",
              "      <td>United-States</td>\n",
              "      <td>&lt;=50K</td>\n",
              "    </tr>\n",
              "    <tr>\n",
              "      <th>1</th>\n",
              "      <td>38</td>\n",
              "      <td>Private</td>\n",
              "      <td>215646</td>\n",
              "      <td>HS-grad</td>\n",
              "      <td>9</td>\n",
              "      <td>Divorced</td>\n",
              "      <td>Handlers-cleaners</td>\n",
              "      <td>Not-in-family</td>\n",
              "      <td>White</td>\n",
              "      <td>Male</td>\n",
              "      <td>0</td>\n",
              "      <td>0</td>\n",
              "      <td>40</td>\n",
              "      <td>United-States</td>\n",
              "      <td>&lt;=50K</td>\n",
              "    </tr>\n",
              "    <tr>\n",
              "      <th>2</th>\n",
              "      <td>53</td>\n",
              "      <td>Private</td>\n",
              "      <td>234721</td>\n",
              "      <td>11th</td>\n",
              "      <td>7</td>\n",
              "      <td>Married-civ-spouse</td>\n",
              "      <td>Handlers-cleaners</td>\n",
              "      <td>Husband</td>\n",
              "      <td>Black</td>\n",
              "      <td>Male</td>\n",
              "      <td>0</td>\n",
              "      <td>0</td>\n",
              "      <td>40</td>\n",
              "      <td>United-States</td>\n",
              "      <td>&lt;=50K</td>\n",
              "    </tr>\n",
              "    <tr>\n",
              "      <th>3</th>\n",
              "      <td>28</td>\n",
              "      <td>Private</td>\n",
              "      <td>338409</td>\n",
              "      <td>Bachelors</td>\n",
              "      <td>13</td>\n",
              "      <td>Married-civ-spouse</td>\n",
              "      <td>Prof-specialty</td>\n",
              "      <td>Wife</td>\n",
              "      <td>Black</td>\n",
              "      <td>Female</td>\n",
              "      <td>0</td>\n",
              "      <td>0</td>\n",
              "      <td>40</td>\n",
              "      <td>Cuba</td>\n",
              "      <td>&lt;=50K</td>\n",
              "    </tr>\n",
              "    <tr>\n",
              "      <th>4</th>\n",
              "      <td>37</td>\n",
              "      <td>Private</td>\n",
              "      <td>284582</td>\n",
              "      <td>Masters</td>\n",
              "      <td>14</td>\n",
              "      <td>Married-civ-spouse</td>\n",
              "      <td>Exec-managerial</td>\n",
              "      <td>Wife</td>\n",
              "      <td>White</td>\n",
              "      <td>Female</td>\n",
              "      <td>0</td>\n",
              "      <td>0</td>\n",
              "      <td>40</td>\n",
              "      <td>United-States</td>\n",
              "      <td>&lt;=50K</td>\n",
              "    </tr>\n",
              "  </tbody>\n",
              "</table>\n",
              "</div>"
            ],
            "text/plain": [
              "   39          State-gov   77516   Bachelors   13        Never-married  \\\n",
              "0  50   Self-emp-not-inc   83311   Bachelors   13   Married-civ-spouse   \n",
              "1  38            Private  215646     HS-grad    9             Divorced   \n",
              "2  53            Private  234721        11th    7   Married-civ-spouse   \n",
              "3  28            Private  338409   Bachelors   13   Married-civ-spouse   \n",
              "4  37            Private  284582     Masters   14   Married-civ-spouse   \n",
              "\n",
              "         Adm-clerical   Not-in-family   White     Male   2174   0   40  \\\n",
              "0     Exec-managerial         Husband   White     Male      0   0   13   \n",
              "1   Handlers-cleaners   Not-in-family   White     Male      0   0   40   \n",
              "2   Handlers-cleaners         Husband   Black     Male      0   0   40   \n",
              "3      Prof-specialty            Wife   Black   Female      0   0   40   \n",
              "4     Exec-managerial            Wife   White   Female      0   0   40   \n",
              "\n",
              "    United-States   <=50K  \n",
              "0   United-States   <=50K  \n",
              "1   United-States   <=50K  \n",
              "2   United-States   <=50K  \n",
              "3            Cuba   <=50K  \n",
              "4   United-States   <=50K  "
            ]
          },
          "metadata": {
            "tags": []
          },
          "execution_count": 2
        }
      ]
    },
    {
      "metadata": {
        "id": "U8Rthf6kKyuP",
        "colab_type": "code",
        "outputId": "6719d959-6343-488a-b4ac-b967d7b6e7ff",
        "colab": {
          "base_uri": "https://localhost:8080/",
          "height": 204
        }
      },
      "cell_type": "code",
      "source": [
        "Table.tail()"
      ],
      "execution_count": 0,
      "outputs": [
        {
          "output_type": "execute_result",
          "data": {
            "text/html": [
              "<div>\n",
              "<style scoped>\n",
              "    .dataframe tbody tr th:only-of-type {\n",
              "        vertical-align: middle;\n",
              "    }\n",
              "\n",
              "    .dataframe tbody tr th {\n",
              "        vertical-align: top;\n",
              "    }\n",
              "\n",
              "    .dataframe thead th {\n",
              "        text-align: right;\n",
              "    }\n",
              "</style>\n",
              "<table border=\"1\" class=\"dataframe\">\n",
              "  <thead>\n",
              "    <tr style=\"text-align: right;\">\n",
              "      <th></th>\n",
              "      <th>39</th>\n",
              "      <th>State-gov</th>\n",
              "      <th>77516</th>\n",
              "      <th>Bachelors</th>\n",
              "      <th>13</th>\n",
              "      <th>Never-married</th>\n",
              "      <th>Adm-clerical</th>\n",
              "      <th>Not-in-family</th>\n",
              "      <th>White</th>\n",
              "      <th>Male</th>\n",
              "      <th>2174</th>\n",
              "      <th>0</th>\n",
              "      <th>40</th>\n",
              "      <th>United-States</th>\n",
              "      <th>&lt;=50K</th>\n",
              "    </tr>\n",
              "  </thead>\n",
              "  <tbody>\n",
              "    <tr>\n",
              "      <th>32555</th>\n",
              "      <td>27</td>\n",
              "      <td>Private</td>\n",
              "      <td>257302</td>\n",
              "      <td>Assoc-acdm</td>\n",
              "      <td>12</td>\n",
              "      <td>Married-civ-spouse</td>\n",
              "      <td>Tech-support</td>\n",
              "      <td>Wife</td>\n",
              "      <td>White</td>\n",
              "      <td>Female</td>\n",
              "      <td>0</td>\n",
              "      <td>0</td>\n",
              "      <td>38</td>\n",
              "      <td>United-States</td>\n",
              "      <td>&lt;=50K</td>\n",
              "    </tr>\n",
              "    <tr>\n",
              "      <th>32556</th>\n",
              "      <td>40</td>\n",
              "      <td>Private</td>\n",
              "      <td>154374</td>\n",
              "      <td>HS-grad</td>\n",
              "      <td>9</td>\n",
              "      <td>Married-civ-spouse</td>\n",
              "      <td>Machine-op-inspct</td>\n",
              "      <td>Husband</td>\n",
              "      <td>White</td>\n",
              "      <td>Male</td>\n",
              "      <td>0</td>\n",
              "      <td>0</td>\n",
              "      <td>40</td>\n",
              "      <td>United-States</td>\n",
              "      <td>&gt;50K</td>\n",
              "    </tr>\n",
              "    <tr>\n",
              "      <th>32557</th>\n",
              "      <td>58</td>\n",
              "      <td>Private</td>\n",
              "      <td>151910</td>\n",
              "      <td>HS-grad</td>\n",
              "      <td>9</td>\n",
              "      <td>Widowed</td>\n",
              "      <td>Adm-clerical</td>\n",
              "      <td>Unmarried</td>\n",
              "      <td>White</td>\n",
              "      <td>Female</td>\n",
              "      <td>0</td>\n",
              "      <td>0</td>\n",
              "      <td>40</td>\n",
              "      <td>United-States</td>\n",
              "      <td>&lt;=50K</td>\n",
              "    </tr>\n",
              "    <tr>\n",
              "      <th>32558</th>\n",
              "      <td>22</td>\n",
              "      <td>Private</td>\n",
              "      <td>201490</td>\n",
              "      <td>HS-grad</td>\n",
              "      <td>9</td>\n",
              "      <td>Never-married</td>\n",
              "      <td>Adm-clerical</td>\n",
              "      <td>Own-child</td>\n",
              "      <td>White</td>\n",
              "      <td>Male</td>\n",
              "      <td>0</td>\n",
              "      <td>0</td>\n",
              "      <td>20</td>\n",
              "      <td>United-States</td>\n",
              "      <td>&lt;=50K</td>\n",
              "    </tr>\n",
              "    <tr>\n",
              "      <th>32559</th>\n",
              "      <td>52</td>\n",
              "      <td>Self-emp-inc</td>\n",
              "      <td>287927</td>\n",
              "      <td>HS-grad</td>\n",
              "      <td>9</td>\n",
              "      <td>Married-civ-spouse</td>\n",
              "      <td>Exec-managerial</td>\n",
              "      <td>Wife</td>\n",
              "      <td>White</td>\n",
              "      <td>Female</td>\n",
              "      <td>15024</td>\n",
              "      <td>0</td>\n",
              "      <td>40</td>\n",
              "      <td>United-States</td>\n",
              "      <td>&gt;50K</td>\n",
              "    </tr>\n",
              "  </tbody>\n",
              "</table>\n",
              "</div>"
            ],
            "text/plain": [
              "       39      State-gov   77516    Bachelors   13        Never-married  \\\n",
              "32555  27        Private  257302   Assoc-acdm   12   Married-civ-spouse   \n",
              "32556  40        Private  154374      HS-grad    9   Married-civ-spouse   \n",
              "32557  58        Private  151910      HS-grad    9              Widowed   \n",
              "32558  22        Private  201490      HS-grad    9        Never-married   \n",
              "32559  52   Self-emp-inc  287927      HS-grad    9   Married-civ-spouse   \n",
              "\n",
              "             Adm-clerical  Not-in-family   White     Male   2174   0   40  \\\n",
              "32555        Tech-support           Wife   White   Female      0   0   38   \n",
              "32556   Machine-op-inspct        Husband   White     Male      0   0   40   \n",
              "32557        Adm-clerical      Unmarried   White   Female      0   0   40   \n",
              "32558        Adm-clerical      Own-child   White     Male      0   0   20   \n",
              "32559     Exec-managerial           Wife   White   Female  15024   0   40   \n",
              "\n",
              "        United-States   <=50K  \n",
              "32555   United-States   <=50K  \n",
              "32556   United-States    >50K  \n",
              "32557   United-States   <=50K  \n",
              "32558   United-States   <=50K  \n",
              "32559   United-States    >50K  "
            ]
          },
          "metadata": {
            "tags": []
          },
          "execution_count": 3
        }
      ]
    },
    {
      "metadata": {
        "id": "mndwnyjOwpkT",
        "colab_type": "text"
      },
      "cell_type": "markdown",
      "source": [
        "Our next step is to assign a name to each of our column Table"
      ]
    },
    {
      "metadata": {
        "id": "WKOtyPOnpQAL",
        "colab_type": "code",
        "outputId": "fd4e7f51-ae0a-48f5-8457-76e732197927",
        "colab": {
          "base_uri": "https://localhost:8080/",
          "height": 306
        }
      },
      "cell_type": "code",
      "source": [
        "\n",
        "# Assigning feature names to our Table\n",
        "columnss = [\"age\", \"workclass\", \"fnlwgt\", \"education\", \"education-num\", \"marital-status\", \"occupation\", \"relationship\", \"race\", \"sex\", \"capital-gain\", \"capital-loss\", \"hours-per-week\", \"native-country\", \"income\"]\n",
        "Table.columns = columnss\n",
        "Table.head()\n",
        "\n",
        "# Note: fnlwgt is final weight of the individuals"
      ],
      "execution_count": 0,
      "outputs": [
        {
          "output_type": "execute_result",
          "data": {
            "text/html": [
              "<div>\n",
              "<style scoped>\n",
              "    .dataframe tbody tr th:only-of-type {\n",
              "        vertical-align: middle;\n",
              "    }\n",
              "\n",
              "    .dataframe tbody tr th {\n",
              "        vertical-align: top;\n",
              "    }\n",
              "\n",
              "    .dataframe thead th {\n",
              "        text-align: right;\n",
              "    }\n",
              "</style>\n",
              "<table border=\"1\" class=\"dataframe\">\n",
              "  <thead>\n",
              "    <tr style=\"text-align: right;\">\n",
              "      <th></th>\n",
              "      <th>age</th>\n",
              "      <th>workclass</th>\n",
              "      <th>fnlwgt</th>\n",
              "      <th>education</th>\n",
              "      <th>education-num</th>\n",
              "      <th>marital-status</th>\n",
              "      <th>occupation</th>\n",
              "      <th>relationship</th>\n",
              "      <th>race</th>\n",
              "      <th>sex</th>\n",
              "      <th>capital-gain</th>\n",
              "      <th>capital-loss</th>\n",
              "      <th>hours-per-week</th>\n",
              "      <th>native-country</th>\n",
              "      <th>income</th>\n",
              "    </tr>\n",
              "  </thead>\n",
              "  <tbody>\n",
              "    <tr>\n",
              "      <th>0</th>\n",
              "      <td>50</td>\n",
              "      <td>Self-emp-not-inc</td>\n",
              "      <td>83311</td>\n",
              "      <td>Bachelors</td>\n",
              "      <td>13</td>\n",
              "      <td>Married-civ-spouse</td>\n",
              "      <td>Exec-managerial</td>\n",
              "      <td>Husband</td>\n",
              "      <td>White</td>\n",
              "      <td>Male</td>\n",
              "      <td>0</td>\n",
              "      <td>0</td>\n",
              "      <td>13</td>\n",
              "      <td>United-States</td>\n",
              "      <td>&lt;=50K</td>\n",
              "    </tr>\n",
              "    <tr>\n",
              "      <th>1</th>\n",
              "      <td>38</td>\n",
              "      <td>Private</td>\n",
              "      <td>215646</td>\n",
              "      <td>HS-grad</td>\n",
              "      <td>9</td>\n",
              "      <td>Divorced</td>\n",
              "      <td>Handlers-cleaners</td>\n",
              "      <td>Not-in-family</td>\n",
              "      <td>White</td>\n",
              "      <td>Male</td>\n",
              "      <td>0</td>\n",
              "      <td>0</td>\n",
              "      <td>40</td>\n",
              "      <td>United-States</td>\n",
              "      <td>&lt;=50K</td>\n",
              "    </tr>\n",
              "    <tr>\n",
              "      <th>2</th>\n",
              "      <td>53</td>\n",
              "      <td>Private</td>\n",
              "      <td>234721</td>\n",
              "      <td>11th</td>\n",
              "      <td>7</td>\n",
              "      <td>Married-civ-spouse</td>\n",
              "      <td>Handlers-cleaners</td>\n",
              "      <td>Husband</td>\n",
              "      <td>Black</td>\n",
              "      <td>Male</td>\n",
              "      <td>0</td>\n",
              "      <td>0</td>\n",
              "      <td>40</td>\n",
              "      <td>United-States</td>\n",
              "      <td>&lt;=50K</td>\n",
              "    </tr>\n",
              "    <tr>\n",
              "      <th>3</th>\n",
              "      <td>28</td>\n",
              "      <td>Private</td>\n",
              "      <td>338409</td>\n",
              "      <td>Bachelors</td>\n",
              "      <td>13</td>\n",
              "      <td>Married-civ-spouse</td>\n",
              "      <td>Prof-specialty</td>\n",
              "      <td>Wife</td>\n",
              "      <td>Black</td>\n",
              "      <td>Female</td>\n",
              "      <td>0</td>\n",
              "      <td>0</td>\n",
              "      <td>40</td>\n",
              "      <td>Cuba</td>\n",
              "      <td>&lt;=50K</td>\n",
              "    </tr>\n",
              "    <tr>\n",
              "      <th>4</th>\n",
              "      <td>37</td>\n",
              "      <td>Private</td>\n",
              "      <td>284582</td>\n",
              "      <td>Masters</td>\n",
              "      <td>14</td>\n",
              "      <td>Married-civ-spouse</td>\n",
              "      <td>Exec-managerial</td>\n",
              "      <td>Wife</td>\n",
              "      <td>White</td>\n",
              "      <td>Female</td>\n",
              "      <td>0</td>\n",
              "      <td>0</td>\n",
              "      <td>40</td>\n",
              "      <td>United-States</td>\n",
              "      <td>&lt;=50K</td>\n",
              "    </tr>\n",
              "  </tbody>\n",
              "</table>\n",
              "</div>"
            ],
            "text/plain": [
              "   age          workclass  fnlwgt   education  education-num  \\\n",
              "0   50   Self-emp-not-inc   83311   Bachelors             13   \n",
              "1   38            Private  215646     HS-grad              9   \n",
              "2   53            Private  234721        11th              7   \n",
              "3   28            Private  338409   Bachelors             13   \n",
              "4   37            Private  284582     Masters             14   \n",
              "\n",
              "        marital-status          occupation    relationship    race      sex  \\\n",
              "0   Married-civ-spouse     Exec-managerial         Husband   White     Male   \n",
              "1             Divorced   Handlers-cleaners   Not-in-family   White     Male   \n",
              "2   Married-civ-spouse   Handlers-cleaners         Husband   Black     Male   \n",
              "3   Married-civ-spouse      Prof-specialty            Wife   Black   Female   \n",
              "4   Married-civ-spouse     Exec-managerial            Wife   White   Female   \n",
              "\n",
              "   capital-gain  capital-loss  hours-per-week  native-country  income  \n",
              "0             0             0              13   United-States   <=50K  \n",
              "1             0             0              40   United-States   <=50K  \n",
              "2             0             0              40   United-States   <=50K  \n",
              "3             0             0              40            Cuba   <=50K  \n",
              "4             0             0              40   United-States   <=50K  "
            ]
          },
          "metadata": {
            "tags": []
          },
          "execution_count": 4
        }
      ]
    },
    {
      "metadata": {
        "id": "kRxnZjmuw-vh",
        "colab_type": "text"
      },
      "cell_type": "markdown",
      "source": [
        "Now lets identify columns with missing values "
      ]
    },
    {
      "metadata": {
        "id": "p-vQOWki5z0-",
        "colab_type": "code",
        "outputId": "325aa9af-5f40-4e00-e516-86648accdc55",
        "colab": {
          "base_uri": "https://localhost:8080/",
          "height": 297
        }
      },
      "cell_type": "code",
      "source": [
        "Table.describe()"
      ],
      "execution_count": 0,
      "outputs": [
        {
          "output_type": "execute_result",
          "data": {
            "text/html": [
              "<div>\n",
              "<style scoped>\n",
              "    .dataframe tbody tr th:only-of-type {\n",
              "        vertical-align: middle;\n",
              "    }\n",
              "\n",
              "    .dataframe tbody tr th {\n",
              "        vertical-align: top;\n",
              "    }\n",
              "\n",
              "    .dataframe thead th {\n",
              "        text-align: right;\n",
              "    }\n",
              "</style>\n",
              "<table border=\"1\" class=\"dataframe\">\n",
              "  <thead>\n",
              "    <tr style=\"text-align: right;\">\n",
              "      <th></th>\n",
              "      <th>age</th>\n",
              "      <th>fnlwgt</th>\n",
              "      <th>education-num</th>\n",
              "      <th>capital-gain</th>\n",
              "      <th>capital-loss</th>\n",
              "      <th>hours-per-week</th>\n",
              "    </tr>\n",
              "  </thead>\n",
              "  <tbody>\n",
              "    <tr>\n",
              "      <th>count</th>\n",
              "      <td>32560.000000</td>\n",
              "      <td>3.256000e+04</td>\n",
              "      <td>32560.000000</td>\n",
              "      <td>32560.000000</td>\n",
              "      <td>32560.000000</td>\n",
              "      <td>32560.000000</td>\n",
              "    </tr>\n",
              "    <tr>\n",
              "      <th>mean</th>\n",
              "      <td>38.581634</td>\n",
              "      <td>1.897818e+05</td>\n",
              "      <td>10.080590</td>\n",
              "      <td>1077.615172</td>\n",
              "      <td>87.306511</td>\n",
              "      <td>40.437469</td>\n",
              "    </tr>\n",
              "    <tr>\n",
              "      <th>std</th>\n",
              "      <td>13.640642</td>\n",
              "      <td>1.055498e+05</td>\n",
              "      <td>2.572709</td>\n",
              "      <td>7385.402999</td>\n",
              "      <td>402.966116</td>\n",
              "      <td>12.347618</td>\n",
              "    </tr>\n",
              "    <tr>\n",
              "      <th>min</th>\n",
              "      <td>17.000000</td>\n",
              "      <td>1.228500e+04</td>\n",
              "      <td>1.000000</td>\n",
              "      <td>0.000000</td>\n",
              "      <td>0.000000</td>\n",
              "      <td>1.000000</td>\n",
              "    </tr>\n",
              "    <tr>\n",
              "      <th>25%</th>\n",
              "      <td>28.000000</td>\n",
              "      <td>1.178315e+05</td>\n",
              "      <td>9.000000</td>\n",
              "      <td>0.000000</td>\n",
              "      <td>0.000000</td>\n",
              "      <td>40.000000</td>\n",
              "    </tr>\n",
              "    <tr>\n",
              "      <th>50%</th>\n",
              "      <td>37.000000</td>\n",
              "      <td>1.783630e+05</td>\n",
              "      <td>10.000000</td>\n",
              "      <td>0.000000</td>\n",
              "      <td>0.000000</td>\n",
              "      <td>40.000000</td>\n",
              "    </tr>\n",
              "    <tr>\n",
              "      <th>75%</th>\n",
              "      <td>48.000000</td>\n",
              "      <td>2.370545e+05</td>\n",
              "      <td>12.000000</td>\n",
              "      <td>0.000000</td>\n",
              "      <td>0.000000</td>\n",
              "      <td>45.000000</td>\n",
              "    </tr>\n",
              "    <tr>\n",
              "      <th>max</th>\n",
              "      <td>90.000000</td>\n",
              "      <td>1.484705e+06</td>\n",
              "      <td>16.000000</td>\n",
              "      <td>99999.000000</td>\n",
              "      <td>4356.000000</td>\n",
              "      <td>99.000000</td>\n",
              "    </tr>\n",
              "  </tbody>\n",
              "</table>\n",
              "</div>"
            ],
            "text/plain": [
              "                age        fnlwgt  education-num  capital-gain  capital-loss  \\\n",
              "count  32560.000000  3.256000e+04   32560.000000  32560.000000  32560.000000   \n",
              "mean      38.581634  1.897818e+05      10.080590   1077.615172     87.306511   \n",
              "std       13.640642  1.055498e+05       2.572709   7385.402999    402.966116   \n",
              "min       17.000000  1.228500e+04       1.000000      0.000000      0.000000   \n",
              "25%       28.000000  1.178315e+05       9.000000      0.000000      0.000000   \n",
              "50%       37.000000  1.783630e+05      10.000000      0.000000      0.000000   \n",
              "75%       48.000000  2.370545e+05      12.000000      0.000000      0.000000   \n",
              "max       90.000000  1.484705e+06      16.000000  99999.000000   4356.000000   \n",
              "\n",
              "       hours-per-week  \n",
              "count    32560.000000  \n",
              "mean        40.437469  \n",
              "std         12.347618  \n",
              "min          1.000000  \n",
              "25%         40.000000  \n",
              "50%         40.000000  \n",
              "75%         45.000000  \n",
              "max         99.000000  "
            ]
          },
          "metadata": {
            "tags": []
          },
          "execution_count": 5
        }
      ]
    },
    {
      "metadata": {
        "id": "7Q1LdIoX_5Pu",
        "colab_type": "code",
        "outputId": "03a79ba1-da0e-41c2-afa3-97563ba855a6",
        "colab": {
          "base_uri": "https://localhost:8080/",
          "height": 289
        }
      },
      "cell_type": "code",
      "source": [
        "\n",
        "col_missing = Table.isnull().sum(axis = 0)\n",
        "col_missing"
      ],
      "execution_count": 0,
      "outputs": [
        {
          "output_type": "execute_result",
          "data": {
            "text/plain": [
              "age               0\n",
              "workclass         0\n",
              "fnlwgt            0\n",
              "education         0\n",
              "education-num     0\n",
              "marital-status    0\n",
              "occupation        0\n",
              "relationship      0\n",
              "race              0\n",
              "sex               0\n",
              "capital-gain      0\n",
              "capital-loss      0\n",
              "hours-per-week    0\n",
              "native-country    0\n",
              "income            0\n",
              "dtype: int64"
            ]
          },
          "metadata": {
            "tags": []
          },
          "execution_count": 6
        }
      ]
    },
    {
      "metadata": {
        "id": "qzpuYiPGAl5v",
        "colab_type": "text"
      },
      "cell_type": "markdown",
      "source": [
        "All columns have zero missing values which means there are no missing values in each column"
      ]
    },
    {
      "metadata": {
        "id": "dMqm_20hGGiG",
        "colab_type": "text"
      },
      "cell_type": "markdown",
      "source": [
        "Lets identify the unknown values in each feature"
      ]
    },
    {
      "metadata": {
        "id": "qIJzu1UfqWFd",
        "colab_type": "code",
        "colab": {}
      },
      "cell_type": "code",
      "source": [
        "# Developing a function that identifies unknowns values in each feature (column)\n",
        "\n",
        "def missing_values(table, x):\n",
        "  table2 = table.groupby([x]).agg({x : \"count\"})\n",
        "  return table2#.iloc[:1]"
      ],
      "execution_count": 0,
      "outputs": []
    },
    {
      "metadata": {
        "id": "FazWf5_7pSZt",
        "colab_type": "code",
        "outputId": "ad7d8851-f772-40c7-c933-11559c83e6fb",
        "colab": {
          "base_uri": "https://localhost:8080/",
          "height": 235
        }
      },
      "cell_type": "code",
      "source": [
        "missing_values(Table, \"age\").head()"
      ],
      "execution_count": 0,
      "outputs": [
        {
          "output_type": "execute_result",
          "data": {
            "text/html": [
              "<div>\n",
              "<style scoped>\n",
              "    .dataframe tbody tr th:only-of-type {\n",
              "        vertical-align: middle;\n",
              "    }\n",
              "\n",
              "    .dataframe tbody tr th {\n",
              "        vertical-align: top;\n",
              "    }\n",
              "\n",
              "    .dataframe thead th {\n",
              "        text-align: right;\n",
              "    }\n",
              "</style>\n",
              "<table border=\"1\" class=\"dataframe\">\n",
              "  <thead>\n",
              "    <tr style=\"text-align: right;\">\n",
              "      <th></th>\n",
              "      <th>age</th>\n",
              "    </tr>\n",
              "    <tr>\n",
              "      <th>age</th>\n",
              "      <th></th>\n",
              "    </tr>\n",
              "  </thead>\n",
              "  <tbody>\n",
              "    <tr>\n",
              "      <th>17</th>\n",
              "      <td>328</td>\n",
              "    </tr>\n",
              "    <tr>\n",
              "      <th>18</th>\n",
              "      <td>447</td>\n",
              "    </tr>\n",
              "    <tr>\n",
              "      <th>19</th>\n",
              "      <td>594</td>\n",
              "    </tr>\n",
              "    <tr>\n",
              "      <th>20</th>\n",
              "      <td>629</td>\n",
              "    </tr>\n",
              "    <tr>\n",
              "      <th>21</th>\n",
              "      <td>621</td>\n",
              "    </tr>\n",
              "  </tbody>\n",
              "</table>\n",
              "</div>"
            ],
            "text/plain": [
              "     age\n",
              "age     \n",
              "17   328\n",
              "18   447\n",
              "19   594\n",
              "20   629\n",
              "21   621"
            ]
          },
          "metadata": {
            "tags": []
          },
          "execution_count": 64
        }
      ]
    },
    {
      "metadata": {
        "id": "Fg78xxIUFJQS",
        "colab_type": "text"
      },
      "cell_type": "markdown",
      "source": [
        "According to our result age has no missing values at all"
      ]
    },
    {
      "metadata": {
        "id": "WgLo_rnb32gQ",
        "colab_type": "code",
        "outputId": "2dff1934-4e8b-4db9-8c35-f583a13ee219",
        "colab": {
          "base_uri": "https://localhost:8080/",
          "height": 297
        }
      },
      "cell_type": "code",
      "source": [
        "missing_values(Table, \"workclass\")"
      ],
      "execution_count": 0,
      "outputs": [
        {
          "output_type": "execute_result",
          "data": {
            "text/html": [
              "<div>\n",
              "<style scoped>\n",
              "    .dataframe tbody tr th:only-of-type {\n",
              "        vertical-align: middle;\n",
              "    }\n",
              "\n",
              "    .dataframe tbody tr th {\n",
              "        vertical-align: top;\n",
              "    }\n",
              "\n",
              "    .dataframe thead th {\n",
              "        text-align: right;\n",
              "    }\n",
              "</style>\n",
              "<table border=\"1\" class=\"dataframe\">\n",
              "  <thead>\n",
              "    <tr style=\"text-align: right;\">\n",
              "      <th></th>\n",
              "      <th>workclass</th>\n",
              "    </tr>\n",
              "    <tr>\n",
              "      <th>workclass</th>\n",
              "      <th></th>\n",
              "    </tr>\n",
              "  </thead>\n",
              "  <tbody>\n",
              "    <tr>\n",
              "      <th>Federal-gov</th>\n",
              "      <td>943</td>\n",
              "    </tr>\n",
              "    <tr>\n",
              "      <th>Local-gov</th>\n",
              "      <td>2067</td>\n",
              "    </tr>\n",
              "    <tr>\n",
              "      <th>Private</th>\n",
              "      <td>22286</td>\n",
              "    </tr>\n",
              "    <tr>\n",
              "      <th>Self-emp-inc</th>\n",
              "      <td>1074</td>\n",
              "    </tr>\n",
              "    <tr>\n",
              "      <th>Self-emp-not-inc</th>\n",
              "      <td>2499</td>\n",
              "    </tr>\n",
              "    <tr>\n",
              "      <th>State-gov</th>\n",
              "      <td>1278</td>\n",
              "    </tr>\n",
              "    <tr>\n",
              "      <th>Without-pay</th>\n",
              "      <td>14</td>\n",
              "    </tr>\n",
              "  </tbody>\n",
              "</table>\n",
              "</div>"
            ],
            "text/plain": [
              "                   workclass\n",
              "workclass                   \n",
              " Federal-gov             943\n",
              " Local-gov              2067\n",
              " Private               22286\n",
              " Self-emp-inc           1074\n",
              " Self-emp-not-inc       2499\n",
              " State-gov              1278\n",
              " Without-pay              14"
            ]
          },
          "metadata": {
            "tags": []
          },
          "execution_count": 65
        }
      ]
    },
    {
      "metadata": {
        "id": "8Kh_VyMP4KOa",
        "colab_type": "text"
      },
      "cell_type": "markdown",
      "source": [
        "1. According to our function result, workclass has 1836 counts which have a unique character (?), but no missing values\n",
        "2. Most of the adults work in private other than the unknowns\n",
        "3. Only 7 adults have never worked before and interesting 14 individuals work with our payment\n"
      ]
    },
    {
      "metadata": {
        "id": "0GAMGLvg4qoI",
        "colab_type": "code",
        "outputId": "5ae15804-e79d-4f82-dd19-f1a12209b530",
        "colab": {
          "base_uri": "https://localhost:8080/",
          "height": 235
        }
      },
      "cell_type": "code",
      "source": [
        "missing_values(Table, \"fnlwgt\").head()"
      ],
      "execution_count": 0,
      "outputs": [
        {
          "output_type": "execute_result",
          "data": {
            "text/html": [
              "<div>\n",
              "<style scoped>\n",
              "    .dataframe tbody tr th:only-of-type {\n",
              "        vertical-align: middle;\n",
              "    }\n",
              "\n",
              "    .dataframe tbody tr th {\n",
              "        vertical-align: top;\n",
              "    }\n",
              "\n",
              "    .dataframe thead th {\n",
              "        text-align: right;\n",
              "    }\n",
              "</style>\n",
              "<table border=\"1\" class=\"dataframe\">\n",
              "  <thead>\n",
              "    <tr style=\"text-align: right;\">\n",
              "      <th></th>\n",
              "      <th>fnlwgt</th>\n",
              "    </tr>\n",
              "    <tr>\n",
              "      <th>fnlwgt</th>\n",
              "      <th></th>\n",
              "    </tr>\n",
              "  </thead>\n",
              "  <tbody>\n",
              "    <tr>\n",
              "      <th>13769</th>\n",
              "      <td>1</td>\n",
              "    </tr>\n",
              "    <tr>\n",
              "      <th>14878</th>\n",
              "      <td>1</td>\n",
              "    </tr>\n",
              "    <tr>\n",
              "      <th>18827</th>\n",
              "      <td>1</td>\n",
              "    </tr>\n",
              "    <tr>\n",
              "      <th>19214</th>\n",
              "      <td>1</td>\n",
              "    </tr>\n",
              "    <tr>\n",
              "      <th>19302</th>\n",
              "      <td>5</td>\n",
              "    </tr>\n",
              "  </tbody>\n",
              "</table>\n",
              "</div>"
            ],
            "text/plain": [
              "        fnlwgt\n",
              "fnlwgt        \n",
              "13769        1\n",
              "14878        1\n",
              "18827        1\n",
              "19214        1\n",
              "19302        5"
            ]
          },
          "metadata": {
            "tags": []
          },
          "execution_count": 66
        }
      ]
    },
    {
      "metadata": {
        "id": "0LbO8sIDGUX-",
        "colab_type": "code",
        "outputId": "f108323b-7398-4ce8-8922-ae82000f2da4",
        "colab": {
          "base_uri": "https://localhost:8080/",
          "height": 235
        }
      },
      "cell_type": "code",
      "source": [
        "missing_values(Table, \"education\").head()"
      ],
      "execution_count": 0,
      "outputs": [
        {
          "output_type": "execute_result",
          "data": {
            "text/html": [
              "<div>\n",
              "<style scoped>\n",
              "    .dataframe tbody tr th:only-of-type {\n",
              "        vertical-align: middle;\n",
              "    }\n",
              "\n",
              "    .dataframe tbody tr th {\n",
              "        vertical-align: top;\n",
              "    }\n",
              "\n",
              "    .dataframe thead th {\n",
              "        text-align: right;\n",
              "    }\n",
              "</style>\n",
              "<table border=\"1\" class=\"dataframe\">\n",
              "  <thead>\n",
              "    <tr style=\"text-align: right;\">\n",
              "      <th></th>\n",
              "      <th>education</th>\n",
              "    </tr>\n",
              "    <tr>\n",
              "      <th>education</th>\n",
              "      <th></th>\n",
              "    </tr>\n",
              "  </thead>\n",
              "  <tbody>\n",
              "    <tr>\n",
              "      <th>10th</th>\n",
              "      <td>820</td>\n",
              "    </tr>\n",
              "    <tr>\n",
              "      <th>11th</th>\n",
              "      <td>1048</td>\n",
              "    </tr>\n",
              "    <tr>\n",
              "      <th>12th</th>\n",
              "      <td>377</td>\n",
              "    </tr>\n",
              "    <tr>\n",
              "      <th>1st-4th</th>\n",
              "      <td>151</td>\n",
              "    </tr>\n",
              "    <tr>\n",
              "      <th>5th-6th</th>\n",
              "      <td>288</td>\n",
              "    </tr>\n",
              "  </tbody>\n",
              "</table>\n",
              "</div>"
            ],
            "text/plain": [
              "           education\n",
              "education           \n",
              " 10th            820\n",
              " 11th           1048\n",
              " 12th            377\n",
              " 1st-4th         151\n",
              " 5th-6th         288"
            ]
          },
          "metadata": {
            "tags": []
          },
          "execution_count": 67
        }
      ]
    },
    {
      "metadata": {
        "id": "OU5xIZNaF6oY",
        "colab_type": "text"
      },
      "cell_type": "markdown",
      "source": [
        "1. In education feature we have no either missing values or unknow values\n",
        "2. Majority of the adults have HS-grad\n",
        "3. And very few of them had only be in Preschool"
      ]
    },
    {
      "metadata": {
        "id": "iUdMr3iFGh3V",
        "colab_type": "code",
        "outputId": "7e718261-4618-4caa-dc31-faf4b2931435",
        "colab": {
          "base_uri": "https://localhost:8080/",
          "height": 235
        }
      },
      "cell_type": "code",
      "source": [
        "missing_values(Table, \"education-num\").head()"
      ],
      "execution_count": 0,
      "outputs": [
        {
          "output_type": "execute_result",
          "data": {
            "text/html": [
              "<div>\n",
              "<style scoped>\n",
              "    .dataframe tbody tr th:only-of-type {\n",
              "        vertical-align: middle;\n",
              "    }\n",
              "\n",
              "    .dataframe tbody tr th {\n",
              "        vertical-align: top;\n",
              "    }\n",
              "\n",
              "    .dataframe thead th {\n",
              "        text-align: right;\n",
              "    }\n",
              "</style>\n",
              "<table border=\"1\" class=\"dataframe\">\n",
              "  <thead>\n",
              "    <tr style=\"text-align: right;\">\n",
              "      <th></th>\n",
              "      <th>education-num</th>\n",
              "    </tr>\n",
              "    <tr>\n",
              "      <th>education-num</th>\n",
              "      <th></th>\n",
              "    </tr>\n",
              "  </thead>\n",
              "  <tbody>\n",
              "    <tr>\n",
              "      <th>1</th>\n",
              "      <td>45</td>\n",
              "    </tr>\n",
              "    <tr>\n",
              "      <th>2</th>\n",
              "      <td>151</td>\n",
              "    </tr>\n",
              "    <tr>\n",
              "      <th>3</th>\n",
              "      <td>288</td>\n",
              "    </tr>\n",
              "    <tr>\n",
              "      <th>4</th>\n",
              "      <td>557</td>\n",
              "    </tr>\n",
              "    <tr>\n",
              "      <th>5</th>\n",
              "      <td>455</td>\n",
              "    </tr>\n",
              "  </tbody>\n",
              "</table>\n",
              "</div>"
            ],
            "text/plain": [
              "               education-num\n",
              "education-num               \n",
              "1                         45\n",
              "2                        151\n",
              "3                        288\n",
              "4                        557\n",
              "5                        455"
            ]
          },
          "metadata": {
            "tags": []
          },
          "execution_count": 68
        }
      ]
    },
    {
      "metadata": {
        "id": "CGUGX50jGeE4",
        "colab_type": "text"
      },
      "cell_type": "markdown",
      "source": [
        "1. There are no missing values as well as unknown values in this feature\n",
        "2. Most of the adults have reached till 9th grade but a very of them have only attended grade 1\n",
        "3. Significant amounts of the individuals have a four year degree "
      ]
    },
    {
      "metadata": {
        "id": "iK4g6PDdGjRX",
        "colab_type": "code",
        "outputId": "31bdadd6-51dc-4cf2-a119-452a7231ffff",
        "colab": {
          "base_uri": "https://localhost:8080/",
          "height": 235
        }
      },
      "cell_type": "code",
      "source": [
        "\n",
        "missing_values(Table, \"occupation\").head()"
      ],
      "execution_count": 0,
      "outputs": [
        {
          "output_type": "execute_result",
          "data": {
            "text/html": [
              "<div>\n",
              "<style scoped>\n",
              "    .dataframe tbody tr th:only-of-type {\n",
              "        vertical-align: middle;\n",
              "    }\n",
              "\n",
              "    .dataframe tbody tr th {\n",
              "        vertical-align: top;\n",
              "    }\n",
              "\n",
              "    .dataframe thead th {\n",
              "        text-align: right;\n",
              "    }\n",
              "</style>\n",
              "<table border=\"1\" class=\"dataframe\">\n",
              "  <thead>\n",
              "    <tr style=\"text-align: right;\">\n",
              "      <th></th>\n",
              "      <th>occupation</th>\n",
              "    </tr>\n",
              "    <tr>\n",
              "      <th>occupation</th>\n",
              "      <th></th>\n",
              "    </tr>\n",
              "  </thead>\n",
              "  <tbody>\n",
              "    <tr>\n",
              "      <th>Adm-clerical</th>\n",
              "      <td>3720</td>\n",
              "    </tr>\n",
              "    <tr>\n",
              "      <th>Armed-Forces</th>\n",
              "      <td>9</td>\n",
              "    </tr>\n",
              "    <tr>\n",
              "      <th>Craft-repair</th>\n",
              "      <td>4030</td>\n",
              "    </tr>\n",
              "    <tr>\n",
              "      <th>Exec-managerial</th>\n",
              "      <td>3992</td>\n",
              "    </tr>\n",
              "    <tr>\n",
              "      <th>Farming-fishing</th>\n",
              "      <td>989</td>\n",
              "    </tr>\n",
              "  </tbody>\n",
              "</table>\n",
              "</div>"
            ],
            "text/plain": [
              "                  occupation\n",
              "occupation                  \n",
              " Adm-clerical           3720\n",
              " Armed-Forces              9\n",
              " Craft-repair           4030\n",
              " Exec-managerial        3992\n",
              " Farming-fishing         989"
            ]
          },
          "metadata": {
            "tags": []
          },
          "execution_count": 69
        }
      ]
    },
    {
      "metadata": {
        "id": "PKvouTIzG6cW",
        "colab_type": "text"
      },
      "cell_type": "markdown",
      "source": [
        "1. In occupation feature we have 1843 unknown values but no missing values\n",
        "2. Many of the adults have higher levels of occupation such as Prof-speciality, Exec-managerial and Craft-repair\n",
        "3. Only 9 out of all the individuals are part of the armed force which is really insignificant"
      ]
    },
    {
      "metadata": {
        "id": "7f65r2CWG50t",
        "colab_type": "code",
        "outputId": "e37f5c3f-487e-42ea-a083-9a3493e1562d",
        "colab": {
          "base_uri": "https://localhost:8080/",
          "height": 235
        }
      },
      "cell_type": "code",
      "source": [
        "missing_values(Table, \"marital-status\").head()"
      ],
      "execution_count": 0,
      "outputs": [
        {
          "output_type": "execute_result",
          "data": {
            "text/html": [
              "<div>\n",
              "<style scoped>\n",
              "    .dataframe tbody tr th:only-of-type {\n",
              "        vertical-align: middle;\n",
              "    }\n",
              "\n",
              "    .dataframe tbody tr th {\n",
              "        vertical-align: top;\n",
              "    }\n",
              "\n",
              "    .dataframe thead th {\n",
              "        text-align: right;\n",
              "    }\n",
              "</style>\n",
              "<table border=\"1\" class=\"dataframe\">\n",
              "  <thead>\n",
              "    <tr style=\"text-align: right;\">\n",
              "      <th></th>\n",
              "      <th>marital-status</th>\n",
              "    </tr>\n",
              "    <tr>\n",
              "      <th>marital-status</th>\n",
              "      <th></th>\n",
              "    </tr>\n",
              "  </thead>\n",
              "  <tbody>\n",
              "    <tr>\n",
              "      <th>Divorced</th>\n",
              "      <td>4214</td>\n",
              "    </tr>\n",
              "    <tr>\n",
              "      <th>Married-AF-spouse</th>\n",
              "      <td>21</td>\n",
              "    </tr>\n",
              "    <tr>\n",
              "      <th>Married-civ-spouse</th>\n",
              "      <td>14065</td>\n",
              "    </tr>\n",
              "    <tr>\n",
              "      <th>Married-spouse-absent</th>\n",
              "      <td>370</td>\n",
              "    </tr>\n",
              "    <tr>\n",
              "      <th>Never-married</th>\n",
              "      <td>9725</td>\n",
              "    </tr>\n",
              "  </tbody>\n",
              "</table>\n",
              "</div>"
            ],
            "text/plain": [
              "                        marital-status\n",
              "marital-status                        \n",
              " Divorced                         4214\n",
              " Married-AF-spouse                  21\n",
              " Married-civ-spouse              14065\n",
              " Married-spouse-absent             370\n",
              " Never-married                    9725"
            ]
          },
          "metadata": {
            "tags": []
          },
          "execution_count": 70
        }
      ]
    },
    {
      "metadata": {
        "id": "K1sUpR9VIwtg",
        "colab_type": "text"
      },
      "cell_type": "markdown",
      "source": [
        "1. Marital-status has neither missing values nor unknowns\n",
        "2. Most of the adults are Married-civ-spouse \n",
        "3. Only 23 individuals are Married-AF-spouse\n",
        "4. significant amount of the adults have Never-married"
      ]
    },
    {
      "metadata": {
        "id": "TGVQci-5G53d",
        "colab_type": "code",
        "outputId": "6c3dfefd-660a-4cb7-c850-c8462a2c6424",
        "colab": {
          "base_uri": "https://localhost:8080/",
          "height": 235
        }
      },
      "cell_type": "code",
      "source": [
        "missing_values(Table, \"relationship\").head()"
      ],
      "execution_count": 0,
      "outputs": [
        {
          "output_type": "execute_result",
          "data": {
            "text/html": [
              "<div>\n",
              "<style scoped>\n",
              "    .dataframe tbody tr th:only-of-type {\n",
              "        vertical-align: middle;\n",
              "    }\n",
              "\n",
              "    .dataframe tbody tr th {\n",
              "        vertical-align: top;\n",
              "    }\n",
              "\n",
              "    .dataframe thead th {\n",
              "        text-align: right;\n",
              "    }\n",
              "</style>\n",
              "<table border=\"1\" class=\"dataframe\">\n",
              "  <thead>\n",
              "    <tr style=\"text-align: right;\">\n",
              "      <th></th>\n",
              "      <th>relationship</th>\n",
              "    </tr>\n",
              "    <tr>\n",
              "      <th>relationship</th>\n",
              "      <th></th>\n",
              "    </tr>\n",
              "  </thead>\n",
              "  <tbody>\n",
              "    <tr>\n",
              "      <th>Husband</th>\n",
              "      <td>12463</td>\n",
              "    </tr>\n",
              "    <tr>\n",
              "      <th>Not-in-family</th>\n",
              "      <td>7725</td>\n",
              "    </tr>\n",
              "    <tr>\n",
              "      <th>Other-relative</th>\n",
              "      <td>889</td>\n",
              "    </tr>\n",
              "    <tr>\n",
              "      <th>Own-child</th>\n",
              "      <td>4466</td>\n",
              "    </tr>\n",
              "    <tr>\n",
              "      <th>Unmarried</th>\n",
              "      <td>3212</td>\n",
              "    </tr>\n",
              "  </tbody>\n",
              "</table>\n",
              "</div>"
            ],
            "text/plain": [
              "                 relationship\n",
              "relationship                 \n",
              " Husband                12463\n",
              " Not-in-family           7725\n",
              " Other-relative           889\n",
              " Own-child               4466\n",
              " Unmarried               3212"
            ]
          },
          "metadata": {
            "tags": []
          },
          "execution_count": 71
        }
      ]
    },
    {
      "metadata": {
        "id": "_mJXFn4jLLNR",
        "colab_type": "text"
      },
      "cell_type": "markdown",
      "source": [
        "1. In the feature relationship we have no missing values or unknown values\n",
        "2. More than thirteen thousands of the individuals are husbands and comparing with only 1568 wives there is high disparity amoung the individuals\n"
      ]
    },
    {
      "metadata": {
        "id": "oUwPT0kOHPpk",
        "colab_type": "code",
        "outputId": "6d71227e-3d2a-4564-e75f-9e84668d25dd",
        "colab": {
          "base_uri": "https://localhost:8080/",
          "height": 235
        }
      },
      "cell_type": "code",
      "source": [
        "missing_values(Table, \"race\")"
      ],
      "execution_count": 0,
      "outputs": [
        {
          "output_type": "execute_result",
          "data": {
            "text/html": [
              "<div>\n",
              "<style scoped>\n",
              "    .dataframe tbody tr th:only-of-type {\n",
              "        vertical-align: middle;\n",
              "    }\n",
              "\n",
              "    .dataframe tbody tr th {\n",
              "        vertical-align: top;\n",
              "    }\n",
              "\n",
              "    .dataframe thead th {\n",
              "        text-align: right;\n",
              "    }\n",
              "</style>\n",
              "<table border=\"1\" class=\"dataframe\">\n",
              "  <thead>\n",
              "    <tr style=\"text-align: right;\">\n",
              "      <th></th>\n",
              "      <th>race</th>\n",
              "    </tr>\n",
              "    <tr>\n",
              "      <th>race</th>\n",
              "      <th></th>\n",
              "    </tr>\n",
              "  </thead>\n",
              "  <tbody>\n",
              "    <tr>\n",
              "      <th>Amer-Indian-Eskimo</th>\n",
              "      <td>286</td>\n",
              "    </tr>\n",
              "    <tr>\n",
              "      <th>Asian-Pac-Islander</th>\n",
              "      <td>895</td>\n",
              "    </tr>\n",
              "    <tr>\n",
              "      <th>Black</th>\n",
              "      <td>2817</td>\n",
              "    </tr>\n",
              "    <tr>\n",
              "      <th>Other</th>\n",
              "      <td>231</td>\n",
              "    </tr>\n",
              "    <tr>\n",
              "      <th>White</th>\n",
              "      <td>25932</td>\n",
              "    </tr>\n",
              "  </tbody>\n",
              "</table>\n",
              "</div>"
            ],
            "text/plain": [
              "                      race\n",
              "race                      \n",
              " Amer-Indian-Eskimo    286\n",
              " Asian-Pac-Islander    895\n",
              " Black                2817\n",
              " Other                 231\n",
              " White               25932"
            ]
          },
          "metadata": {
            "tags": []
          },
          "execution_count": 73
        }
      ]
    },
    {
      "metadata": {
        "id": "pXP3T32aM_mH",
        "colab_type": "text"
      },
      "cell_type": "markdown",
      "source": [
        "1. There are no missing values as well as unknown values\n",
        "2. About twenty nine thousands of the adults are white and around three thounds of the individuals are blacks. Other races are even lower than blacks"
      ]
    },
    {
      "metadata": {
        "id": "bib5Ot1YHPsM",
        "colab_type": "code",
        "outputId": "6bebaaf0-d4c1-42aa-e65f-a3e49d10e6eb",
        "colab": {
          "base_uri": "https://localhost:8080/",
          "height": 142
        }
      },
      "cell_type": "code",
      "source": [
        "missing_values(Table, \"sex\")"
      ],
      "execution_count": 0,
      "outputs": [
        {
          "output_type": "execute_result",
          "data": {
            "text/html": [
              "<div>\n",
              "<style scoped>\n",
              "    .dataframe tbody tr th:only-of-type {\n",
              "        vertical-align: middle;\n",
              "    }\n",
              "\n",
              "    .dataframe tbody tr th {\n",
              "        vertical-align: top;\n",
              "    }\n",
              "\n",
              "    .dataframe thead th {\n",
              "        text-align: right;\n",
              "    }\n",
              "</style>\n",
              "<table border=\"1\" class=\"dataframe\">\n",
              "  <thead>\n",
              "    <tr style=\"text-align: right;\">\n",
              "      <th></th>\n",
              "      <th>sex</th>\n",
              "    </tr>\n",
              "    <tr>\n",
              "      <th>sex</th>\n",
              "      <th></th>\n",
              "    </tr>\n",
              "  </thead>\n",
              "  <tbody>\n",
              "    <tr>\n",
              "      <th>Female</th>\n",
              "      <td>9782</td>\n",
              "    </tr>\n",
              "    <tr>\n",
              "      <th>Male</th>\n",
              "      <td>20379</td>\n",
              "    </tr>\n",
              "  </tbody>\n",
              "</table>\n",
              "</div>"
            ],
            "text/plain": [
              "           sex\n",
              "sex           \n",
              " Female   9782\n",
              " Male    20379"
            ]
          },
          "metadata": {
            "tags": []
          },
          "execution_count": 74
        }
      ]
    },
    {
      "metadata": {
        "id": "L2nkSyqMNlsX",
        "colab_type": "text"
      },
      "cell_type": "markdown",
      "source": [
        "1. We don't have missing values as well as unknown values\n",
        "2. Here in sex variable male adults are much more than females\n"
      ]
    },
    {
      "metadata": {
        "id": "HM6fIBeLHP4V",
        "colab_type": "code",
        "outputId": "b2c59e5b-9279-4c21-b84b-b037d299052b",
        "colab": {
          "base_uri": "https://localhost:8080/",
          "height": 235
        }
      },
      "cell_type": "code",
      "source": [
        "missing_values(Table, \"capital-gain\").head()"
      ],
      "execution_count": 0,
      "outputs": [
        {
          "output_type": "execute_result",
          "data": {
            "text/html": [
              "<div>\n",
              "<style scoped>\n",
              "    .dataframe tbody tr th:only-of-type {\n",
              "        vertical-align: middle;\n",
              "    }\n",
              "\n",
              "    .dataframe tbody tr th {\n",
              "        vertical-align: top;\n",
              "    }\n",
              "\n",
              "    .dataframe thead th {\n",
              "        text-align: right;\n",
              "    }\n",
              "</style>\n",
              "<table border=\"1\" class=\"dataframe\">\n",
              "  <thead>\n",
              "    <tr style=\"text-align: right;\">\n",
              "      <th></th>\n",
              "      <th>capital-gain</th>\n",
              "    </tr>\n",
              "    <tr>\n",
              "      <th>capital-gain</th>\n",
              "      <th></th>\n",
              "    </tr>\n",
              "  </thead>\n",
              "  <tbody>\n",
              "    <tr>\n",
              "      <th>0</th>\n",
              "      <td>27624</td>\n",
              "    </tr>\n",
              "    <tr>\n",
              "      <th>114</th>\n",
              "      <td>6</td>\n",
              "    </tr>\n",
              "    <tr>\n",
              "      <th>401</th>\n",
              "      <td>1</td>\n",
              "    </tr>\n",
              "    <tr>\n",
              "      <th>594</th>\n",
              "      <td>28</td>\n",
              "    </tr>\n",
              "    <tr>\n",
              "      <th>914</th>\n",
              "      <td>8</td>\n",
              "    </tr>\n",
              "  </tbody>\n",
              "</table>\n",
              "</div>"
            ],
            "text/plain": [
              "              capital-gain\n",
              "capital-gain              \n",
              "0                    27624\n",
              "114                      6\n",
              "401                      1\n",
              "594                     28\n",
              "914                      8"
            ]
          },
          "metadata": {
            "tags": []
          },
          "execution_count": 75
        }
      ]
    },
    {
      "metadata": {
        "id": "NOF8cyZLIa4H",
        "colab_type": "code",
        "outputId": "06daf95b-386e-4ec4-984d-81784cf9a6c6",
        "colab": {
          "base_uri": "https://localhost:8080/",
          "height": 235
        }
      },
      "cell_type": "code",
      "source": [
        "missing_values(Table, \"capital-loss\").head()"
      ],
      "execution_count": 0,
      "outputs": [
        {
          "output_type": "execute_result",
          "data": {
            "text/html": [
              "<div>\n",
              "<style scoped>\n",
              "    .dataframe tbody tr th:only-of-type {\n",
              "        vertical-align: middle;\n",
              "    }\n",
              "\n",
              "    .dataframe tbody tr th {\n",
              "        vertical-align: top;\n",
              "    }\n",
              "\n",
              "    .dataframe thead th {\n",
              "        text-align: right;\n",
              "    }\n",
              "</style>\n",
              "<table border=\"1\" class=\"dataframe\">\n",
              "  <thead>\n",
              "    <tr style=\"text-align: right;\">\n",
              "      <th></th>\n",
              "      <th>capital-loss</th>\n",
              "    </tr>\n",
              "    <tr>\n",
              "      <th>capital-loss</th>\n",
              "      <th></th>\n",
              "    </tr>\n",
              "  </thead>\n",
              "  <tbody>\n",
              "    <tr>\n",
              "      <th>0</th>\n",
              "      <td>28734</td>\n",
              "    </tr>\n",
              "    <tr>\n",
              "      <th>155</th>\n",
              "      <td>1</td>\n",
              "    </tr>\n",
              "    <tr>\n",
              "      <th>213</th>\n",
              "      <td>4</td>\n",
              "    </tr>\n",
              "    <tr>\n",
              "      <th>323</th>\n",
              "      <td>3</td>\n",
              "    </tr>\n",
              "    <tr>\n",
              "      <th>419</th>\n",
              "      <td>1</td>\n",
              "    </tr>\n",
              "  </tbody>\n",
              "</table>\n",
              "</div>"
            ],
            "text/plain": [
              "              capital-loss\n",
              "capital-loss              \n",
              "0                    28734\n",
              "155                      1\n",
              "213                      4\n",
              "323                      3\n",
              "419                      1"
            ]
          },
          "metadata": {
            "tags": []
          },
          "execution_count": 76
        }
      ]
    },
    {
      "metadata": {
        "id": "KZLc6ov0Ia8n",
        "colab_type": "code",
        "outputId": "e8f5b376-de18-41ee-ae12-f6d1800df010",
        "colab": {
          "base_uri": "https://localhost:8080/",
          "height": 235
        }
      },
      "cell_type": "code",
      "source": [
        "missing_values(Table, \"hours-per-week\").head()"
      ],
      "execution_count": 0,
      "outputs": [
        {
          "output_type": "execute_result",
          "data": {
            "text/html": [
              "<div>\n",
              "<style scoped>\n",
              "    .dataframe tbody tr th:only-of-type {\n",
              "        vertical-align: middle;\n",
              "    }\n",
              "\n",
              "    .dataframe tbody tr th {\n",
              "        vertical-align: top;\n",
              "    }\n",
              "\n",
              "    .dataframe thead th {\n",
              "        text-align: right;\n",
              "    }\n",
              "</style>\n",
              "<table border=\"1\" class=\"dataframe\">\n",
              "  <thead>\n",
              "    <tr style=\"text-align: right;\">\n",
              "      <th></th>\n",
              "      <th>hours-per-week</th>\n",
              "    </tr>\n",
              "    <tr>\n",
              "      <th>hours-per-week</th>\n",
              "      <th></th>\n",
              "    </tr>\n",
              "  </thead>\n",
              "  <tbody>\n",
              "    <tr>\n",
              "      <th>1</th>\n",
              "      <td>7</td>\n",
              "    </tr>\n",
              "    <tr>\n",
              "      <th>2</th>\n",
              "      <td>15</td>\n",
              "    </tr>\n",
              "    <tr>\n",
              "      <th>3</th>\n",
              "      <td>24</td>\n",
              "    </tr>\n",
              "    <tr>\n",
              "      <th>4</th>\n",
              "      <td>27</td>\n",
              "    </tr>\n",
              "    <tr>\n",
              "      <th>5</th>\n",
              "      <td>38</td>\n",
              "    </tr>\n",
              "  </tbody>\n",
              "</table>\n",
              "</div>"
            ],
            "text/plain": [
              "                hours-per-week\n",
              "hours-per-week                \n",
              "1                            7\n",
              "2                           15\n",
              "3                           24\n",
              "4                           27\n",
              "5                           38"
            ]
          },
          "metadata": {
            "tags": []
          },
          "execution_count": 77
        }
      ]
    },
    {
      "metadata": {
        "id": "QUr7vhN0Ia_b",
        "colab_type": "code",
        "outputId": "c9f50bdd-d2a9-4e59-fc9c-f328e0e6c375",
        "colab": {
          "base_uri": "https://localhost:8080/",
          "height": 235
        }
      },
      "cell_type": "code",
      "source": [
        "missing_values(Table, \"native-country\").head()"
      ],
      "execution_count": 0,
      "outputs": [
        {
          "output_type": "execute_result",
          "data": {
            "text/html": [
              "<div>\n",
              "<style scoped>\n",
              "    .dataframe tbody tr th:only-of-type {\n",
              "        vertical-align: middle;\n",
              "    }\n",
              "\n",
              "    .dataframe tbody tr th {\n",
              "        vertical-align: top;\n",
              "    }\n",
              "\n",
              "    .dataframe thead th {\n",
              "        text-align: right;\n",
              "    }\n",
              "</style>\n",
              "<table border=\"1\" class=\"dataframe\">\n",
              "  <thead>\n",
              "    <tr style=\"text-align: right;\">\n",
              "      <th></th>\n",
              "      <th>native-country</th>\n",
              "    </tr>\n",
              "    <tr>\n",
              "      <th>native-country</th>\n",
              "      <th></th>\n",
              "    </tr>\n",
              "  </thead>\n",
              "  <tbody>\n",
              "    <tr>\n",
              "      <th>Cambodia</th>\n",
              "      <td>18</td>\n",
              "    </tr>\n",
              "    <tr>\n",
              "      <th>Canada</th>\n",
              "      <td>107</td>\n",
              "    </tr>\n",
              "    <tr>\n",
              "      <th>China</th>\n",
              "      <td>68</td>\n",
              "    </tr>\n",
              "    <tr>\n",
              "      <th>Columbia</th>\n",
              "      <td>56</td>\n",
              "    </tr>\n",
              "    <tr>\n",
              "      <th>Cuba</th>\n",
              "      <td>92</td>\n",
              "    </tr>\n",
              "  </tbody>\n",
              "</table>\n",
              "</div>"
            ],
            "text/plain": [
              "                native-country\n",
              "native-country                \n",
              " Cambodia                   18\n",
              " Canada                    107\n",
              " China                      68\n",
              " Columbia                   56\n",
              " Cuba                       92"
            ]
          },
          "metadata": {
            "tags": []
          },
          "execution_count": 78
        }
      ]
    },
    {
      "metadata": {
        "id": "cHVzFTyvOOZO",
        "colab_type": "text"
      },
      "cell_type": "markdown",
      "source": [
        "1. In this feature we have 583 unknow values, but we don't have missing values\n",
        "2. Majority of the individuals are from United-States and only one individual is from Netherlands\n",
        "3. We dont have African native American and Europe has the highest number of people by nativity"
      ]
    },
    {
      "metadata": {
        "id": "ISUd1C6kJwNl",
        "colab_type": "code",
        "outputId": "9c4f8e1e-d3fe-4a55-bc32-79f3adcb163a",
        "colab": {
          "base_uri": "https://localhost:8080/",
          "height": 142
        }
      },
      "cell_type": "code",
      "source": [
        "missing_values(Table, \"income\")"
      ],
      "execution_count": 0,
      "outputs": [
        {
          "output_type": "execute_result",
          "data": {
            "text/html": [
              "<div>\n",
              "<style scoped>\n",
              "    .dataframe tbody tr th:only-of-type {\n",
              "        vertical-align: middle;\n",
              "    }\n",
              "\n",
              "    .dataframe tbody tr th {\n",
              "        vertical-align: top;\n",
              "    }\n",
              "\n",
              "    .dataframe thead th {\n",
              "        text-align: right;\n",
              "    }\n",
              "</style>\n",
              "<table border=\"1\" class=\"dataframe\">\n",
              "  <thead>\n",
              "    <tr style=\"text-align: right;\">\n",
              "      <th></th>\n",
              "      <th>income</th>\n",
              "    </tr>\n",
              "    <tr>\n",
              "      <th>income</th>\n",
              "      <th></th>\n",
              "    </tr>\n",
              "  </thead>\n",
              "  <tbody>\n",
              "    <tr>\n",
              "      <th>&lt;=50K</th>\n",
              "      <td>22653</td>\n",
              "    </tr>\n",
              "    <tr>\n",
              "      <th>&gt;50K</th>\n",
              "      <td>7508</td>\n",
              "    </tr>\n",
              "  </tbody>\n",
              "</table>\n",
              "</div>"
            ],
            "text/plain": [
              "        income\n",
              "income        \n",
              " <=50K   22653\n",
              " >50K     7508"
            ]
          },
          "metadata": {
            "tags": []
          },
          "execution_count": 79
        }
      ]
    },
    {
      "metadata": {
        "id": "kxDY7zQsPcJO",
        "colab_type": "text"
      },
      "cell_type": "markdown",
      "source": [
        "1. Income of the individuals which is going to be the dependent variable has no missing values or unknow for that matter\n",
        "2. More than two third of the adults earn less or equal to 50k per year"
      ]
    },
    {
      "metadata": {
        "id": "lh-Bys1qRb7N",
        "colab_type": "text"
      },
      "cell_type": "markdown",
      "source": [
        "## **Our next step is to replace the character \"?\" with value \"Nan\"** string\n",
        "So we develop a function that applies on each feature"
      ]
    },
    {
      "metadata": {
        "id": "t7MOvJ2oQWp8",
        "colab_type": "code",
        "outputId": "a5ae8222-517a-491d-db96-a8073f741066",
        "colab": {
          "base_uri": "https://localhost:8080/",
          "height": 306
        }
      },
      "cell_type": "code",
      "source": [
        "# Replacing the \"?\" to nan\n",
        "Table=Table.replace('[?]',np.NAN,regex=True)\n",
        "Table.head()"
      ],
      "execution_count": 0,
      "outputs": [
        {
          "output_type": "execute_result",
          "data": {
            "text/html": [
              "<div>\n",
              "<style scoped>\n",
              "    .dataframe tbody tr th:only-of-type {\n",
              "        vertical-align: middle;\n",
              "    }\n",
              "\n",
              "    .dataframe tbody tr th {\n",
              "        vertical-align: top;\n",
              "    }\n",
              "\n",
              "    .dataframe thead th {\n",
              "        text-align: right;\n",
              "    }\n",
              "</style>\n",
              "<table border=\"1\" class=\"dataframe\">\n",
              "  <thead>\n",
              "    <tr style=\"text-align: right;\">\n",
              "      <th></th>\n",
              "      <th>age</th>\n",
              "      <th>workclass</th>\n",
              "      <th>fnlwgt</th>\n",
              "      <th>education</th>\n",
              "      <th>education-num</th>\n",
              "      <th>marital-status</th>\n",
              "      <th>occupation</th>\n",
              "      <th>relationship</th>\n",
              "      <th>race</th>\n",
              "      <th>sex</th>\n",
              "      <th>capital-gain</th>\n",
              "      <th>capital-loss</th>\n",
              "      <th>hours-per-week</th>\n",
              "      <th>native-country</th>\n",
              "      <th>income</th>\n",
              "    </tr>\n",
              "  </thead>\n",
              "  <tbody>\n",
              "    <tr>\n",
              "      <th>0</th>\n",
              "      <td>50</td>\n",
              "      <td>Self-emp-not-inc</td>\n",
              "      <td>83311</td>\n",
              "      <td>Bachelors</td>\n",
              "      <td>13</td>\n",
              "      <td>Married-civ-spouse</td>\n",
              "      <td>Exec-managerial</td>\n",
              "      <td>Husband</td>\n",
              "      <td>White</td>\n",
              "      <td>Male</td>\n",
              "      <td>0</td>\n",
              "      <td>0</td>\n",
              "      <td>13</td>\n",
              "      <td>United-States</td>\n",
              "      <td>&lt;=50K</td>\n",
              "    </tr>\n",
              "    <tr>\n",
              "      <th>1</th>\n",
              "      <td>38</td>\n",
              "      <td>Private</td>\n",
              "      <td>215646</td>\n",
              "      <td>HS-grad</td>\n",
              "      <td>9</td>\n",
              "      <td>Divorced</td>\n",
              "      <td>Handlers-cleaners</td>\n",
              "      <td>Not-in-family</td>\n",
              "      <td>White</td>\n",
              "      <td>Male</td>\n",
              "      <td>0</td>\n",
              "      <td>0</td>\n",
              "      <td>40</td>\n",
              "      <td>United-States</td>\n",
              "      <td>&lt;=50K</td>\n",
              "    </tr>\n",
              "    <tr>\n",
              "      <th>2</th>\n",
              "      <td>53</td>\n",
              "      <td>Private</td>\n",
              "      <td>234721</td>\n",
              "      <td>11th</td>\n",
              "      <td>7</td>\n",
              "      <td>Married-civ-spouse</td>\n",
              "      <td>Handlers-cleaners</td>\n",
              "      <td>Husband</td>\n",
              "      <td>Black</td>\n",
              "      <td>Male</td>\n",
              "      <td>0</td>\n",
              "      <td>0</td>\n",
              "      <td>40</td>\n",
              "      <td>United-States</td>\n",
              "      <td>&lt;=50K</td>\n",
              "    </tr>\n",
              "    <tr>\n",
              "      <th>3</th>\n",
              "      <td>28</td>\n",
              "      <td>Private</td>\n",
              "      <td>338409</td>\n",
              "      <td>Bachelors</td>\n",
              "      <td>13</td>\n",
              "      <td>Married-civ-spouse</td>\n",
              "      <td>Prof-specialty</td>\n",
              "      <td>Wife</td>\n",
              "      <td>Black</td>\n",
              "      <td>Female</td>\n",
              "      <td>0</td>\n",
              "      <td>0</td>\n",
              "      <td>40</td>\n",
              "      <td>Cuba</td>\n",
              "      <td>&lt;=50K</td>\n",
              "    </tr>\n",
              "    <tr>\n",
              "      <th>4</th>\n",
              "      <td>37</td>\n",
              "      <td>Private</td>\n",
              "      <td>284582</td>\n",
              "      <td>Masters</td>\n",
              "      <td>14</td>\n",
              "      <td>Married-civ-spouse</td>\n",
              "      <td>Exec-managerial</td>\n",
              "      <td>Wife</td>\n",
              "      <td>White</td>\n",
              "      <td>Female</td>\n",
              "      <td>0</td>\n",
              "      <td>0</td>\n",
              "      <td>40</td>\n",
              "      <td>United-States</td>\n",
              "      <td>&lt;=50K</td>\n",
              "    </tr>\n",
              "  </tbody>\n",
              "</table>\n",
              "</div>"
            ],
            "text/plain": [
              "   age          workclass  fnlwgt   education  education-num  \\\n",
              "0   50   Self-emp-not-inc   83311   Bachelors             13   \n",
              "1   38            Private  215646     HS-grad              9   \n",
              "2   53            Private  234721        11th              7   \n",
              "3   28            Private  338409   Bachelors             13   \n",
              "4   37            Private  284582     Masters             14   \n",
              "\n",
              "        marital-status          occupation    relationship    race      sex  \\\n",
              "0   Married-civ-spouse     Exec-managerial         Husband   White     Male   \n",
              "1             Divorced   Handlers-cleaners   Not-in-family   White     Male   \n",
              "2   Married-civ-spouse   Handlers-cleaners         Husband   Black     Male   \n",
              "3   Married-civ-spouse      Prof-specialty            Wife   Black   Female   \n",
              "4   Married-civ-spouse     Exec-managerial            Wife   White   Female   \n",
              "\n",
              "   capital-gain  capital-loss  hours-per-week  native-country  income  \n",
              "0             0             0              13   United-States   <=50K  \n",
              "1             0             0              40   United-States   <=50K  \n",
              "2             0             0              40   United-States   <=50K  \n",
              "3             0             0              40            Cuba   <=50K  \n",
              "4             0             0              40   United-States   <=50K  "
            ]
          },
          "metadata": {
            "tags": []
          },
          "execution_count": 80
        }
      ]
    },
    {
      "metadata": {
        "id": "i8xuZo6PQWsX",
        "colab_type": "code",
        "outputId": "e45f4cfd-f1d0-4e11-ff9e-2bb5bd7b828e",
        "colab": {
          "base_uri": "https://localhost:8080/",
          "height": 306
        }
      },
      "cell_type": "code",
      "source": [
        "Table = Table.dropna()\n",
        "Table.head()"
      ],
      "execution_count": 0,
      "outputs": [
        {
          "output_type": "execute_result",
          "data": {
            "text/html": [
              "<div>\n",
              "<style scoped>\n",
              "    .dataframe tbody tr th:only-of-type {\n",
              "        vertical-align: middle;\n",
              "    }\n",
              "\n",
              "    .dataframe tbody tr th {\n",
              "        vertical-align: top;\n",
              "    }\n",
              "\n",
              "    .dataframe thead th {\n",
              "        text-align: right;\n",
              "    }\n",
              "</style>\n",
              "<table border=\"1\" class=\"dataframe\">\n",
              "  <thead>\n",
              "    <tr style=\"text-align: right;\">\n",
              "      <th></th>\n",
              "      <th>age</th>\n",
              "      <th>workclass</th>\n",
              "      <th>fnlwgt</th>\n",
              "      <th>education</th>\n",
              "      <th>education-num</th>\n",
              "      <th>marital-status</th>\n",
              "      <th>occupation</th>\n",
              "      <th>relationship</th>\n",
              "      <th>race</th>\n",
              "      <th>sex</th>\n",
              "      <th>capital-gain</th>\n",
              "      <th>capital-loss</th>\n",
              "      <th>hours-per-week</th>\n",
              "      <th>native-country</th>\n",
              "      <th>income</th>\n",
              "    </tr>\n",
              "  </thead>\n",
              "  <tbody>\n",
              "    <tr>\n",
              "      <th>0</th>\n",
              "      <td>50</td>\n",
              "      <td>Self-emp-not-inc</td>\n",
              "      <td>83311</td>\n",
              "      <td>Bachelors</td>\n",
              "      <td>13</td>\n",
              "      <td>Married-civ-spouse</td>\n",
              "      <td>Exec-managerial</td>\n",
              "      <td>Husband</td>\n",
              "      <td>White</td>\n",
              "      <td>Male</td>\n",
              "      <td>0</td>\n",
              "      <td>0</td>\n",
              "      <td>13</td>\n",
              "      <td>United-States</td>\n",
              "      <td>&lt;=50K</td>\n",
              "    </tr>\n",
              "    <tr>\n",
              "      <th>1</th>\n",
              "      <td>38</td>\n",
              "      <td>Private</td>\n",
              "      <td>215646</td>\n",
              "      <td>HS-grad</td>\n",
              "      <td>9</td>\n",
              "      <td>Divorced</td>\n",
              "      <td>Handlers-cleaners</td>\n",
              "      <td>Not-in-family</td>\n",
              "      <td>White</td>\n",
              "      <td>Male</td>\n",
              "      <td>0</td>\n",
              "      <td>0</td>\n",
              "      <td>40</td>\n",
              "      <td>United-States</td>\n",
              "      <td>&lt;=50K</td>\n",
              "    </tr>\n",
              "    <tr>\n",
              "      <th>2</th>\n",
              "      <td>53</td>\n",
              "      <td>Private</td>\n",
              "      <td>234721</td>\n",
              "      <td>11th</td>\n",
              "      <td>7</td>\n",
              "      <td>Married-civ-spouse</td>\n",
              "      <td>Handlers-cleaners</td>\n",
              "      <td>Husband</td>\n",
              "      <td>Black</td>\n",
              "      <td>Male</td>\n",
              "      <td>0</td>\n",
              "      <td>0</td>\n",
              "      <td>40</td>\n",
              "      <td>United-States</td>\n",
              "      <td>&lt;=50K</td>\n",
              "    </tr>\n",
              "    <tr>\n",
              "      <th>3</th>\n",
              "      <td>28</td>\n",
              "      <td>Private</td>\n",
              "      <td>338409</td>\n",
              "      <td>Bachelors</td>\n",
              "      <td>13</td>\n",
              "      <td>Married-civ-spouse</td>\n",
              "      <td>Prof-specialty</td>\n",
              "      <td>Wife</td>\n",
              "      <td>Black</td>\n",
              "      <td>Female</td>\n",
              "      <td>0</td>\n",
              "      <td>0</td>\n",
              "      <td>40</td>\n",
              "      <td>Cuba</td>\n",
              "      <td>&lt;=50K</td>\n",
              "    </tr>\n",
              "    <tr>\n",
              "      <th>4</th>\n",
              "      <td>37</td>\n",
              "      <td>Private</td>\n",
              "      <td>284582</td>\n",
              "      <td>Masters</td>\n",
              "      <td>14</td>\n",
              "      <td>Married-civ-spouse</td>\n",
              "      <td>Exec-managerial</td>\n",
              "      <td>Wife</td>\n",
              "      <td>White</td>\n",
              "      <td>Female</td>\n",
              "      <td>0</td>\n",
              "      <td>0</td>\n",
              "      <td>40</td>\n",
              "      <td>United-States</td>\n",
              "      <td>&lt;=50K</td>\n",
              "    </tr>\n",
              "  </tbody>\n",
              "</table>\n",
              "</div>"
            ],
            "text/plain": [
              "   age          workclass  fnlwgt   education  education-num  \\\n",
              "0   50   Self-emp-not-inc   83311   Bachelors             13   \n",
              "1   38            Private  215646     HS-grad              9   \n",
              "2   53            Private  234721        11th              7   \n",
              "3   28            Private  338409   Bachelors             13   \n",
              "4   37            Private  284582     Masters             14   \n",
              "\n",
              "        marital-status          occupation    relationship    race      sex  \\\n",
              "0   Married-civ-spouse     Exec-managerial         Husband   White     Male   \n",
              "1             Divorced   Handlers-cleaners   Not-in-family   White     Male   \n",
              "2   Married-civ-spouse   Handlers-cleaners         Husband   Black     Male   \n",
              "3   Married-civ-spouse      Prof-specialty            Wife   Black   Female   \n",
              "4   Married-civ-spouse     Exec-managerial            Wife   White   Female   \n",
              "\n",
              "   capital-gain  capital-loss  hours-per-week  native-country  income  \n",
              "0             0             0              13   United-States   <=50K  \n",
              "1             0             0              40   United-States   <=50K  \n",
              "2             0             0              40   United-States   <=50K  \n",
              "3             0             0              40            Cuba   <=50K  \n",
              "4             0             0              40   United-States   <=50K  "
            ]
          },
          "metadata": {
            "tags": []
          },
          "execution_count": 81
        }
      ]
    },
    {
      "metadata": {
        "id": "6jCxM3lQV36W",
        "colab_type": "code",
        "outputId": "d912e36f-e386-462b-ea2b-3bbfff3795a6",
        "colab": {
          "base_uri": "https://localhost:8080/",
          "height": 306
        }
      },
      "cell_type": "code",
      "source": [
        "Table.head()"
      ],
      "execution_count": 0,
      "outputs": [
        {
          "output_type": "execute_result",
          "data": {
            "text/html": [
              "<div>\n",
              "<style scoped>\n",
              "    .dataframe tbody tr th:only-of-type {\n",
              "        vertical-align: middle;\n",
              "    }\n",
              "\n",
              "    .dataframe tbody tr th {\n",
              "        vertical-align: top;\n",
              "    }\n",
              "\n",
              "    .dataframe thead th {\n",
              "        text-align: right;\n",
              "    }\n",
              "</style>\n",
              "<table border=\"1\" class=\"dataframe\">\n",
              "  <thead>\n",
              "    <tr style=\"text-align: right;\">\n",
              "      <th></th>\n",
              "      <th>age</th>\n",
              "      <th>workclass</th>\n",
              "      <th>fnlwgt</th>\n",
              "      <th>education</th>\n",
              "      <th>education-num</th>\n",
              "      <th>marital-status</th>\n",
              "      <th>occupation</th>\n",
              "      <th>relationship</th>\n",
              "      <th>race</th>\n",
              "      <th>sex</th>\n",
              "      <th>capital-gain</th>\n",
              "      <th>capital-loss</th>\n",
              "      <th>hours-per-week</th>\n",
              "      <th>native-country</th>\n",
              "      <th>income</th>\n",
              "    </tr>\n",
              "  </thead>\n",
              "  <tbody>\n",
              "    <tr>\n",
              "      <th>0</th>\n",
              "      <td>50</td>\n",
              "      <td>Self-emp-not-inc</td>\n",
              "      <td>83311</td>\n",
              "      <td>Bachelors</td>\n",
              "      <td>13</td>\n",
              "      <td>Married-civ-spouse</td>\n",
              "      <td>Exec-managerial</td>\n",
              "      <td>Husband</td>\n",
              "      <td>White</td>\n",
              "      <td>Male</td>\n",
              "      <td>0</td>\n",
              "      <td>0</td>\n",
              "      <td>13</td>\n",
              "      <td>United-States</td>\n",
              "      <td>&lt;=50K</td>\n",
              "    </tr>\n",
              "    <tr>\n",
              "      <th>1</th>\n",
              "      <td>38</td>\n",
              "      <td>Private</td>\n",
              "      <td>215646</td>\n",
              "      <td>HS-grad</td>\n",
              "      <td>9</td>\n",
              "      <td>Divorced</td>\n",
              "      <td>Handlers-cleaners</td>\n",
              "      <td>Not-in-family</td>\n",
              "      <td>White</td>\n",
              "      <td>Male</td>\n",
              "      <td>0</td>\n",
              "      <td>0</td>\n",
              "      <td>40</td>\n",
              "      <td>United-States</td>\n",
              "      <td>&lt;=50K</td>\n",
              "    </tr>\n",
              "    <tr>\n",
              "      <th>2</th>\n",
              "      <td>53</td>\n",
              "      <td>Private</td>\n",
              "      <td>234721</td>\n",
              "      <td>11th</td>\n",
              "      <td>7</td>\n",
              "      <td>Married-civ-spouse</td>\n",
              "      <td>Handlers-cleaners</td>\n",
              "      <td>Husband</td>\n",
              "      <td>Black</td>\n",
              "      <td>Male</td>\n",
              "      <td>0</td>\n",
              "      <td>0</td>\n",
              "      <td>40</td>\n",
              "      <td>United-States</td>\n",
              "      <td>&lt;=50K</td>\n",
              "    </tr>\n",
              "    <tr>\n",
              "      <th>3</th>\n",
              "      <td>28</td>\n",
              "      <td>Private</td>\n",
              "      <td>338409</td>\n",
              "      <td>Bachelors</td>\n",
              "      <td>13</td>\n",
              "      <td>Married-civ-spouse</td>\n",
              "      <td>Prof-specialty</td>\n",
              "      <td>Wife</td>\n",
              "      <td>Black</td>\n",
              "      <td>Female</td>\n",
              "      <td>0</td>\n",
              "      <td>0</td>\n",
              "      <td>40</td>\n",
              "      <td>Cuba</td>\n",
              "      <td>&lt;=50K</td>\n",
              "    </tr>\n",
              "    <tr>\n",
              "      <th>4</th>\n",
              "      <td>37</td>\n",
              "      <td>Private</td>\n",
              "      <td>284582</td>\n",
              "      <td>Masters</td>\n",
              "      <td>14</td>\n",
              "      <td>Married-civ-spouse</td>\n",
              "      <td>Exec-managerial</td>\n",
              "      <td>Wife</td>\n",
              "      <td>White</td>\n",
              "      <td>Female</td>\n",
              "      <td>0</td>\n",
              "      <td>0</td>\n",
              "      <td>40</td>\n",
              "      <td>United-States</td>\n",
              "      <td>&lt;=50K</td>\n",
              "    </tr>\n",
              "  </tbody>\n",
              "</table>\n",
              "</div>"
            ],
            "text/plain": [
              "   age          workclass  fnlwgt   education  education-num  \\\n",
              "0   50   Self-emp-not-inc   83311   Bachelors             13   \n",
              "1   38            Private  215646     HS-grad              9   \n",
              "2   53            Private  234721        11th              7   \n",
              "3   28            Private  338409   Bachelors             13   \n",
              "4   37            Private  284582     Masters             14   \n",
              "\n",
              "        marital-status          occupation    relationship    race      sex  \\\n",
              "0   Married-civ-spouse     Exec-managerial         Husband   White     Male   \n",
              "1             Divorced   Handlers-cleaners   Not-in-family   White     Male   \n",
              "2   Married-civ-spouse   Handlers-cleaners         Husband   Black     Male   \n",
              "3   Married-civ-spouse      Prof-specialty            Wife   Black   Female   \n",
              "4   Married-civ-spouse     Exec-managerial            Wife   White   Female   \n",
              "\n",
              "   capital-gain  capital-loss  hours-per-week  native-country  income  \n",
              "0             0             0              13   United-States   <=50K  \n",
              "1             0             0              40   United-States   <=50K  \n",
              "2             0             0              40   United-States   <=50K  \n",
              "3             0             0              40            Cuba   <=50K  \n",
              "4             0             0              40   United-States   <=50K  "
            ]
          },
          "metadata": {
            "tags": []
          },
          "execution_count": 82
        }
      ]
    },
    {
      "metadata": {
        "id": "haPii6fUV39S",
        "colab_type": "code",
        "outputId": "7fee863b-faee-4b5a-a167-13a95308d20d",
        "colab": {
          "base_uri": "https://localhost:8080/",
          "height": 306
        }
      },
      "cell_type": "code",
      "source": [
        "Table.tail()"
      ],
      "execution_count": 0,
      "outputs": [
        {
          "output_type": "execute_result",
          "data": {
            "text/html": [
              "<div>\n",
              "<style scoped>\n",
              "    .dataframe tbody tr th:only-of-type {\n",
              "        vertical-align: middle;\n",
              "    }\n",
              "\n",
              "    .dataframe tbody tr th {\n",
              "        vertical-align: top;\n",
              "    }\n",
              "\n",
              "    .dataframe thead th {\n",
              "        text-align: right;\n",
              "    }\n",
              "</style>\n",
              "<table border=\"1\" class=\"dataframe\">\n",
              "  <thead>\n",
              "    <tr style=\"text-align: right;\">\n",
              "      <th></th>\n",
              "      <th>age</th>\n",
              "      <th>workclass</th>\n",
              "      <th>fnlwgt</th>\n",
              "      <th>education</th>\n",
              "      <th>education-num</th>\n",
              "      <th>marital-status</th>\n",
              "      <th>occupation</th>\n",
              "      <th>relationship</th>\n",
              "      <th>race</th>\n",
              "      <th>sex</th>\n",
              "      <th>capital-gain</th>\n",
              "      <th>capital-loss</th>\n",
              "      <th>hours-per-week</th>\n",
              "      <th>native-country</th>\n",
              "      <th>income</th>\n",
              "    </tr>\n",
              "  </thead>\n",
              "  <tbody>\n",
              "    <tr>\n",
              "      <th>32555</th>\n",
              "      <td>27</td>\n",
              "      <td>Private</td>\n",
              "      <td>257302</td>\n",
              "      <td>Assoc-acdm</td>\n",
              "      <td>12</td>\n",
              "      <td>Married-civ-spouse</td>\n",
              "      <td>Tech-support</td>\n",
              "      <td>Wife</td>\n",
              "      <td>White</td>\n",
              "      <td>Female</td>\n",
              "      <td>0</td>\n",
              "      <td>0</td>\n",
              "      <td>38</td>\n",
              "      <td>United-States</td>\n",
              "      <td>&lt;=50K</td>\n",
              "    </tr>\n",
              "    <tr>\n",
              "      <th>32556</th>\n",
              "      <td>40</td>\n",
              "      <td>Private</td>\n",
              "      <td>154374</td>\n",
              "      <td>HS-grad</td>\n",
              "      <td>9</td>\n",
              "      <td>Married-civ-spouse</td>\n",
              "      <td>Machine-op-inspct</td>\n",
              "      <td>Husband</td>\n",
              "      <td>White</td>\n",
              "      <td>Male</td>\n",
              "      <td>0</td>\n",
              "      <td>0</td>\n",
              "      <td>40</td>\n",
              "      <td>United-States</td>\n",
              "      <td>&gt;50K</td>\n",
              "    </tr>\n",
              "    <tr>\n",
              "      <th>32557</th>\n",
              "      <td>58</td>\n",
              "      <td>Private</td>\n",
              "      <td>151910</td>\n",
              "      <td>HS-grad</td>\n",
              "      <td>9</td>\n",
              "      <td>Widowed</td>\n",
              "      <td>Adm-clerical</td>\n",
              "      <td>Unmarried</td>\n",
              "      <td>White</td>\n",
              "      <td>Female</td>\n",
              "      <td>0</td>\n",
              "      <td>0</td>\n",
              "      <td>40</td>\n",
              "      <td>United-States</td>\n",
              "      <td>&lt;=50K</td>\n",
              "    </tr>\n",
              "    <tr>\n",
              "      <th>32558</th>\n",
              "      <td>22</td>\n",
              "      <td>Private</td>\n",
              "      <td>201490</td>\n",
              "      <td>HS-grad</td>\n",
              "      <td>9</td>\n",
              "      <td>Never-married</td>\n",
              "      <td>Adm-clerical</td>\n",
              "      <td>Own-child</td>\n",
              "      <td>White</td>\n",
              "      <td>Male</td>\n",
              "      <td>0</td>\n",
              "      <td>0</td>\n",
              "      <td>20</td>\n",
              "      <td>United-States</td>\n",
              "      <td>&lt;=50K</td>\n",
              "    </tr>\n",
              "    <tr>\n",
              "      <th>32559</th>\n",
              "      <td>52</td>\n",
              "      <td>Self-emp-inc</td>\n",
              "      <td>287927</td>\n",
              "      <td>HS-grad</td>\n",
              "      <td>9</td>\n",
              "      <td>Married-civ-spouse</td>\n",
              "      <td>Exec-managerial</td>\n",
              "      <td>Wife</td>\n",
              "      <td>White</td>\n",
              "      <td>Female</td>\n",
              "      <td>15024</td>\n",
              "      <td>0</td>\n",
              "      <td>40</td>\n",
              "      <td>United-States</td>\n",
              "      <td>&gt;50K</td>\n",
              "    </tr>\n",
              "  </tbody>\n",
              "</table>\n",
              "</div>"
            ],
            "text/plain": [
              "       age      workclass  fnlwgt    education  education-num  \\\n",
              "32555   27        Private  257302   Assoc-acdm             12   \n",
              "32556   40        Private  154374      HS-grad              9   \n",
              "32557   58        Private  151910      HS-grad              9   \n",
              "32558   22        Private  201490      HS-grad              9   \n",
              "32559   52   Self-emp-inc  287927      HS-grad              9   \n",
              "\n",
              "            marital-status          occupation relationship    race      sex  \\\n",
              "32555   Married-civ-spouse        Tech-support         Wife   White   Female   \n",
              "32556   Married-civ-spouse   Machine-op-inspct      Husband   White     Male   \n",
              "32557              Widowed        Adm-clerical    Unmarried   White   Female   \n",
              "32558        Never-married        Adm-clerical    Own-child   White     Male   \n",
              "32559   Married-civ-spouse     Exec-managerial         Wife   White   Female   \n",
              "\n",
              "       capital-gain  capital-loss  hours-per-week  native-country  income  \n",
              "32555             0             0              38   United-States   <=50K  \n",
              "32556             0             0              40   United-States    >50K  \n",
              "32557             0             0              40   United-States   <=50K  \n",
              "32558             0             0              20   United-States   <=50K  \n",
              "32559         15024             0              40   United-States    >50K  "
            ]
          },
          "metadata": {
            "tags": []
          },
          "execution_count": 83
        }
      ]
    },
    {
      "metadata": {
        "id": "V6rcqgvqP_uA",
        "colab_type": "code",
        "outputId": "ede561b6-8d9e-442f-8442-61117377f0ef",
        "colab": {
          "base_uri": "https://localhost:8080/",
          "height": 306
        }
      },
      "cell_type": "code",
      "source": [
        "# deleting rows with nan values \n",
        "Table= Table.dropna()\n",
        "Table.head()"
      ],
      "execution_count": 0,
      "outputs": [
        {
          "output_type": "execute_result",
          "data": {
            "text/html": [
              "<div>\n",
              "<style scoped>\n",
              "    .dataframe tbody tr th:only-of-type {\n",
              "        vertical-align: middle;\n",
              "    }\n",
              "\n",
              "    .dataframe tbody tr th {\n",
              "        vertical-align: top;\n",
              "    }\n",
              "\n",
              "    .dataframe thead th {\n",
              "        text-align: right;\n",
              "    }\n",
              "</style>\n",
              "<table border=\"1\" class=\"dataframe\">\n",
              "  <thead>\n",
              "    <tr style=\"text-align: right;\">\n",
              "      <th></th>\n",
              "      <th>age</th>\n",
              "      <th>workclass</th>\n",
              "      <th>fnlwgt</th>\n",
              "      <th>education</th>\n",
              "      <th>education-num</th>\n",
              "      <th>marital-status</th>\n",
              "      <th>occupation</th>\n",
              "      <th>relationship</th>\n",
              "      <th>race</th>\n",
              "      <th>sex</th>\n",
              "      <th>capital-gain</th>\n",
              "      <th>capital-loss</th>\n",
              "      <th>hours-per-week</th>\n",
              "      <th>native-country</th>\n",
              "      <th>income</th>\n",
              "    </tr>\n",
              "  </thead>\n",
              "  <tbody>\n",
              "    <tr>\n",
              "      <th>0</th>\n",
              "      <td>50</td>\n",
              "      <td>Self-emp-not-inc</td>\n",
              "      <td>83311</td>\n",
              "      <td>Bachelors</td>\n",
              "      <td>13</td>\n",
              "      <td>Married-civ-spouse</td>\n",
              "      <td>Exec-managerial</td>\n",
              "      <td>Husband</td>\n",
              "      <td>White</td>\n",
              "      <td>Male</td>\n",
              "      <td>0</td>\n",
              "      <td>0</td>\n",
              "      <td>13</td>\n",
              "      <td>United-States</td>\n",
              "      <td>&lt;=50K</td>\n",
              "    </tr>\n",
              "    <tr>\n",
              "      <th>1</th>\n",
              "      <td>38</td>\n",
              "      <td>Private</td>\n",
              "      <td>215646</td>\n",
              "      <td>HS-grad</td>\n",
              "      <td>9</td>\n",
              "      <td>Divorced</td>\n",
              "      <td>Handlers-cleaners</td>\n",
              "      <td>Not-in-family</td>\n",
              "      <td>White</td>\n",
              "      <td>Male</td>\n",
              "      <td>0</td>\n",
              "      <td>0</td>\n",
              "      <td>40</td>\n",
              "      <td>United-States</td>\n",
              "      <td>&lt;=50K</td>\n",
              "    </tr>\n",
              "    <tr>\n",
              "      <th>2</th>\n",
              "      <td>53</td>\n",
              "      <td>Private</td>\n",
              "      <td>234721</td>\n",
              "      <td>11th</td>\n",
              "      <td>7</td>\n",
              "      <td>Married-civ-spouse</td>\n",
              "      <td>Handlers-cleaners</td>\n",
              "      <td>Husband</td>\n",
              "      <td>Black</td>\n",
              "      <td>Male</td>\n",
              "      <td>0</td>\n",
              "      <td>0</td>\n",
              "      <td>40</td>\n",
              "      <td>United-States</td>\n",
              "      <td>&lt;=50K</td>\n",
              "    </tr>\n",
              "    <tr>\n",
              "      <th>3</th>\n",
              "      <td>28</td>\n",
              "      <td>Private</td>\n",
              "      <td>338409</td>\n",
              "      <td>Bachelors</td>\n",
              "      <td>13</td>\n",
              "      <td>Married-civ-spouse</td>\n",
              "      <td>Prof-specialty</td>\n",
              "      <td>Wife</td>\n",
              "      <td>Black</td>\n",
              "      <td>Female</td>\n",
              "      <td>0</td>\n",
              "      <td>0</td>\n",
              "      <td>40</td>\n",
              "      <td>Cuba</td>\n",
              "      <td>&lt;=50K</td>\n",
              "    </tr>\n",
              "    <tr>\n",
              "      <th>4</th>\n",
              "      <td>37</td>\n",
              "      <td>Private</td>\n",
              "      <td>284582</td>\n",
              "      <td>Masters</td>\n",
              "      <td>14</td>\n",
              "      <td>Married-civ-spouse</td>\n",
              "      <td>Exec-managerial</td>\n",
              "      <td>Wife</td>\n",
              "      <td>White</td>\n",
              "      <td>Female</td>\n",
              "      <td>0</td>\n",
              "      <td>0</td>\n",
              "      <td>40</td>\n",
              "      <td>United-States</td>\n",
              "      <td>&lt;=50K</td>\n",
              "    </tr>\n",
              "  </tbody>\n",
              "</table>\n",
              "</div>"
            ],
            "text/plain": [
              "   age          workclass  fnlwgt   education  education-num  \\\n",
              "0   50   Self-emp-not-inc   83311   Bachelors             13   \n",
              "1   38            Private  215646     HS-grad              9   \n",
              "2   53            Private  234721        11th              7   \n",
              "3   28            Private  338409   Bachelors             13   \n",
              "4   37            Private  284582     Masters             14   \n",
              "\n",
              "        marital-status          occupation    relationship    race      sex  \\\n",
              "0   Married-civ-spouse     Exec-managerial         Husband   White     Male   \n",
              "1             Divorced   Handlers-cleaners   Not-in-family   White     Male   \n",
              "2   Married-civ-spouse   Handlers-cleaners         Husband   Black     Male   \n",
              "3   Married-civ-spouse      Prof-specialty            Wife   Black   Female   \n",
              "4   Married-civ-spouse     Exec-managerial            Wife   White   Female   \n",
              "\n",
              "   capital-gain  capital-loss  hours-per-week  native-country  income  \n",
              "0             0             0              13   United-States   <=50K  \n",
              "1             0             0              40   United-States   <=50K  \n",
              "2             0             0              40   United-States   <=50K  \n",
              "3             0             0              40            Cuba   <=50K  \n",
              "4             0             0              40   United-States   <=50K  "
            ]
          },
          "metadata": {
            "tags": []
          },
          "execution_count": 84
        }
      ]
    },
    {
      "metadata": {
        "id": "cXmV7AWhWMse",
        "colab_type": "text"
      },
      "cell_type": "markdown",
      "source": [
        "# **Lets now drop features and rows that aren't relevant **\n",
        "\n",
        "fnlwgt is not relevant to our objective. So it is necessary to drop it from Table"
      ]
    },
    {
      "metadata": {
        "id": "4XPvcGAbV3_v",
        "colab_type": "code",
        "outputId": "d6dca8d7-494e-471e-93f5-2f0da3589bae",
        "colab": {
          "base_uri": "https://localhost:8080/",
          "height": 306
        }
      },
      "cell_type": "code",
      "source": [
        "Table1 = Table.drop(columns=[\"fnlwgt\"])\n",
        "Table1.head()"
      ],
      "execution_count": 0,
      "outputs": [
        {
          "output_type": "execute_result",
          "data": {
            "text/html": [
              "<div>\n",
              "<style scoped>\n",
              "    .dataframe tbody tr th:only-of-type {\n",
              "        vertical-align: middle;\n",
              "    }\n",
              "\n",
              "    .dataframe tbody tr th {\n",
              "        vertical-align: top;\n",
              "    }\n",
              "\n",
              "    .dataframe thead th {\n",
              "        text-align: right;\n",
              "    }\n",
              "</style>\n",
              "<table border=\"1\" class=\"dataframe\">\n",
              "  <thead>\n",
              "    <tr style=\"text-align: right;\">\n",
              "      <th></th>\n",
              "      <th>age</th>\n",
              "      <th>workclass</th>\n",
              "      <th>education</th>\n",
              "      <th>education-num</th>\n",
              "      <th>marital-status</th>\n",
              "      <th>occupation</th>\n",
              "      <th>relationship</th>\n",
              "      <th>race</th>\n",
              "      <th>sex</th>\n",
              "      <th>capital-gain</th>\n",
              "      <th>capital-loss</th>\n",
              "      <th>hours-per-week</th>\n",
              "      <th>native-country</th>\n",
              "      <th>income</th>\n",
              "    </tr>\n",
              "  </thead>\n",
              "  <tbody>\n",
              "    <tr>\n",
              "      <th>0</th>\n",
              "      <td>50</td>\n",
              "      <td>Self-emp-not-inc</td>\n",
              "      <td>Bachelors</td>\n",
              "      <td>13</td>\n",
              "      <td>Married-civ-spouse</td>\n",
              "      <td>Exec-managerial</td>\n",
              "      <td>Husband</td>\n",
              "      <td>White</td>\n",
              "      <td>Male</td>\n",
              "      <td>0</td>\n",
              "      <td>0</td>\n",
              "      <td>13</td>\n",
              "      <td>United-States</td>\n",
              "      <td>&lt;=50K</td>\n",
              "    </tr>\n",
              "    <tr>\n",
              "      <th>1</th>\n",
              "      <td>38</td>\n",
              "      <td>Private</td>\n",
              "      <td>HS-grad</td>\n",
              "      <td>9</td>\n",
              "      <td>Divorced</td>\n",
              "      <td>Handlers-cleaners</td>\n",
              "      <td>Not-in-family</td>\n",
              "      <td>White</td>\n",
              "      <td>Male</td>\n",
              "      <td>0</td>\n",
              "      <td>0</td>\n",
              "      <td>40</td>\n",
              "      <td>United-States</td>\n",
              "      <td>&lt;=50K</td>\n",
              "    </tr>\n",
              "    <tr>\n",
              "      <th>2</th>\n",
              "      <td>53</td>\n",
              "      <td>Private</td>\n",
              "      <td>11th</td>\n",
              "      <td>7</td>\n",
              "      <td>Married-civ-spouse</td>\n",
              "      <td>Handlers-cleaners</td>\n",
              "      <td>Husband</td>\n",
              "      <td>Black</td>\n",
              "      <td>Male</td>\n",
              "      <td>0</td>\n",
              "      <td>0</td>\n",
              "      <td>40</td>\n",
              "      <td>United-States</td>\n",
              "      <td>&lt;=50K</td>\n",
              "    </tr>\n",
              "    <tr>\n",
              "      <th>3</th>\n",
              "      <td>28</td>\n",
              "      <td>Private</td>\n",
              "      <td>Bachelors</td>\n",
              "      <td>13</td>\n",
              "      <td>Married-civ-spouse</td>\n",
              "      <td>Prof-specialty</td>\n",
              "      <td>Wife</td>\n",
              "      <td>Black</td>\n",
              "      <td>Female</td>\n",
              "      <td>0</td>\n",
              "      <td>0</td>\n",
              "      <td>40</td>\n",
              "      <td>Cuba</td>\n",
              "      <td>&lt;=50K</td>\n",
              "    </tr>\n",
              "    <tr>\n",
              "      <th>4</th>\n",
              "      <td>37</td>\n",
              "      <td>Private</td>\n",
              "      <td>Masters</td>\n",
              "      <td>14</td>\n",
              "      <td>Married-civ-spouse</td>\n",
              "      <td>Exec-managerial</td>\n",
              "      <td>Wife</td>\n",
              "      <td>White</td>\n",
              "      <td>Female</td>\n",
              "      <td>0</td>\n",
              "      <td>0</td>\n",
              "      <td>40</td>\n",
              "      <td>United-States</td>\n",
              "      <td>&lt;=50K</td>\n",
              "    </tr>\n",
              "  </tbody>\n",
              "</table>\n",
              "</div>"
            ],
            "text/plain": [
              "   age          workclass   education  education-num       marital-status  \\\n",
              "0   50   Self-emp-not-inc   Bachelors             13   Married-civ-spouse   \n",
              "1   38            Private     HS-grad              9             Divorced   \n",
              "2   53            Private        11th              7   Married-civ-spouse   \n",
              "3   28            Private   Bachelors             13   Married-civ-spouse   \n",
              "4   37            Private     Masters             14   Married-civ-spouse   \n",
              "\n",
              "           occupation    relationship    race      sex  capital-gain  \\\n",
              "0     Exec-managerial         Husband   White     Male             0   \n",
              "1   Handlers-cleaners   Not-in-family   White     Male             0   \n",
              "2   Handlers-cleaners         Husband   Black     Male             0   \n",
              "3      Prof-specialty            Wife   Black   Female             0   \n",
              "4     Exec-managerial            Wife   White   Female             0   \n",
              "\n",
              "   capital-loss  hours-per-week  native-country  income  \n",
              "0             0              13   United-States   <=50K  \n",
              "1             0              40   United-States   <=50K  \n",
              "2             0              40   United-States   <=50K  \n",
              "3             0              40            Cuba   <=50K  \n",
              "4             0              40   United-States   <=50K  "
            ]
          },
          "metadata": {
            "tags": []
          },
          "execution_count": 85
        }
      ]
    },
    {
      "metadata": {
        "id": "MMeJMiUhUEE3",
        "colab_type": "text"
      },
      "cell_type": "markdown",
      "source": [
        "# **Check if all the nan values and the irrelevant variable are deleted**"
      ]
    },
    {
      "metadata": {
        "id": "O2pKeXBFd90i",
        "colab_type": "code",
        "outputId": "63b6b279-2a61-4cb0-da1c-6dd612e27cb6",
        "colab": {
          "base_uri": "https://localhost:8080/",
          "height": 297
        }
      },
      "cell_type": "code",
      "source": [
        "missing_values(Table1, \"workclass\")"
      ],
      "execution_count": 0,
      "outputs": [
        {
          "output_type": "execute_result",
          "data": {
            "text/html": [
              "<div>\n",
              "<style scoped>\n",
              "    .dataframe tbody tr th:only-of-type {\n",
              "        vertical-align: middle;\n",
              "    }\n",
              "\n",
              "    .dataframe tbody tr th {\n",
              "        vertical-align: top;\n",
              "    }\n",
              "\n",
              "    .dataframe thead th {\n",
              "        text-align: right;\n",
              "    }\n",
              "</style>\n",
              "<table border=\"1\" class=\"dataframe\">\n",
              "  <thead>\n",
              "    <tr style=\"text-align: right;\">\n",
              "      <th></th>\n",
              "      <th>workclass</th>\n",
              "    </tr>\n",
              "    <tr>\n",
              "      <th>workclass</th>\n",
              "      <th></th>\n",
              "    </tr>\n",
              "  </thead>\n",
              "  <tbody>\n",
              "    <tr>\n",
              "      <th>Federal-gov</th>\n",
              "      <td>943</td>\n",
              "    </tr>\n",
              "    <tr>\n",
              "      <th>Local-gov</th>\n",
              "      <td>2067</td>\n",
              "    </tr>\n",
              "    <tr>\n",
              "      <th>Private</th>\n",
              "      <td>22286</td>\n",
              "    </tr>\n",
              "    <tr>\n",
              "      <th>Self-emp-inc</th>\n",
              "      <td>1074</td>\n",
              "    </tr>\n",
              "    <tr>\n",
              "      <th>Self-emp-not-inc</th>\n",
              "      <td>2499</td>\n",
              "    </tr>\n",
              "    <tr>\n",
              "      <th>State-gov</th>\n",
              "      <td>1278</td>\n",
              "    </tr>\n",
              "    <tr>\n",
              "      <th>Without-pay</th>\n",
              "      <td>14</td>\n",
              "    </tr>\n",
              "  </tbody>\n",
              "</table>\n",
              "</div>"
            ],
            "text/plain": [
              "                   workclass\n",
              "workclass                   \n",
              " Federal-gov             943\n",
              " Local-gov              2067\n",
              " Private               22286\n",
              " Self-emp-inc           1074\n",
              " Self-emp-not-inc       2499\n",
              " State-gov              1278\n",
              " Without-pay              14"
            ]
          },
          "metadata": {
            "tags": []
          },
          "execution_count": 86
        }
      ]
    },
    {
      "metadata": {
        "id": "GmVzaFTAd96C",
        "colab_type": "code",
        "outputId": "d2cbae2e-5168-4a96-aac0-b81b294f9e97",
        "colab": {
          "base_uri": "https://localhost:8080/",
          "height": 514
        }
      },
      "cell_type": "code",
      "source": [
        "missing_values(Table1, \"occupation\")"
      ],
      "execution_count": 0,
      "outputs": [
        {
          "output_type": "execute_result",
          "data": {
            "text/html": [
              "<div>\n",
              "<style scoped>\n",
              "    .dataframe tbody tr th:only-of-type {\n",
              "        vertical-align: middle;\n",
              "    }\n",
              "\n",
              "    .dataframe tbody tr th {\n",
              "        vertical-align: top;\n",
              "    }\n",
              "\n",
              "    .dataframe thead th {\n",
              "        text-align: right;\n",
              "    }\n",
              "</style>\n",
              "<table border=\"1\" class=\"dataframe\">\n",
              "  <thead>\n",
              "    <tr style=\"text-align: right;\">\n",
              "      <th></th>\n",
              "      <th>occupation</th>\n",
              "    </tr>\n",
              "    <tr>\n",
              "      <th>occupation</th>\n",
              "      <th></th>\n",
              "    </tr>\n",
              "  </thead>\n",
              "  <tbody>\n",
              "    <tr>\n",
              "      <th>Adm-clerical</th>\n",
              "      <td>3720</td>\n",
              "    </tr>\n",
              "    <tr>\n",
              "      <th>Armed-Forces</th>\n",
              "      <td>9</td>\n",
              "    </tr>\n",
              "    <tr>\n",
              "      <th>Craft-repair</th>\n",
              "      <td>4030</td>\n",
              "    </tr>\n",
              "    <tr>\n",
              "      <th>Exec-managerial</th>\n",
              "      <td>3992</td>\n",
              "    </tr>\n",
              "    <tr>\n",
              "      <th>Farming-fishing</th>\n",
              "      <td>989</td>\n",
              "    </tr>\n",
              "    <tr>\n",
              "      <th>Handlers-cleaners</th>\n",
              "      <td>1350</td>\n",
              "    </tr>\n",
              "    <tr>\n",
              "      <th>Machine-op-inspct</th>\n",
              "      <td>1966</td>\n",
              "    </tr>\n",
              "    <tr>\n",
              "      <th>Other-service</th>\n",
              "      <td>3212</td>\n",
              "    </tr>\n",
              "    <tr>\n",
              "      <th>Priv-house-serv</th>\n",
              "      <td>143</td>\n",
              "    </tr>\n",
              "    <tr>\n",
              "      <th>Prof-specialty</th>\n",
              "      <td>4038</td>\n",
              "    </tr>\n",
              "    <tr>\n",
              "      <th>Protective-serv</th>\n",
              "      <td>644</td>\n",
              "    </tr>\n",
              "    <tr>\n",
              "      <th>Sales</th>\n",
              "      <td>3584</td>\n",
              "    </tr>\n",
              "    <tr>\n",
              "      <th>Tech-support</th>\n",
              "      <td>912</td>\n",
              "    </tr>\n",
              "    <tr>\n",
              "      <th>Transport-moving</th>\n",
              "      <td>1572</td>\n",
              "    </tr>\n",
              "  </tbody>\n",
              "</table>\n",
              "</div>"
            ],
            "text/plain": [
              "                    occupation\n",
              "occupation                    \n",
              " Adm-clerical             3720\n",
              " Armed-Forces                9\n",
              " Craft-repair             4030\n",
              " Exec-managerial          3992\n",
              " Farming-fishing           989\n",
              " Handlers-cleaners        1350\n",
              " Machine-op-inspct        1966\n",
              " Other-service            3212\n",
              " Priv-house-serv           143\n",
              " Prof-specialty           4038\n",
              " Protective-serv           644\n",
              " Sales                    3584\n",
              " Tech-support              912\n",
              " Transport-moving         1572"
            ]
          },
          "metadata": {
            "tags": []
          },
          "execution_count": 87
        }
      ]
    },
    {
      "metadata": {
        "id": "oslNwkOx_ZuQ",
        "colab_type": "code",
        "outputId": "5c87e547-6ea4-437a-aac4-5dff634fef34",
        "colab": {
          "base_uri": "https://localhost:8080/",
          "height": 1351
        }
      },
      "cell_type": "code",
      "source": [
        "missing_values(Table1, \"native-country\")"
      ],
      "execution_count": 0,
      "outputs": [
        {
          "output_type": "execute_result",
          "data": {
            "text/html": [
              "<div>\n",
              "<style scoped>\n",
              "    .dataframe tbody tr th:only-of-type {\n",
              "        vertical-align: middle;\n",
              "    }\n",
              "\n",
              "    .dataframe tbody tr th {\n",
              "        vertical-align: top;\n",
              "    }\n",
              "\n",
              "    .dataframe thead th {\n",
              "        text-align: right;\n",
              "    }\n",
              "</style>\n",
              "<table border=\"1\" class=\"dataframe\">\n",
              "  <thead>\n",
              "    <tr style=\"text-align: right;\">\n",
              "      <th></th>\n",
              "      <th>native-country</th>\n",
              "    </tr>\n",
              "    <tr>\n",
              "      <th>native-country</th>\n",
              "      <th></th>\n",
              "    </tr>\n",
              "  </thead>\n",
              "  <tbody>\n",
              "    <tr>\n",
              "      <th>Cambodia</th>\n",
              "      <td>18</td>\n",
              "    </tr>\n",
              "    <tr>\n",
              "      <th>Canada</th>\n",
              "      <td>107</td>\n",
              "    </tr>\n",
              "    <tr>\n",
              "      <th>China</th>\n",
              "      <td>68</td>\n",
              "    </tr>\n",
              "    <tr>\n",
              "      <th>Columbia</th>\n",
              "      <td>56</td>\n",
              "    </tr>\n",
              "    <tr>\n",
              "      <th>Cuba</th>\n",
              "      <td>92</td>\n",
              "    </tr>\n",
              "    <tr>\n",
              "      <th>Dominican-Republic</th>\n",
              "      <td>67</td>\n",
              "    </tr>\n",
              "    <tr>\n",
              "      <th>Ecuador</th>\n",
              "      <td>27</td>\n",
              "    </tr>\n",
              "    <tr>\n",
              "      <th>El-Salvador</th>\n",
              "      <td>100</td>\n",
              "    </tr>\n",
              "    <tr>\n",
              "      <th>England</th>\n",
              "      <td>86</td>\n",
              "    </tr>\n",
              "    <tr>\n",
              "      <th>France</th>\n",
              "      <td>27</td>\n",
              "    </tr>\n",
              "    <tr>\n",
              "      <th>Germany</th>\n",
              "      <td>128</td>\n",
              "    </tr>\n",
              "    <tr>\n",
              "      <th>Greece</th>\n",
              "      <td>29</td>\n",
              "    </tr>\n",
              "    <tr>\n",
              "      <th>Guatemala</th>\n",
              "      <td>63</td>\n",
              "    </tr>\n",
              "    <tr>\n",
              "      <th>Haiti</th>\n",
              "      <td>42</td>\n",
              "    </tr>\n",
              "    <tr>\n",
              "      <th>Holand-Netherlands</th>\n",
              "      <td>1</td>\n",
              "    </tr>\n",
              "    <tr>\n",
              "      <th>Honduras</th>\n",
              "      <td>12</td>\n",
              "    </tr>\n",
              "    <tr>\n",
              "      <th>Hong</th>\n",
              "      <td>19</td>\n",
              "    </tr>\n",
              "    <tr>\n",
              "      <th>Hungary</th>\n",
              "      <td>13</td>\n",
              "    </tr>\n",
              "    <tr>\n",
              "      <th>India</th>\n",
              "      <td>100</td>\n",
              "    </tr>\n",
              "    <tr>\n",
              "      <th>Iran</th>\n",
              "      <td>42</td>\n",
              "    </tr>\n",
              "    <tr>\n",
              "      <th>Ireland</th>\n",
              "      <td>24</td>\n",
              "    </tr>\n",
              "    <tr>\n",
              "      <th>Italy</th>\n",
              "      <td>68</td>\n",
              "    </tr>\n",
              "    <tr>\n",
              "      <th>Jamaica</th>\n",
              "      <td>80</td>\n",
              "    </tr>\n",
              "    <tr>\n",
              "      <th>Japan</th>\n",
              "      <td>59</td>\n",
              "    </tr>\n",
              "    <tr>\n",
              "      <th>Laos</th>\n",
              "      <td>17</td>\n",
              "    </tr>\n",
              "    <tr>\n",
              "      <th>Mexico</th>\n",
              "      <td>610</td>\n",
              "    </tr>\n",
              "    <tr>\n",
              "      <th>Nicaragua</th>\n",
              "      <td>33</td>\n",
              "    </tr>\n",
              "    <tr>\n",
              "      <th>Outlying-US(Guam-USVI-etc)</th>\n",
              "      <td>14</td>\n",
              "    </tr>\n",
              "    <tr>\n",
              "      <th>Peru</th>\n",
              "      <td>30</td>\n",
              "    </tr>\n",
              "    <tr>\n",
              "      <th>Philippines</th>\n",
              "      <td>188</td>\n",
              "    </tr>\n",
              "    <tr>\n",
              "      <th>Poland</th>\n",
              "      <td>56</td>\n",
              "    </tr>\n",
              "    <tr>\n",
              "      <th>Portugal</th>\n",
              "      <td>34</td>\n",
              "    </tr>\n",
              "    <tr>\n",
              "      <th>Puerto-Rico</th>\n",
              "      <td>109</td>\n",
              "    </tr>\n",
              "    <tr>\n",
              "      <th>Scotland</th>\n",
              "      <td>11</td>\n",
              "    </tr>\n",
              "    <tr>\n",
              "      <th>South</th>\n",
              "      <td>71</td>\n",
              "    </tr>\n",
              "    <tr>\n",
              "      <th>Taiwan</th>\n",
              "      <td>42</td>\n",
              "    </tr>\n",
              "    <tr>\n",
              "      <th>Thailand</th>\n",
              "      <td>17</td>\n",
              "    </tr>\n",
              "    <tr>\n",
              "      <th>Trinadad&amp;Tobago</th>\n",
              "      <td>18</td>\n",
              "    </tr>\n",
              "    <tr>\n",
              "      <th>United-States</th>\n",
              "      <td>27503</td>\n",
              "    </tr>\n",
              "    <tr>\n",
              "      <th>Vietnam</th>\n",
              "      <td>64</td>\n",
              "    </tr>\n",
              "    <tr>\n",
              "      <th>Yugoslavia</th>\n",
              "      <td>16</td>\n",
              "    </tr>\n",
              "  </tbody>\n",
              "</table>\n",
              "</div>"
            ],
            "text/plain": [
              "                             native-country\n",
              "native-country                             \n",
              " Cambodia                                18\n",
              " Canada                                 107\n",
              " China                                   68\n",
              " Columbia                                56\n",
              " Cuba                                    92\n",
              " Dominican-Republic                      67\n",
              " Ecuador                                 27\n",
              " El-Salvador                            100\n",
              " England                                 86\n",
              " France                                  27\n",
              " Germany                                128\n",
              " Greece                                  29\n",
              " Guatemala                               63\n",
              " Haiti                                   42\n",
              " Holand-Netherlands                       1\n",
              " Honduras                                12\n",
              " Hong                                    19\n",
              " Hungary                                 13\n",
              " India                                  100\n",
              " Iran                                    42\n",
              " Ireland                                 24\n",
              " Italy                                   68\n",
              " Jamaica                                 80\n",
              " Japan                                   59\n",
              " Laos                                    17\n",
              " Mexico                                 610\n",
              " Nicaragua                               33\n",
              " Outlying-US(Guam-USVI-etc)              14\n",
              " Peru                                    30\n",
              " Philippines                            188\n",
              " Poland                                  56\n",
              " Portugal                                34\n",
              " Puerto-Rico                            109\n",
              " Scotland                                11\n",
              " South                                   71\n",
              " Taiwan                                  42\n",
              " Thailand                                17\n",
              " Trinadad&Tobago                         18\n",
              " United-States                        27503\n",
              " Vietnam                                 64\n",
              " Yugoslavia                              16"
            ]
          },
          "metadata": {
            "tags": []
          },
          "execution_count": 88
        }
      ]
    },
    {
      "metadata": {
        "id": "kPtgbrmdJfWp",
        "colab_type": "text"
      },
      "cell_type": "markdown",
      "source": [
        ""
      ]
    },
    {
      "metadata": {
        "id": "q4_Tm43KG4zU",
        "colab_type": "code",
        "outputId": "1d72156c-1be5-4cf5-dcf4-a6f542766623",
        "colab": {
          "base_uri": "https://localhost:8080/",
          "height": 306
        }
      },
      "cell_type": "code",
      "source": [
        "Table1.head()"
      ],
      "execution_count": 0,
      "outputs": [
        {
          "output_type": "execute_result",
          "data": {
            "text/html": [
              "<div>\n",
              "<style scoped>\n",
              "    .dataframe tbody tr th:only-of-type {\n",
              "        vertical-align: middle;\n",
              "    }\n",
              "\n",
              "    .dataframe tbody tr th {\n",
              "        vertical-align: top;\n",
              "    }\n",
              "\n",
              "    .dataframe thead th {\n",
              "        text-align: right;\n",
              "    }\n",
              "</style>\n",
              "<table border=\"1\" class=\"dataframe\">\n",
              "  <thead>\n",
              "    <tr style=\"text-align: right;\">\n",
              "      <th></th>\n",
              "      <th>age</th>\n",
              "      <th>workclass</th>\n",
              "      <th>education</th>\n",
              "      <th>education-num</th>\n",
              "      <th>marital-status</th>\n",
              "      <th>occupation</th>\n",
              "      <th>relationship</th>\n",
              "      <th>race</th>\n",
              "      <th>sex</th>\n",
              "      <th>capital-gain</th>\n",
              "      <th>capital-loss</th>\n",
              "      <th>hours-per-week</th>\n",
              "      <th>native-country</th>\n",
              "      <th>income</th>\n",
              "    </tr>\n",
              "  </thead>\n",
              "  <tbody>\n",
              "    <tr>\n",
              "      <th>0</th>\n",
              "      <td>50</td>\n",
              "      <td>Self-emp-not-inc</td>\n",
              "      <td>Bachelors</td>\n",
              "      <td>13</td>\n",
              "      <td>Married-civ-spouse</td>\n",
              "      <td>Exec-managerial</td>\n",
              "      <td>Husband</td>\n",
              "      <td>White</td>\n",
              "      <td>Male</td>\n",
              "      <td>0</td>\n",
              "      <td>0</td>\n",
              "      <td>13</td>\n",
              "      <td>United-States</td>\n",
              "      <td>&lt;=50K</td>\n",
              "    </tr>\n",
              "    <tr>\n",
              "      <th>1</th>\n",
              "      <td>38</td>\n",
              "      <td>Private</td>\n",
              "      <td>HS-grad</td>\n",
              "      <td>9</td>\n",
              "      <td>Divorced</td>\n",
              "      <td>Handlers-cleaners</td>\n",
              "      <td>Not-in-family</td>\n",
              "      <td>White</td>\n",
              "      <td>Male</td>\n",
              "      <td>0</td>\n",
              "      <td>0</td>\n",
              "      <td>40</td>\n",
              "      <td>United-States</td>\n",
              "      <td>&lt;=50K</td>\n",
              "    </tr>\n",
              "    <tr>\n",
              "      <th>2</th>\n",
              "      <td>53</td>\n",
              "      <td>Private</td>\n",
              "      <td>11th</td>\n",
              "      <td>7</td>\n",
              "      <td>Married-civ-spouse</td>\n",
              "      <td>Handlers-cleaners</td>\n",
              "      <td>Husband</td>\n",
              "      <td>Black</td>\n",
              "      <td>Male</td>\n",
              "      <td>0</td>\n",
              "      <td>0</td>\n",
              "      <td>40</td>\n",
              "      <td>United-States</td>\n",
              "      <td>&lt;=50K</td>\n",
              "    </tr>\n",
              "    <tr>\n",
              "      <th>3</th>\n",
              "      <td>28</td>\n",
              "      <td>Private</td>\n",
              "      <td>Bachelors</td>\n",
              "      <td>13</td>\n",
              "      <td>Married-civ-spouse</td>\n",
              "      <td>Prof-specialty</td>\n",
              "      <td>Wife</td>\n",
              "      <td>Black</td>\n",
              "      <td>Female</td>\n",
              "      <td>0</td>\n",
              "      <td>0</td>\n",
              "      <td>40</td>\n",
              "      <td>Cuba</td>\n",
              "      <td>&lt;=50K</td>\n",
              "    </tr>\n",
              "    <tr>\n",
              "      <th>4</th>\n",
              "      <td>37</td>\n",
              "      <td>Private</td>\n",
              "      <td>Masters</td>\n",
              "      <td>14</td>\n",
              "      <td>Married-civ-spouse</td>\n",
              "      <td>Exec-managerial</td>\n",
              "      <td>Wife</td>\n",
              "      <td>White</td>\n",
              "      <td>Female</td>\n",
              "      <td>0</td>\n",
              "      <td>0</td>\n",
              "      <td>40</td>\n",
              "      <td>United-States</td>\n",
              "      <td>&lt;=50K</td>\n",
              "    </tr>\n",
              "  </tbody>\n",
              "</table>\n",
              "</div>"
            ],
            "text/plain": [
              "   age          workclass   education  education-num       marital-status  \\\n",
              "0   50   Self-emp-not-inc   Bachelors             13   Married-civ-spouse   \n",
              "1   38            Private     HS-grad              9             Divorced   \n",
              "2   53            Private        11th              7   Married-civ-spouse   \n",
              "3   28            Private   Bachelors             13   Married-civ-spouse   \n",
              "4   37            Private     Masters             14   Married-civ-spouse   \n",
              "\n",
              "           occupation    relationship    race      sex  capital-gain  \\\n",
              "0     Exec-managerial         Husband   White     Male             0   \n",
              "1   Handlers-cleaners   Not-in-family   White     Male             0   \n",
              "2   Handlers-cleaners         Husband   Black     Male             0   \n",
              "3      Prof-specialty            Wife   Black   Female             0   \n",
              "4     Exec-managerial            Wife   White   Female             0   \n",
              "\n",
              "   capital-loss  hours-per-week  native-country  income  \n",
              "0             0              13   United-States   <=50K  \n",
              "1             0              40   United-States   <=50K  \n",
              "2             0              40   United-States   <=50K  \n",
              "3             0              40            Cuba   <=50K  \n",
              "4             0              40   United-States   <=50K  "
            ]
          },
          "metadata": {
            "tags": []
          },
          "execution_count": 89
        }
      ]
    },
    {
      "metadata": {
        "id": "2AJ4vT2sYIIj",
        "colab_type": "text"
      },
      "cell_type": "markdown",
      "source": [
        "# **2. Importing Test Datasets and Cleaning **"
      ]
    },
    {
      "metadata": {
        "id": "6cwEqmjdpj69",
        "colab_type": "code",
        "outputId": "ec29fabb-c5d2-495c-a38b-46454a533686",
        "colab": {
          "base_uri": "https://localhost:8080/",
          "height": 204
        }
      },
      "cell_type": "code",
      "source": [
        "test_data = pd.read_csv(\"https://archive.ics.uci.edu/ml/machine-learning-databases/adult/adult.test\")\n",
        "test_data.head()"
      ],
      "execution_count": 0,
      "outputs": [
        {
          "output_type": "execute_result",
          "data": {
            "text/html": [
              "<div>\n",
              "<style scoped>\n",
              "    .dataframe tbody tr th:only-of-type {\n",
              "        vertical-align: middle;\n",
              "    }\n",
              "\n",
              "    .dataframe tbody tr th {\n",
              "        vertical-align: top;\n",
              "    }\n",
              "\n",
              "    .dataframe thead th {\n",
              "        text-align: right;\n",
              "    }\n",
              "</style>\n",
              "<table border=\"1\" class=\"dataframe\">\n",
              "  <thead>\n",
              "    <tr style=\"text-align: right;\">\n",
              "      <th></th>\n",
              "      <th></th>\n",
              "      <th></th>\n",
              "      <th></th>\n",
              "      <th></th>\n",
              "      <th></th>\n",
              "      <th></th>\n",
              "      <th></th>\n",
              "      <th></th>\n",
              "      <th></th>\n",
              "      <th></th>\n",
              "      <th></th>\n",
              "      <th></th>\n",
              "      <th></th>\n",
              "      <th>|1x3 Cross validator</th>\n",
              "    </tr>\n",
              "  </thead>\n",
              "  <tbody>\n",
              "    <tr>\n",
              "      <th>25</th>\n",
              "      <th>Private</th>\n",
              "      <th>226802</th>\n",
              "      <th>11th</th>\n",
              "      <th>7</th>\n",
              "      <th>Never-married</th>\n",
              "      <th>Machine-op-inspct</th>\n",
              "      <th>Own-child</th>\n",
              "      <th>Black</th>\n",
              "      <th>Male</th>\n",
              "      <th>0</th>\n",
              "      <th>0</th>\n",
              "      <th>40</th>\n",
              "      <th>United-States</th>\n",
              "      <td>&lt;=50K.</td>\n",
              "    </tr>\n",
              "    <tr>\n",
              "      <th>38</th>\n",
              "      <th>Private</th>\n",
              "      <th>89814</th>\n",
              "      <th>HS-grad</th>\n",
              "      <th>9</th>\n",
              "      <th>Married-civ-spouse</th>\n",
              "      <th>Farming-fishing</th>\n",
              "      <th>Husband</th>\n",
              "      <th>White</th>\n",
              "      <th>Male</th>\n",
              "      <th>0</th>\n",
              "      <th>0</th>\n",
              "      <th>50</th>\n",
              "      <th>United-States</th>\n",
              "      <td>&lt;=50K.</td>\n",
              "    </tr>\n",
              "    <tr>\n",
              "      <th>28</th>\n",
              "      <th>Local-gov</th>\n",
              "      <th>336951</th>\n",
              "      <th>Assoc-acdm</th>\n",
              "      <th>12</th>\n",
              "      <th>Married-civ-spouse</th>\n",
              "      <th>Protective-serv</th>\n",
              "      <th>Husband</th>\n",
              "      <th>White</th>\n",
              "      <th>Male</th>\n",
              "      <th>0</th>\n",
              "      <th>0</th>\n",
              "      <th>40</th>\n",
              "      <th>United-States</th>\n",
              "      <td>&gt;50K.</td>\n",
              "    </tr>\n",
              "    <tr>\n",
              "      <th>44</th>\n",
              "      <th>Private</th>\n",
              "      <th>160323</th>\n",
              "      <th>Some-college</th>\n",
              "      <th>10</th>\n",
              "      <th>Married-civ-spouse</th>\n",
              "      <th>Machine-op-inspct</th>\n",
              "      <th>Husband</th>\n",
              "      <th>Black</th>\n",
              "      <th>Male</th>\n",
              "      <th>7688</th>\n",
              "      <th>0</th>\n",
              "      <th>40</th>\n",
              "      <th>United-States</th>\n",
              "      <td>&gt;50K.</td>\n",
              "    </tr>\n",
              "    <tr>\n",
              "      <th>18</th>\n",
              "      <th>?</th>\n",
              "      <th>103497</th>\n",
              "      <th>Some-college</th>\n",
              "      <th>10</th>\n",
              "      <th>Never-married</th>\n",
              "      <th>?</th>\n",
              "      <th>Own-child</th>\n",
              "      <th>White</th>\n",
              "      <th>Female</th>\n",
              "      <th>0</th>\n",
              "      <th>0</th>\n",
              "      <th>30</th>\n",
              "      <th>United-States</th>\n",
              "      <td>&lt;=50K.</td>\n",
              "    </tr>\n",
              "  </tbody>\n",
              "</table>\n",
              "</div>"
            ],
            "text/plain": [
              "                                                                                                                                |1x3 Cross validator\n",
              "25  Private   226802  11th         7   Never-married       Machine-op-inspct  Own-child  Black  Male   0    0 40  United-States               <=50K.\n",
              "38  Private   89814   HS-grad      9   Married-civ-spouse  Farming-fishing    Husband    White  Male   0    0 50  United-States               <=50K.\n",
              "28  Local-gov 336951  Assoc-acdm   12  Married-civ-spouse  Protective-serv    Husband    White  Male   0    0 40  United-States                >50K.\n",
              "44  Private   160323  Some-college 10  Married-civ-spouse  Machine-op-inspct  Husband    Black  Male   7688 0 40  United-States                >50K.\n",
              "18  ?         103497  Some-college 10  Never-married       ?                  Own-child  White  Female 0    0 30  United-States               <=50K."
            ]
          },
          "metadata": {
            "tags": []
          },
          "execution_count": 90
        }
      ]
    },
    {
      "metadata": {
        "id": "Mfrg5RYiY_xO",
        "colab_type": "code",
        "outputId": "c1da5767-34e5-4e7a-a03c-a7b25c7ecca6",
        "colab": {
          "base_uri": "https://localhost:8080/",
          "height": 306
        }
      },
      "cell_type": "code",
      "source": [
        "# Assining feature names to our test data \n",
        "columnss = [\"age\", \"workclass\", \"fnlwgt\", \"education\", \"education-num\", \"marital-status\", \"occupation\", \"relationship\", \"race\", \"sex\", \"capital-gain\", \"capital-loss\", \"hours-per-week\", \"native-country\", \"income\"]\n",
        "\n",
        "test_data1 = pd.read_csv(\"https://archive.ics.uci.edu/ml/machine-learning-databases/adult/adult.test\", names = columnss)\n",
        "test_data1.head()"
      ],
      "execution_count": 0,
      "outputs": [
        {
          "output_type": "execute_result",
          "data": {
            "text/html": [
              "<div>\n",
              "<style scoped>\n",
              "    .dataframe tbody tr th:only-of-type {\n",
              "        vertical-align: middle;\n",
              "    }\n",
              "\n",
              "    .dataframe tbody tr th {\n",
              "        vertical-align: top;\n",
              "    }\n",
              "\n",
              "    .dataframe thead th {\n",
              "        text-align: right;\n",
              "    }\n",
              "</style>\n",
              "<table border=\"1\" class=\"dataframe\">\n",
              "  <thead>\n",
              "    <tr style=\"text-align: right;\">\n",
              "      <th></th>\n",
              "      <th>age</th>\n",
              "      <th>workclass</th>\n",
              "      <th>fnlwgt</th>\n",
              "      <th>education</th>\n",
              "      <th>education-num</th>\n",
              "      <th>marital-status</th>\n",
              "      <th>occupation</th>\n",
              "      <th>relationship</th>\n",
              "      <th>race</th>\n",
              "      <th>sex</th>\n",
              "      <th>capital-gain</th>\n",
              "      <th>capital-loss</th>\n",
              "      <th>hours-per-week</th>\n",
              "      <th>native-country</th>\n",
              "      <th>income</th>\n",
              "    </tr>\n",
              "  </thead>\n",
              "  <tbody>\n",
              "    <tr>\n",
              "      <th>0</th>\n",
              "      <td>|1x3 Cross validator</td>\n",
              "      <td>NaN</td>\n",
              "      <td>NaN</td>\n",
              "      <td>NaN</td>\n",
              "      <td>NaN</td>\n",
              "      <td>NaN</td>\n",
              "      <td>NaN</td>\n",
              "      <td>NaN</td>\n",
              "      <td>NaN</td>\n",
              "      <td>NaN</td>\n",
              "      <td>NaN</td>\n",
              "      <td>NaN</td>\n",
              "      <td>NaN</td>\n",
              "      <td>NaN</td>\n",
              "      <td>NaN</td>\n",
              "    </tr>\n",
              "    <tr>\n",
              "      <th>1</th>\n",
              "      <td>25</td>\n",
              "      <td>Private</td>\n",
              "      <td>226802.0</td>\n",
              "      <td>11th</td>\n",
              "      <td>7.0</td>\n",
              "      <td>Never-married</td>\n",
              "      <td>Machine-op-inspct</td>\n",
              "      <td>Own-child</td>\n",
              "      <td>Black</td>\n",
              "      <td>Male</td>\n",
              "      <td>0.0</td>\n",
              "      <td>0.0</td>\n",
              "      <td>40.0</td>\n",
              "      <td>United-States</td>\n",
              "      <td>&lt;=50K.</td>\n",
              "    </tr>\n",
              "    <tr>\n",
              "      <th>2</th>\n",
              "      <td>38</td>\n",
              "      <td>Private</td>\n",
              "      <td>89814.0</td>\n",
              "      <td>HS-grad</td>\n",
              "      <td>9.0</td>\n",
              "      <td>Married-civ-spouse</td>\n",
              "      <td>Farming-fishing</td>\n",
              "      <td>Husband</td>\n",
              "      <td>White</td>\n",
              "      <td>Male</td>\n",
              "      <td>0.0</td>\n",
              "      <td>0.0</td>\n",
              "      <td>50.0</td>\n",
              "      <td>United-States</td>\n",
              "      <td>&lt;=50K.</td>\n",
              "    </tr>\n",
              "    <tr>\n",
              "      <th>3</th>\n",
              "      <td>28</td>\n",
              "      <td>Local-gov</td>\n",
              "      <td>336951.0</td>\n",
              "      <td>Assoc-acdm</td>\n",
              "      <td>12.0</td>\n",
              "      <td>Married-civ-spouse</td>\n",
              "      <td>Protective-serv</td>\n",
              "      <td>Husband</td>\n",
              "      <td>White</td>\n",
              "      <td>Male</td>\n",
              "      <td>0.0</td>\n",
              "      <td>0.0</td>\n",
              "      <td>40.0</td>\n",
              "      <td>United-States</td>\n",
              "      <td>&gt;50K.</td>\n",
              "    </tr>\n",
              "    <tr>\n",
              "      <th>4</th>\n",
              "      <td>44</td>\n",
              "      <td>Private</td>\n",
              "      <td>160323.0</td>\n",
              "      <td>Some-college</td>\n",
              "      <td>10.0</td>\n",
              "      <td>Married-civ-spouse</td>\n",
              "      <td>Machine-op-inspct</td>\n",
              "      <td>Husband</td>\n",
              "      <td>Black</td>\n",
              "      <td>Male</td>\n",
              "      <td>7688.0</td>\n",
              "      <td>0.0</td>\n",
              "      <td>40.0</td>\n",
              "      <td>United-States</td>\n",
              "      <td>&gt;50K.</td>\n",
              "    </tr>\n",
              "  </tbody>\n",
              "</table>\n",
              "</div>"
            ],
            "text/plain": [
              "                    age   workclass    fnlwgt      education  education-num  \\\n",
              "0  |1x3 Cross validator         NaN       NaN            NaN            NaN   \n",
              "1                    25     Private  226802.0           11th            7.0   \n",
              "2                    38     Private   89814.0        HS-grad            9.0   \n",
              "3                    28   Local-gov  336951.0     Assoc-acdm           12.0   \n",
              "4                    44     Private  160323.0   Some-college           10.0   \n",
              "\n",
              "        marital-status          occupation relationship    race    sex  \\\n",
              "0                  NaN                 NaN          NaN     NaN    NaN   \n",
              "1        Never-married   Machine-op-inspct    Own-child   Black   Male   \n",
              "2   Married-civ-spouse     Farming-fishing      Husband   White   Male   \n",
              "3   Married-civ-spouse     Protective-serv      Husband   White   Male   \n",
              "4   Married-civ-spouse   Machine-op-inspct      Husband   Black   Male   \n",
              "\n",
              "   capital-gain  capital-loss  hours-per-week  native-country   income  \n",
              "0           NaN           NaN             NaN             NaN      NaN  \n",
              "1           0.0           0.0            40.0   United-States   <=50K.  \n",
              "2           0.0           0.0            50.0   United-States   <=50K.  \n",
              "3           0.0           0.0            40.0   United-States    >50K.  \n",
              "4        7688.0           0.0            40.0   United-States    >50K.  "
            ]
          },
          "metadata": {
            "tags": []
          },
          "execution_count": 91
        }
      ]
    },
    {
      "metadata": {
        "id": "o26hpCTUSOOH",
        "colab_type": "code",
        "outputId": "bcc7d58b-ff8d-4f66-98d1-b3481eca4df9",
        "colab": {
          "base_uri": "https://localhost:8080/",
          "height": 306
        }
      },
      "cell_type": "code",
      "source": [
        "# The first row of test_data has invalid values, so it should be deleted\n",
        "\n",
        "test_data2 = test_data1.drop(test_data1.index[0])\n",
        "test_data2.head()\n",
        "\n"
      ],
      "execution_count": 0,
      "outputs": [
        {
          "output_type": "execute_result",
          "data": {
            "text/html": [
              "<div>\n",
              "<style scoped>\n",
              "    .dataframe tbody tr th:only-of-type {\n",
              "        vertical-align: middle;\n",
              "    }\n",
              "\n",
              "    .dataframe tbody tr th {\n",
              "        vertical-align: top;\n",
              "    }\n",
              "\n",
              "    .dataframe thead th {\n",
              "        text-align: right;\n",
              "    }\n",
              "</style>\n",
              "<table border=\"1\" class=\"dataframe\">\n",
              "  <thead>\n",
              "    <tr style=\"text-align: right;\">\n",
              "      <th></th>\n",
              "      <th>age</th>\n",
              "      <th>workclass</th>\n",
              "      <th>fnlwgt</th>\n",
              "      <th>education</th>\n",
              "      <th>education-num</th>\n",
              "      <th>marital-status</th>\n",
              "      <th>occupation</th>\n",
              "      <th>relationship</th>\n",
              "      <th>race</th>\n",
              "      <th>sex</th>\n",
              "      <th>capital-gain</th>\n",
              "      <th>capital-loss</th>\n",
              "      <th>hours-per-week</th>\n",
              "      <th>native-country</th>\n",
              "      <th>income</th>\n",
              "    </tr>\n",
              "  </thead>\n",
              "  <tbody>\n",
              "    <tr>\n",
              "      <th>1</th>\n",
              "      <td>25</td>\n",
              "      <td>Private</td>\n",
              "      <td>226802.0</td>\n",
              "      <td>11th</td>\n",
              "      <td>7.0</td>\n",
              "      <td>Never-married</td>\n",
              "      <td>Machine-op-inspct</td>\n",
              "      <td>Own-child</td>\n",
              "      <td>Black</td>\n",
              "      <td>Male</td>\n",
              "      <td>0.0</td>\n",
              "      <td>0.0</td>\n",
              "      <td>40.0</td>\n",
              "      <td>United-States</td>\n",
              "      <td>&lt;=50K.</td>\n",
              "    </tr>\n",
              "    <tr>\n",
              "      <th>2</th>\n",
              "      <td>38</td>\n",
              "      <td>Private</td>\n",
              "      <td>89814.0</td>\n",
              "      <td>HS-grad</td>\n",
              "      <td>9.0</td>\n",
              "      <td>Married-civ-spouse</td>\n",
              "      <td>Farming-fishing</td>\n",
              "      <td>Husband</td>\n",
              "      <td>White</td>\n",
              "      <td>Male</td>\n",
              "      <td>0.0</td>\n",
              "      <td>0.0</td>\n",
              "      <td>50.0</td>\n",
              "      <td>United-States</td>\n",
              "      <td>&lt;=50K.</td>\n",
              "    </tr>\n",
              "    <tr>\n",
              "      <th>3</th>\n",
              "      <td>28</td>\n",
              "      <td>Local-gov</td>\n",
              "      <td>336951.0</td>\n",
              "      <td>Assoc-acdm</td>\n",
              "      <td>12.0</td>\n",
              "      <td>Married-civ-spouse</td>\n",
              "      <td>Protective-serv</td>\n",
              "      <td>Husband</td>\n",
              "      <td>White</td>\n",
              "      <td>Male</td>\n",
              "      <td>0.0</td>\n",
              "      <td>0.0</td>\n",
              "      <td>40.0</td>\n",
              "      <td>United-States</td>\n",
              "      <td>&gt;50K.</td>\n",
              "    </tr>\n",
              "    <tr>\n",
              "      <th>4</th>\n",
              "      <td>44</td>\n",
              "      <td>Private</td>\n",
              "      <td>160323.0</td>\n",
              "      <td>Some-college</td>\n",
              "      <td>10.0</td>\n",
              "      <td>Married-civ-spouse</td>\n",
              "      <td>Machine-op-inspct</td>\n",
              "      <td>Husband</td>\n",
              "      <td>Black</td>\n",
              "      <td>Male</td>\n",
              "      <td>7688.0</td>\n",
              "      <td>0.0</td>\n",
              "      <td>40.0</td>\n",
              "      <td>United-States</td>\n",
              "      <td>&gt;50K.</td>\n",
              "    </tr>\n",
              "    <tr>\n",
              "      <th>5</th>\n",
              "      <td>18</td>\n",
              "      <td>?</td>\n",
              "      <td>103497.0</td>\n",
              "      <td>Some-college</td>\n",
              "      <td>10.0</td>\n",
              "      <td>Never-married</td>\n",
              "      <td>?</td>\n",
              "      <td>Own-child</td>\n",
              "      <td>White</td>\n",
              "      <td>Female</td>\n",
              "      <td>0.0</td>\n",
              "      <td>0.0</td>\n",
              "      <td>30.0</td>\n",
              "      <td>United-States</td>\n",
              "      <td>&lt;=50K.</td>\n",
              "    </tr>\n",
              "  </tbody>\n",
              "</table>\n",
              "</div>"
            ],
            "text/plain": [
              "  age   workclass    fnlwgt      education  education-num  \\\n",
              "1  25     Private  226802.0           11th            7.0   \n",
              "2  38     Private   89814.0        HS-grad            9.0   \n",
              "3  28   Local-gov  336951.0     Assoc-acdm           12.0   \n",
              "4  44     Private  160323.0   Some-college           10.0   \n",
              "5  18           ?  103497.0   Some-college           10.0   \n",
              "\n",
              "        marital-status          occupation relationship    race      sex  \\\n",
              "1        Never-married   Machine-op-inspct    Own-child   Black     Male   \n",
              "2   Married-civ-spouse     Farming-fishing      Husband   White     Male   \n",
              "3   Married-civ-spouse     Protective-serv      Husband   White     Male   \n",
              "4   Married-civ-spouse   Machine-op-inspct      Husband   Black     Male   \n",
              "5        Never-married                   ?    Own-child   White   Female   \n",
              "\n",
              "   capital-gain  capital-loss  hours-per-week  native-country   income  \n",
              "1           0.0           0.0            40.0   United-States   <=50K.  \n",
              "2           0.0           0.0            50.0   United-States   <=50K.  \n",
              "3           0.0           0.0            40.0   United-States    >50K.  \n",
              "4        7688.0           0.0            40.0   United-States    >50K.  \n",
              "5           0.0           0.0            30.0   United-States   <=50K.  "
            ]
          },
          "metadata": {
            "tags": []
          },
          "execution_count": 92
        }
      ]
    },
    {
      "metadata": {
        "id": "daxDziXf6Bu1",
        "colab_type": "code",
        "outputId": "cab3368d-3397-4aa5-b3bc-0332b5ba8328",
        "colab": {
          "base_uri": "https://localhost:8080/",
          "height": 235
        }
      },
      "cell_type": "code",
      "source": [
        "missing_values(test_data2, \"age\").head()"
      ],
      "execution_count": 0,
      "outputs": [
        {
          "output_type": "execute_result",
          "data": {
            "text/html": [
              "<div>\n",
              "<style scoped>\n",
              "    .dataframe tbody tr th:only-of-type {\n",
              "        vertical-align: middle;\n",
              "    }\n",
              "\n",
              "    .dataframe tbody tr th {\n",
              "        vertical-align: top;\n",
              "    }\n",
              "\n",
              "    .dataframe thead th {\n",
              "        text-align: right;\n",
              "    }\n",
              "</style>\n",
              "<table border=\"1\" class=\"dataframe\">\n",
              "  <thead>\n",
              "    <tr style=\"text-align: right;\">\n",
              "      <th></th>\n",
              "      <th>age</th>\n",
              "    </tr>\n",
              "    <tr>\n",
              "      <th>age</th>\n",
              "      <th></th>\n",
              "    </tr>\n",
              "  </thead>\n",
              "  <tbody>\n",
              "    <tr>\n",
              "      <th>17</th>\n",
              "      <td>200</td>\n",
              "    </tr>\n",
              "    <tr>\n",
              "      <th>18</th>\n",
              "      <td>312</td>\n",
              "    </tr>\n",
              "    <tr>\n",
              "      <th>19</th>\n",
              "      <td>341</td>\n",
              "    </tr>\n",
              "    <tr>\n",
              "      <th>20</th>\n",
              "      <td>360</td>\n",
              "    </tr>\n",
              "    <tr>\n",
              "      <th>21</th>\n",
              "      <td>376</td>\n",
              "    </tr>\n",
              "  </tbody>\n",
              "</table>\n",
              "</div>"
            ],
            "text/plain": [
              "     age\n",
              "age     \n",
              "17   200\n",
              "18   312\n",
              "19   341\n",
              "20   360\n",
              "21   376"
            ]
          },
          "metadata": {
            "tags": []
          },
          "execution_count": 93
        }
      ]
    },
    {
      "metadata": {
        "id": "c-giAZpwpr3d",
        "colab_type": "code",
        "outputId": "720befe3-8582-49d6-f2be-f8f438e1f56d",
        "colab": {
          "base_uri": "https://localhost:8080/",
          "height": 306
        }
      },
      "cell_type": "code",
      "source": [
        "# Replacing the \"?\" to nan\n",
        "test_data3 = test_data2.replace('[?]',np.NAN,regex=True)\n",
        "test_data3.head()"
      ],
      "execution_count": 0,
      "outputs": [
        {
          "output_type": "execute_result",
          "data": {
            "text/html": [
              "<div>\n",
              "<style scoped>\n",
              "    .dataframe tbody tr th:only-of-type {\n",
              "        vertical-align: middle;\n",
              "    }\n",
              "\n",
              "    .dataframe tbody tr th {\n",
              "        vertical-align: top;\n",
              "    }\n",
              "\n",
              "    .dataframe thead th {\n",
              "        text-align: right;\n",
              "    }\n",
              "</style>\n",
              "<table border=\"1\" class=\"dataframe\">\n",
              "  <thead>\n",
              "    <tr style=\"text-align: right;\">\n",
              "      <th></th>\n",
              "      <th>age</th>\n",
              "      <th>workclass</th>\n",
              "      <th>fnlwgt</th>\n",
              "      <th>education</th>\n",
              "      <th>education-num</th>\n",
              "      <th>marital-status</th>\n",
              "      <th>occupation</th>\n",
              "      <th>relationship</th>\n",
              "      <th>race</th>\n",
              "      <th>sex</th>\n",
              "      <th>capital-gain</th>\n",
              "      <th>capital-loss</th>\n",
              "      <th>hours-per-week</th>\n",
              "      <th>native-country</th>\n",
              "      <th>income</th>\n",
              "    </tr>\n",
              "  </thead>\n",
              "  <tbody>\n",
              "    <tr>\n",
              "      <th>1</th>\n",
              "      <td>25</td>\n",
              "      <td>Private</td>\n",
              "      <td>226802.0</td>\n",
              "      <td>11th</td>\n",
              "      <td>7.0</td>\n",
              "      <td>Never-married</td>\n",
              "      <td>Machine-op-inspct</td>\n",
              "      <td>Own-child</td>\n",
              "      <td>Black</td>\n",
              "      <td>Male</td>\n",
              "      <td>0.0</td>\n",
              "      <td>0.0</td>\n",
              "      <td>40.0</td>\n",
              "      <td>United-States</td>\n",
              "      <td>&lt;=50K.</td>\n",
              "    </tr>\n",
              "    <tr>\n",
              "      <th>2</th>\n",
              "      <td>38</td>\n",
              "      <td>Private</td>\n",
              "      <td>89814.0</td>\n",
              "      <td>HS-grad</td>\n",
              "      <td>9.0</td>\n",
              "      <td>Married-civ-spouse</td>\n",
              "      <td>Farming-fishing</td>\n",
              "      <td>Husband</td>\n",
              "      <td>White</td>\n",
              "      <td>Male</td>\n",
              "      <td>0.0</td>\n",
              "      <td>0.0</td>\n",
              "      <td>50.0</td>\n",
              "      <td>United-States</td>\n",
              "      <td>&lt;=50K.</td>\n",
              "    </tr>\n",
              "    <tr>\n",
              "      <th>3</th>\n",
              "      <td>28</td>\n",
              "      <td>Local-gov</td>\n",
              "      <td>336951.0</td>\n",
              "      <td>Assoc-acdm</td>\n",
              "      <td>12.0</td>\n",
              "      <td>Married-civ-spouse</td>\n",
              "      <td>Protective-serv</td>\n",
              "      <td>Husband</td>\n",
              "      <td>White</td>\n",
              "      <td>Male</td>\n",
              "      <td>0.0</td>\n",
              "      <td>0.0</td>\n",
              "      <td>40.0</td>\n",
              "      <td>United-States</td>\n",
              "      <td>&gt;50K.</td>\n",
              "    </tr>\n",
              "    <tr>\n",
              "      <th>4</th>\n",
              "      <td>44</td>\n",
              "      <td>Private</td>\n",
              "      <td>160323.0</td>\n",
              "      <td>Some-college</td>\n",
              "      <td>10.0</td>\n",
              "      <td>Married-civ-spouse</td>\n",
              "      <td>Machine-op-inspct</td>\n",
              "      <td>Husband</td>\n",
              "      <td>Black</td>\n",
              "      <td>Male</td>\n",
              "      <td>7688.0</td>\n",
              "      <td>0.0</td>\n",
              "      <td>40.0</td>\n",
              "      <td>United-States</td>\n",
              "      <td>&gt;50K.</td>\n",
              "    </tr>\n",
              "    <tr>\n",
              "      <th>5</th>\n",
              "      <td>18</td>\n",
              "      <td>NaN</td>\n",
              "      <td>103497.0</td>\n",
              "      <td>Some-college</td>\n",
              "      <td>10.0</td>\n",
              "      <td>Never-married</td>\n",
              "      <td>NaN</td>\n",
              "      <td>Own-child</td>\n",
              "      <td>White</td>\n",
              "      <td>Female</td>\n",
              "      <td>0.0</td>\n",
              "      <td>0.0</td>\n",
              "      <td>30.0</td>\n",
              "      <td>United-States</td>\n",
              "      <td>&lt;=50K.</td>\n",
              "    </tr>\n",
              "  </tbody>\n",
              "</table>\n",
              "</div>"
            ],
            "text/plain": [
              "  age   workclass    fnlwgt      education  education-num  \\\n",
              "1  25     Private  226802.0           11th            7.0   \n",
              "2  38     Private   89814.0        HS-grad            9.0   \n",
              "3  28   Local-gov  336951.0     Assoc-acdm           12.0   \n",
              "4  44     Private  160323.0   Some-college           10.0   \n",
              "5  18         NaN  103497.0   Some-college           10.0   \n",
              "\n",
              "        marital-status          occupation relationship    race      sex  \\\n",
              "1        Never-married   Machine-op-inspct    Own-child   Black     Male   \n",
              "2   Married-civ-spouse     Farming-fishing      Husband   White     Male   \n",
              "3   Married-civ-spouse     Protective-serv      Husband   White     Male   \n",
              "4   Married-civ-spouse   Machine-op-inspct      Husband   Black     Male   \n",
              "5        Never-married                 NaN    Own-child   White   Female   \n",
              "\n",
              "   capital-gain  capital-loss  hours-per-week  native-country   income  \n",
              "1           0.0           0.0            40.0   United-States   <=50K.  \n",
              "2           0.0           0.0            50.0   United-States   <=50K.  \n",
              "3           0.0           0.0            40.0   United-States    >50K.  \n",
              "4        7688.0           0.0            40.0   United-States    >50K.  \n",
              "5           0.0           0.0            30.0   United-States   <=50K.  "
            ]
          },
          "metadata": {
            "tags": []
          },
          "execution_count": 94
        }
      ]
    },
    {
      "metadata": {
        "id": "lndVuH1mYmwD",
        "colab_type": "code",
        "outputId": "57708b21-7a9b-46e7-f7c5-14c4633e6ece",
        "colab": {
          "base_uri": "https://localhost:8080/",
          "height": 306
        }
      },
      "cell_type": "code",
      "source": [
        "# Finally we have to drop all nan values to clean the data\n",
        "\n",
        "test_data4 = test_data3.dropna()\n",
        "test_data4.head()"
      ],
      "execution_count": 0,
      "outputs": [
        {
          "output_type": "execute_result",
          "data": {
            "text/html": [
              "<div>\n",
              "<style scoped>\n",
              "    .dataframe tbody tr th:only-of-type {\n",
              "        vertical-align: middle;\n",
              "    }\n",
              "\n",
              "    .dataframe tbody tr th {\n",
              "        vertical-align: top;\n",
              "    }\n",
              "\n",
              "    .dataframe thead th {\n",
              "        text-align: right;\n",
              "    }\n",
              "</style>\n",
              "<table border=\"1\" class=\"dataframe\">\n",
              "  <thead>\n",
              "    <tr style=\"text-align: right;\">\n",
              "      <th></th>\n",
              "      <th>age</th>\n",
              "      <th>workclass</th>\n",
              "      <th>fnlwgt</th>\n",
              "      <th>education</th>\n",
              "      <th>education-num</th>\n",
              "      <th>marital-status</th>\n",
              "      <th>occupation</th>\n",
              "      <th>relationship</th>\n",
              "      <th>race</th>\n",
              "      <th>sex</th>\n",
              "      <th>capital-gain</th>\n",
              "      <th>capital-loss</th>\n",
              "      <th>hours-per-week</th>\n",
              "      <th>native-country</th>\n",
              "      <th>income</th>\n",
              "    </tr>\n",
              "  </thead>\n",
              "  <tbody>\n",
              "    <tr>\n",
              "      <th>1</th>\n",
              "      <td>25</td>\n",
              "      <td>Private</td>\n",
              "      <td>226802.0</td>\n",
              "      <td>11th</td>\n",
              "      <td>7.0</td>\n",
              "      <td>Never-married</td>\n",
              "      <td>Machine-op-inspct</td>\n",
              "      <td>Own-child</td>\n",
              "      <td>Black</td>\n",
              "      <td>Male</td>\n",
              "      <td>0.0</td>\n",
              "      <td>0.0</td>\n",
              "      <td>40.0</td>\n",
              "      <td>United-States</td>\n",
              "      <td>&lt;=50K.</td>\n",
              "    </tr>\n",
              "    <tr>\n",
              "      <th>2</th>\n",
              "      <td>38</td>\n",
              "      <td>Private</td>\n",
              "      <td>89814.0</td>\n",
              "      <td>HS-grad</td>\n",
              "      <td>9.0</td>\n",
              "      <td>Married-civ-spouse</td>\n",
              "      <td>Farming-fishing</td>\n",
              "      <td>Husband</td>\n",
              "      <td>White</td>\n",
              "      <td>Male</td>\n",
              "      <td>0.0</td>\n",
              "      <td>0.0</td>\n",
              "      <td>50.0</td>\n",
              "      <td>United-States</td>\n",
              "      <td>&lt;=50K.</td>\n",
              "    </tr>\n",
              "    <tr>\n",
              "      <th>3</th>\n",
              "      <td>28</td>\n",
              "      <td>Local-gov</td>\n",
              "      <td>336951.0</td>\n",
              "      <td>Assoc-acdm</td>\n",
              "      <td>12.0</td>\n",
              "      <td>Married-civ-spouse</td>\n",
              "      <td>Protective-serv</td>\n",
              "      <td>Husband</td>\n",
              "      <td>White</td>\n",
              "      <td>Male</td>\n",
              "      <td>0.0</td>\n",
              "      <td>0.0</td>\n",
              "      <td>40.0</td>\n",
              "      <td>United-States</td>\n",
              "      <td>&gt;50K.</td>\n",
              "    </tr>\n",
              "    <tr>\n",
              "      <th>4</th>\n",
              "      <td>44</td>\n",
              "      <td>Private</td>\n",
              "      <td>160323.0</td>\n",
              "      <td>Some-college</td>\n",
              "      <td>10.0</td>\n",
              "      <td>Married-civ-spouse</td>\n",
              "      <td>Machine-op-inspct</td>\n",
              "      <td>Husband</td>\n",
              "      <td>Black</td>\n",
              "      <td>Male</td>\n",
              "      <td>7688.0</td>\n",
              "      <td>0.0</td>\n",
              "      <td>40.0</td>\n",
              "      <td>United-States</td>\n",
              "      <td>&gt;50K.</td>\n",
              "    </tr>\n",
              "    <tr>\n",
              "      <th>6</th>\n",
              "      <td>34</td>\n",
              "      <td>Private</td>\n",
              "      <td>198693.0</td>\n",
              "      <td>10th</td>\n",
              "      <td>6.0</td>\n",
              "      <td>Never-married</td>\n",
              "      <td>Other-service</td>\n",
              "      <td>Not-in-family</td>\n",
              "      <td>White</td>\n",
              "      <td>Male</td>\n",
              "      <td>0.0</td>\n",
              "      <td>0.0</td>\n",
              "      <td>30.0</td>\n",
              "      <td>United-States</td>\n",
              "      <td>&lt;=50K.</td>\n",
              "    </tr>\n",
              "  </tbody>\n",
              "</table>\n",
              "</div>"
            ],
            "text/plain": [
              "  age   workclass    fnlwgt      education  education-num  \\\n",
              "1  25     Private  226802.0           11th            7.0   \n",
              "2  38     Private   89814.0        HS-grad            9.0   \n",
              "3  28   Local-gov  336951.0     Assoc-acdm           12.0   \n",
              "4  44     Private  160323.0   Some-college           10.0   \n",
              "6  34     Private  198693.0           10th            6.0   \n",
              "\n",
              "        marital-status          occupation    relationship    race    sex  \\\n",
              "1        Never-married   Machine-op-inspct       Own-child   Black   Male   \n",
              "2   Married-civ-spouse     Farming-fishing         Husband   White   Male   \n",
              "3   Married-civ-spouse     Protective-serv         Husband   White   Male   \n",
              "4   Married-civ-spouse   Machine-op-inspct         Husband   Black   Male   \n",
              "6        Never-married       Other-service   Not-in-family   White   Male   \n",
              "\n",
              "   capital-gain  capital-loss  hours-per-week  native-country   income  \n",
              "1           0.0           0.0            40.0   United-States   <=50K.  \n",
              "2           0.0           0.0            50.0   United-States   <=50K.  \n",
              "3           0.0           0.0            40.0   United-States    >50K.  \n",
              "4        7688.0           0.0            40.0   United-States    >50K.  \n",
              "6           0.0           0.0            30.0   United-States   <=50K.  "
            ]
          },
          "metadata": {
            "tags": []
          },
          "execution_count": 95
        }
      ]
    },
    {
      "metadata": {
        "id": "r0nUDB2iTlXo",
        "colab_type": "code",
        "outputId": "74c054a8-3912-4e57-b3ce-241332dc1748",
        "colab": {
          "base_uri": "https://localhost:8080/",
          "height": 238
        }
      },
      "cell_type": "code",
      "source": [
        "test_data4.values\n"
      ],
      "execution_count": 0,
      "outputs": [
        {
          "output_type": "execute_result",
          "data": {
            "text/plain": [
              "array([['25', ' Private', 226802.0, ..., 40.0, ' United-States',\n",
              "        ' <=50K.'],\n",
              "       ['38', ' Private', 89814.0, ..., 50.0, ' United-States',\n",
              "        ' <=50K.'],\n",
              "       ['28', ' Local-gov', 336951.0, ..., 40.0, ' United-States',\n",
              "        ' >50K.'],\n",
              "       ...,\n",
              "       ['38', ' Private', 374983.0, ..., 50.0, ' United-States',\n",
              "        ' <=50K.'],\n",
              "       ['44', ' Private', 83891.0, ..., 40.0, ' United-States',\n",
              "        ' <=50K.'],\n",
              "       ['35', ' Self-emp-inc', 182148.0, ..., 60.0, ' United-States',\n",
              "        ' >50K.']], dtype=object)"
            ]
          },
          "metadata": {
            "tags": []
          },
          "execution_count": 96
        }
      ]
    },
    {
      "metadata": {
        "id": "hGakAGwjUE6E",
        "colab_type": "text"
      },
      "cell_type": "markdown",
      "source": [
        "# The result shows that age is still string and should be converted to numeric"
      ]
    },
    {
      "metadata": {
        "id": "fCodpy-gTwMV",
        "colab_type": "code",
        "outputId": "8ec8b9a6-e6cc-4d34-e022-457328126138",
        "colab": {
          "base_uri": "https://localhost:8080/",
          "height": 119
        }
      },
      "cell_type": "code",
      "source": [
        "test_data4[\"age\"] = test_data4[\"age\"].astype(\"int\")"
      ],
      "execution_count": 0,
      "outputs": [
        {
          "output_type": "stream",
          "text": [
            "/usr/local/lib/python3.6/dist-packages/ipykernel_launcher.py:1: SettingWithCopyWarning: \n",
            "A value is trying to be set on a copy of a slice from a DataFrame.\n",
            "Try using .loc[row_indexer,col_indexer] = value instead\n",
            "\n",
            "See the caveats in the documentation: http://pandas.pydata.org/pandas-docs/stable/indexing.html#indexing-view-versus-copy\n",
            "  \"\"\"Entry point for launching an IPython kernel.\n"
          ],
          "name": "stderr"
        }
      ]
    },
    {
      "metadata": {
        "id": "I1VgwUshT6_o",
        "colab_type": "code",
        "outputId": "52eb27e3-d25d-474c-8089-dab59ac140ac",
        "colab": {
          "base_uri": "https://localhost:8080/",
          "height": 170
        }
      },
      "cell_type": "code",
      "source": [
        "test_data4.values"
      ],
      "execution_count": 0,
      "outputs": [
        {
          "output_type": "execute_result",
          "data": {
            "text/plain": [
              "array([[25, ' Private', 226802.0, ..., 40.0, ' United-States', ' <=50K.'],\n",
              "       [38, ' Private', 89814.0, ..., 50.0, ' United-States', ' <=50K.'],\n",
              "       [28, ' Local-gov', 336951.0, ..., 40.0, ' United-States',\n",
              "        ' >50K.'],\n",
              "       ...,\n",
              "       [38, ' Private', 374983.0, ..., 50.0, ' United-States', ' <=50K.'],\n",
              "       [44, ' Private', 83891.0, ..., 40.0, ' United-States', ' <=50K.'],\n",
              "       [35, ' Self-emp-inc', 182148.0, ..., 60.0, ' United-States',\n",
              "        ' >50K.']], dtype=object)"
            ]
          },
          "metadata": {
            "tags": []
          },
          "execution_count": 98
        }
      ]
    },
    {
      "metadata": {
        "id": "lPKCKBArT_Vo",
        "colab_type": "code",
        "outputId": "d2fa607b-0c78-4440-ff93-45f5b528e4f2",
        "colab": {
          "base_uri": "https://localhost:8080/",
          "height": 297
        }
      },
      "cell_type": "code",
      "source": [
        "test_data4.describe()"
      ],
      "execution_count": 0,
      "outputs": [
        {
          "output_type": "execute_result",
          "data": {
            "text/html": [
              "<div>\n",
              "<style scoped>\n",
              "    .dataframe tbody tr th:only-of-type {\n",
              "        vertical-align: middle;\n",
              "    }\n",
              "\n",
              "    .dataframe tbody tr th {\n",
              "        vertical-align: top;\n",
              "    }\n",
              "\n",
              "    .dataframe thead th {\n",
              "        text-align: right;\n",
              "    }\n",
              "</style>\n",
              "<table border=\"1\" class=\"dataframe\">\n",
              "  <thead>\n",
              "    <tr style=\"text-align: right;\">\n",
              "      <th></th>\n",
              "      <th>age</th>\n",
              "      <th>fnlwgt</th>\n",
              "      <th>education-num</th>\n",
              "      <th>capital-gain</th>\n",
              "      <th>capital-loss</th>\n",
              "      <th>hours-per-week</th>\n",
              "    </tr>\n",
              "  </thead>\n",
              "  <tbody>\n",
              "    <tr>\n",
              "      <th>count</th>\n",
              "      <td>15060.000000</td>\n",
              "      <td>1.506000e+04</td>\n",
              "      <td>15060.000000</td>\n",
              "      <td>15060.000000</td>\n",
              "      <td>15060.000000</td>\n",
              "      <td>15060.000000</td>\n",
              "    </tr>\n",
              "    <tr>\n",
              "      <th>mean</th>\n",
              "      <td>38.768327</td>\n",
              "      <td>1.896164e+05</td>\n",
              "      <td>10.112749</td>\n",
              "      <td>1120.301594</td>\n",
              "      <td>89.041899</td>\n",
              "      <td>40.951594</td>\n",
              "    </tr>\n",
              "    <tr>\n",
              "      <th>std</th>\n",
              "      <td>13.380676</td>\n",
              "      <td>1.056150e+05</td>\n",
              "      <td>2.558727</td>\n",
              "      <td>7703.181842</td>\n",
              "      <td>406.283245</td>\n",
              "      <td>12.062831</td>\n",
              "    </tr>\n",
              "    <tr>\n",
              "      <th>min</th>\n",
              "      <td>17.000000</td>\n",
              "      <td>1.349200e+04</td>\n",
              "      <td>1.000000</td>\n",
              "      <td>0.000000</td>\n",
              "      <td>0.000000</td>\n",
              "      <td>1.000000</td>\n",
              "    </tr>\n",
              "    <tr>\n",
              "      <th>25%</th>\n",
              "      <td>28.000000</td>\n",
              "      <td>1.166550e+05</td>\n",
              "      <td>9.000000</td>\n",
              "      <td>0.000000</td>\n",
              "      <td>0.000000</td>\n",
              "      <td>40.000000</td>\n",
              "    </tr>\n",
              "    <tr>\n",
              "      <th>50%</th>\n",
              "      <td>37.000000</td>\n",
              "      <td>1.779550e+05</td>\n",
              "      <td>10.000000</td>\n",
              "      <td>0.000000</td>\n",
              "      <td>0.000000</td>\n",
              "      <td>40.000000</td>\n",
              "    </tr>\n",
              "    <tr>\n",
              "      <th>75%</th>\n",
              "      <td>48.000000</td>\n",
              "      <td>2.385888e+05</td>\n",
              "      <td>13.000000</td>\n",
              "      <td>0.000000</td>\n",
              "      <td>0.000000</td>\n",
              "      <td>45.000000</td>\n",
              "    </tr>\n",
              "    <tr>\n",
              "      <th>max</th>\n",
              "      <td>90.000000</td>\n",
              "      <td>1.490400e+06</td>\n",
              "      <td>16.000000</td>\n",
              "      <td>99999.000000</td>\n",
              "      <td>3770.000000</td>\n",
              "      <td>99.000000</td>\n",
              "    </tr>\n",
              "  </tbody>\n",
              "</table>\n",
              "</div>"
            ],
            "text/plain": [
              "                age        fnlwgt  education-num  capital-gain  capital-loss  \\\n",
              "count  15060.000000  1.506000e+04   15060.000000  15060.000000  15060.000000   \n",
              "mean      38.768327  1.896164e+05      10.112749   1120.301594     89.041899   \n",
              "std       13.380676  1.056150e+05       2.558727   7703.181842    406.283245   \n",
              "min       17.000000  1.349200e+04       1.000000      0.000000      0.000000   \n",
              "25%       28.000000  1.166550e+05       9.000000      0.000000      0.000000   \n",
              "50%       37.000000  1.779550e+05      10.000000      0.000000      0.000000   \n",
              "75%       48.000000  2.385888e+05      13.000000      0.000000      0.000000   \n",
              "max       90.000000  1.490400e+06      16.000000  99999.000000   3770.000000   \n",
              "\n",
              "       hours-per-week  \n",
              "count    15060.000000  \n",
              "mean        40.951594  \n",
              "std         12.062831  \n",
              "min          1.000000  \n",
              "25%         40.000000  \n",
              "50%         40.000000  \n",
              "75%         45.000000  \n",
              "max         99.000000  "
            ]
          },
          "metadata": {
            "tags": []
          },
          "execution_count": 99
        }
      ]
    },
    {
      "metadata": {
        "id": "RecP9KlET0vQ",
        "colab_type": "code",
        "outputId": "98701e59-d728-427f-bd80-1c68036a9527",
        "colab": {
          "base_uri": "https://localhost:8080/",
          "height": 289
        }
      },
      "cell_type": "code",
      "source": [
        "# Lets remove the fnlwgt from our test_data\n",
        "\n",
        "test_data5 = test_data4.drop(columns = \"fnlwgt\")\n",
        "test_data5.head()"
      ],
      "execution_count": 0,
      "outputs": [
        {
          "output_type": "execute_result",
          "data": {
            "text/html": [
              "<div>\n",
              "<style scoped>\n",
              "    .dataframe tbody tr th:only-of-type {\n",
              "        vertical-align: middle;\n",
              "    }\n",
              "\n",
              "    .dataframe tbody tr th {\n",
              "        vertical-align: top;\n",
              "    }\n",
              "\n",
              "    .dataframe thead th {\n",
              "        text-align: right;\n",
              "    }\n",
              "</style>\n",
              "<table border=\"1\" class=\"dataframe\">\n",
              "  <thead>\n",
              "    <tr style=\"text-align: right;\">\n",
              "      <th></th>\n",
              "      <th>age</th>\n",
              "      <th>workclass</th>\n",
              "      <th>education</th>\n",
              "      <th>education-num</th>\n",
              "      <th>marital-status</th>\n",
              "      <th>occupation</th>\n",
              "      <th>relationship</th>\n",
              "      <th>race</th>\n",
              "      <th>sex</th>\n",
              "      <th>capital-gain</th>\n",
              "      <th>capital-loss</th>\n",
              "      <th>hours-per-week</th>\n",
              "      <th>native-country</th>\n",
              "      <th>income</th>\n",
              "    </tr>\n",
              "  </thead>\n",
              "  <tbody>\n",
              "    <tr>\n",
              "      <th>1</th>\n",
              "      <td>25</td>\n",
              "      <td>Private</td>\n",
              "      <td>11th</td>\n",
              "      <td>7.0</td>\n",
              "      <td>Never-married</td>\n",
              "      <td>Machine-op-inspct</td>\n",
              "      <td>Own-child</td>\n",
              "      <td>Black</td>\n",
              "      <td>Male</td>\n",
              "      <td>0.0</td>\n",
              "      <td>0.0</td>\n",
              "      <td>40.0</td>\n",
              "      <td>United-States</td>\n",
              "      <td>&lt;=50K.</td>\n",
              "    </tr>\n",
              "    <tr>\n",
              "      <th>2</th>\n",
              "      <td>38</td>\n",
              "      <td>Private</td>\n",
              "      <td>HS-grad</td>\n",
              "      <td>9.0</td>\n",
              "      <td>Married-civ-spouse</td>\n",
              "      <td>Farming-fishing</td>\n",
              "      <td>Husband</td>\n",
              "      <td>White</td>\n",
              "      <td>Male</td>\n",
              "      <td>0.0</td>\n",
              "      <td>0.0</td>\n",
              "      <td>50.0</td>\n",
              "      <td>United-States</td>\n",
              "      <td>&lt;=50K.</td>\n",
              "    </tr>\n",
              "    <tr>\n",
              "      <th>3</th>\n",
              "      <td>28</td>\n",
              "      <td>Local-gov</td>\n",
              "      <td>Assoc-acdm</td>\n",
              "      <td>12.0</td>\n",
              "      <td>Married-civ-spouse</td>\n",
              "      <td>Protective-serv</td>\n",
              "      <td>Husband</td>\n",
              "      <td>White</td>\n",
              "      <td>Male</td>\n",
              "      <td>0.0</td>\n",
              "      <td>0.0</td>\n",
              "      <td>40.0</td>\n",
              "      <td>United-States</td>\n",
              "      <td>&gt;50K.</td>\n",
              "    </tr>\n",
              "    <tr>\n",
              "      <th>4</th>\n",
              "      <td>44</td>\n",
              "      <td>Private</td>\n",
              "      <td>Some-college</td>\n",
              "      <td>10.0</td>\n",
              "      <td>Married-civ-spouse</td>\n",
              "      <td>Machine-op-inspct</td>\n",
              "      <td>Husband</td>\n",
              "      <td>Black</td>\n",
              "      <td>Male</td>\n",
              "      <td>7688.0</td>\n",
              "      <td>0.0</td>\n",
              "      <td>40.0</td>\n",
              "      <td>United-States</td>\n",
              "      <td>&gt;50K.</td>\n",
              "    </tr>\n",
              "    <tr>\n",
              "      <th>6</th>\n",
              "      <td>34</td>\n",
              "      <td>Private</td>\n",
              "      <td>10th</td>\n",
              "      <td>6.0</td>\n",
              "      <td>Never-married</td>\n",
              "      <td>Other-service</td>\n",
              "      <td>Not-in-family</td>\n",
              "      <td>White</td>\n",
              "      <td>Male</td>\n",
              "      <td>0.0</td>\n",
              "      <td>0.0</td>\n",
              "      <td>30.0</td>\n",
              "      <td>United-States</td>\n",
              "      <td>&lt;=50K.</td>\n",
              "    </tr>\n",
              "  </tbody>\n",
              "</table>\n",
              "</div>"
            ],
            "text/plain": [
              "   age   workclass      education  education-num       marital-status  \\\n",
              "1   25     Private           11th            7.0        Never-married   \n",
              "2   38     Private        HS-grad            9.0   Married-civ-spouse   \n",
              "3   28   Local-gov     Assoc-acdm           12.0   Married-civ-spouse   \n",
              "4   44     Private   Some-college           10.0   Married-civ-spouse   \n",
              "6   34     Private           10th            6.0        Never-married   \n",
              "\n",
              "           occupation    relationship    race    sex  capital-gain  \\\n",
              "1   Machine-op-inspct       Own-child   Black   Male           0.0   \n",
              "2     Farming-fishing         Husband   White   Male           0.0   \n",
              "3     Protective-serv         Husband   White   Male           0.0   \n",
              "4   Machine-op-inspct         Husband   Black   Male        7688.0   \n",
              "6       Other-service   Not-in-family   White   Male           0.0   \n",
              "\n",
              "   capital-loss  hours-per-week  native-country   income  \n",
              "1           0.0            40.0   United-States   <=50K.  \n",
              "2           0.0            50.0   United-States   <=50K.  \n",
              "3           0.0            40.0   United-States    >50K.  \n",
              "4           0.0            40.0   United-States    >50K.  \n",
              "6           0.0            30.0   United-States   <=50K.  "
            ]
          },
          "metadata": {
            "tags": []
          },
          "execution_count": 100
        }
      ]
    },
    {
      "metadata": {
        "id": "-7nM6SajtJJ6",
        "colab_type": "text"
      },
      "cell_type": "markdown",
      "source": [
        "Lets join the test data and the train data together "
      ]
    },
    {
      "metadata": {
        "id": "5wn_au0GUc5a",
        "colab_type": "code",
        "outputId": "82fa70c4-28a2-4f76-d9a6-652ac96b22de",
        "colab": {
          "base_uri": "https://localhost:8080/",
          "height": 306
        }
      },
      "cell_type": "code",
      "source": [
        "\n",
        "\n",
        "test_train = pd.concat([Table1, test_data5], join = \"outer\")\n",
        "test_train.head()\n"
      ],
      "execution_count": 0,
      "outputs": [
        {
          "output_type": "execute_result",
          "data": {
            "text/html": [
              "<div>\n",
              "<style scoped>\n",
              "    .dataframe tbody tr th:only-of-type {\n",
              "        vertical-align: middle;\n",
              "    }\n",
              "\n",
              "    .dataframe tbody tr th {\n",
              "        vertical-align: top;\n",
              "    }\n",
              "\n",
              "    .dataframe thead th {\n",
              "        text-align: right;\n",
              "    }\n",
              "</style>\n",
              "<table border=\"1\" class=\"dataframe\">\n",
              "  <thead>\n",
              "    <tr style=\"text-align: right;\">\n",
              "      <th></th>\n",
              "      <th>age</th>\n",
              "      <th>workclass</th>\n",
              "      <th>education</th>\n",
              "      <th>education-num</th>\n",
              "      <th>marital-status</th>\n",
              "      <th>occupation</th>\n",
              "      <th>relationship</th>\n",
              "      <th>race</th>\n",
              "      <th>sex</th>\n",
              "      <th>capital-gain</th>\n",
              "      <th>capital-loss</th>\n",
              "      <th>hours-per-week</th>\n",
              "      <th>native-country</th>\n",
              "      <th>income</th>\n",
              "    </tr>\n",
              "  </thead>\n",
              "  <tbody>\n",
              "    <tr>\n",
              "      <th>0</th>\n",
              "      <td>50</td>\n",
              "      <td>Self-emp-not-inc</td>\n",
              "      <td>Bachelors</td>\n",
              "      <td>13.0</td>\n",
              "      <td>Married-civ-spouse</td>\n",
              "      <td>Exec-managerial</td>\n",
              "      <td>Husband</td>\n",
              "      <td>White</td>\n",
              "      <td>Male</td>\n",
              "      <td>0.0</td>\n",
              "      <td>0.0</td>\n",
              "      <td>13.0</td>\n",
              "      <td>United-States</td>\n",
              "      <td>&lt;=50K</td>\n",
              "    </tr>\n",
              "    <tr>\n",
              "      <th>1</th>\n",
              "      <td>38</td>\n",
              "      <td>Private</td>\n",
              "      <td>HS-grad</td>\n",
              "      <td>9.0</td>\n",
              "      <td>Divorced</td>\n",
              "      <td>Handlers-cleaners</td>\n",
              "      <td>Not-in-family</td>\n",
              "      <td>White</td>\n",
              "      <td>Male</td>\n",
              "      <td>0.0</td>\n",
              "      <td>0.0</td>\n",
              "      <td>40.0</td>\n",
              "      <td>United-States</td>\n",
              "      <td>&lt;=50K</td>\n",
              "    </tr>\n",
              "    <tr>\n",
              "      <th>2</th>\n",
              "      <td>53</td>\n",
              "      <td>Private</td>\n",
              "      <td>11th</td>\n",
              "      <td>7.0</td>\n",
              "      <td>Married-civ-spouse</td>\n",
              "      <td>Handlers-cleaners</td>\n",
              "      <td>Husband</td>\n",
              "      <td>Black</td>\n",
              "      <td>Male</td>\n",
              "      <td>0.0</td>\n",
              "      <td>0.0</td>\n",
              "      <td>40.0</td>\n",
              "      <td>United-States</td>\n",
              "      <td>&lt;=50K</td>\n",
              "    </tr>\n",
              "    <tr>\n",
              "      <th>3</th>\n",
              "      <td>28</td>\n",
              "      <td>Private</td>\n",
              "      <td>Bachelors</td>\n",
              "      <td>13.0</td>\n",
              "      <td>Married-civ-spouse</td>\n",
              "      <td>Prof-specialty</td>\n",
              "      <td>Wife</td>\n",
              "      <td>Black</td>\n",
              "      <td>Female</td>\n",
              "      <td>0.0</td>\n",
              "      <td>0.0</td>\n",
              "      <td>40.0</td>\n",
              "      <td>Cuba</td>\n",
              "      <td>&lt;=50K</td>\n",
              "    </tr>\n",
              "    <tr>\n",
              "      <th>4</th>\n",
              "      <td>37</td>\n",
              "      <td>Private</td>\n",
              "      <td>Masters</td>\n",
              "      <td>14.0</td>\n",
              "      <td>Married-civ-spouse</td>\n",
              "      <td>Exec-managerial</td>\n",
              "      <td>Wife</td>\n",
              "      <td>White</td>\n",
              "      <td>Female</td>\n",
              "      <td>0.0</td>\n",
              "      <td>0.0</td>\n",
              "      <td>40.0</td>\n",
              "      <td>United-States</td>\n",
              "      <td>&lt;=50K</td>\n",
              "    </tr>\n",
              "  </tbody>\n",
              "</table>\n",
              "</div>"
            ],
            "text/plain": [
              "   age          workclass   education  education-num       marital-status  \\\n",
              "0   50   Self-emp-not-inc   Bachelors           13.0   Married-civ-spouse   \n",
              "1   38            Private     HS-grad            9.0             Divorced   \n",
              "2   53            Private        11th            7.0   Married-civ-spouse   \n",
              "3   28            Private   Bachelors           13.0   Married-civ-spouse   \n",
              "4   37            Private     Masters           14.0   Married-civ-spouse   \n",
              "\n",
              "           occupation    relationship    race      sex  capital-gain  \\\n",
              "0     Exec-managerial         Husband   White     Male           0.0   \n",
              "1   Handlers-cleaners   Not-in-family   White     Male           0.0   \n",
              "2   Handlers-cleaners         Husband   Black     Male           0.0   \n",
              "3      Prof-specialty            Wife   Black   Female           0.0   \n",
              "4     Exec-managerial            Wife   White   Female           0.0   \n",
              "\n",
              "   capital-loss  hours-per-week  native-country  income  \n",
              "0           0.0            13.0   United-States   <=50K  \n",
              "1           0.0            40.0   United-States   <=50K  \n",
              "2           0.0            40.0   United-States   <=50K  \n",
              "3           0.0            40.0            Cuba   <=50K  \n",
              "4           0.0            40.0   United-States   <=50K  "
            ]
          },
          "metadata": {
            "tags": []
          },
          "execution_count": 101
        }
      ]
    },
    {
      "metadata": {
        "id": "fRYjm6kci1Eq",
        "colab_type": "code",
        "outputId": "ba47f20b-2df1-4a32-ffa2-d793a31478d6",
        "colab": {
          "base_uri": "https://localhost:8080/",
          "height": 306
        }
      },
      "cell_type": "code",
      "source": [
        "test_train.reset_index(drop=True, inplace=True)\n",
        "test_train.head()"
      ],
      "execution_count": 0,
      "outputs": [
        {
          "output_type": "execute_result",
          "data": {
            "text/html": [
              "<div>\n",
              "<style scoped>\n",
              "    .dataframe tbody tr th:only-of-type {\n",
              "        vertical-align: middle;\n",
              "    }\n",
              "\n",
              "    .dataframe tbody tr th {\n",
              "        vertical-align: top;\n",
              "    }\n",
              "\n",
              "    .dataframe thead th {\n",
              "        text-align: right;\n",
              "    }\n",
              "</style>\n",
              "<table border=\"1\" class=\"dataframe\">\n",
              "  <thead>\n",
              "    <tr style=\"text-align: right;\">\n",
              "      <th></th>\n",
              "      <th>age</th>\n",
              "      <th>workclass</th>\n",
              "      <th>education</th>\n",
              "      <th>education-num</th>\n",
              "      <th>marital-status</th>\n",
              "      <th>occupation</th>\n",
              "      <th>relationship</th>\n",
              "      <th>race</th>\n",
              "      <th>sex</th>\n",
              "      <th>capital-gain</th>\n",
              "      <th>capital-loss</th>\n",
              "      <th>hours-per-week</th>\n",
              "      <th>native-country</th>\n",
              "      <th>income</th>\n",
              "    </tr>\n",
              "  </thead>\n",
              "  <tbody>\n",
              "    <tr>\n",
              "      <th>0</th>\n",
              "      <td>50</td>\n",
              "      <td>Self-emp-not-inc</td>\n",
              "      <td>Bachelors</td>\n",
              "      <td>13.0</td>\n",
              "      <td>Married-civ-spouse</td>\n",
              "      <td>Exec-managerial</td>\n",
              "      <td>Husband</td>\n",
              "      <td>White</td>\n",
              "      <td>Male</td>\n",
              "      <td>0.0</td>\n",
              "      <td>0.0</td>\n",
              "      <td>13.0</td>\n",
              "      <td>United-States</td>\n",
              "      <td>&lt;=50K</td>\n",
              "    </tr>\n",
              "    <tr>\n",
              "      <th>1</th>\n",
              "      <td>38</td>\n",
              "      <td>Private</td>\n",
              "      <td>HS-grad</td>\n",
              "      <td>9.0</td>\n",
              "      <td>Divorced</td>\n",
              "      <td>Handlers-cleaners</td>\n",
              "      <td>Not-in-family</td>\n",
              "      <td>White</td>\n",
              "      <td>Male</td>\n",
              "      <td>0.0</td>\n",
              "      <td>0.0</td>\n",
              "      <td>40.0</td>\n",
              "      <td>United-States</td>\n",
              "      <td>&lt;=50K</td>\n",
              "    </tr>\n",
              "    <tr>\n",
              "      <th>2</th>\n",
              "      <td>53</td>\n",
              "      <td>Private</td>\n",
              "      <td>11th</td>\n",
              "      <td>7.0</td>\n",
              "      <td>Married-civ-spouse</td>\n",
              "      <td>Handlers-cleaners</td>\n",
              "      <td>Husband</td>\n",
              "      <td>Black</td>\n",
              "      <td>Male</td>\n",
              "      <td>0.0</td>\n",
              "      <td>0.0</td>\n",
              "      <td>40.0</td>\n",
              "      <td>United-States</td>\n",
              "      <td>&lt;=50K</td>\n",
              "    </tr>\n",
              "    <tr>\n",
              "      <th>3</th>\n",
              "      <td>28</td>\n",
              "      <td>Private</td>\n",
              "      <td>Bachelors</td>\n",
              "      <td>13.0</td>\n",
              "      <td>Married-civ-spouse</td>\n",
              "      <td>Prof-specialty</td>\n",
              "      <td>Wife</td>\n",
              "      <td>Black</td>\n",
              "      <td>Female</td>\n",
              "      <td>0.0</td>\n",
              "      <td>0.0</td>\n",
              "      <td>40.0</td>\n",
              "      <td>Cuba</td>\n",
              "      <td>&lt;=50K</td>\n",
              "    </tr>\n",
              "    <tr>\n",
              "      <th>4</th>\n",
              "      <td>37</td>\n",
              "      <td>Private</td>\n",
              "      <td>Masters</td>\n",
              "      <td>14.0</td>\n",
              "      <td>Married-civ-spouse</td>\n",
              "      <td>Exec-managerial</td>\n",
              "      <td>Wife</td>\n",
              "      <td>White</td>\n",
              "      <td>Female</td>\n",
              "      <td>0.0</td>\n",
              "      <td>0.0</td>\n",
              "      <td>40.0</td>\n",
              "      <td>United-States</td>\n",
              "      <td>&lt;=50K</td>\n",
              "    </tr>\n",
              "  </tbody>\n",
              "</table>\n",
              "</div>"
            ],
            "text/plain": [
              "   age          workclass   education  education-num       marital-status  \\\n",
              "0   50   Self-emp-not-inc   Bachelors           13.0   Married-civ-spouse   \n",
              "1   38            Private     HS-grad            9.0             Divorced   \n",
              "2   53            Private        11th            7.0   Married-civ-spouse   \n",
              "3   28            Private   Bachelors           13.0   Married-civ-spouse   \n",
              "4   37            Private     Masters           14.0   Married-civ-spouse   \n",
              "\n",
              "           occupation    relationship    race      sex  capital-gain  \\\n",
              "0     Exec-managerial         Husband   White     Male           0.0   \n",
              "1   Handlers-cleaners   Not-in-family   White     Male           0.0   \n",
              "2   Handlers-cleaners         Husband   Black     Male           0.0   \n",
              "3      Prof-specialty            Wife   Black   Female           0.0   \n",
              "4     Exec-managerial            Wife   White   Female           0.0   \n",
              "\n",
              "   capital-loss  hours-per-week  native-country  income  \n",
              "0           0.0            13.0   United-States   <=50K  \n",
              "1           0.0            40.0   United-States   <=50K  \n",
              "2           0.0            40.0   United-States   <=50K  \n",
              "3           0.0            40.0            Cuba   <=50K  \n",
              "4           0.0            40.0   United-States   <=50K  "
            ]
          },
          "metadata": {
            "tags": []
          },
          "execution_count": 102
        }
      ]
    },
    {
      "metadata": {
        "id": "8pwvHzzDWiOS",
        "colab_type": "code",
        "outputId": "5a73dafe-1b16-4ec3-fe75-d556e5661d57",
        "colab": {
          "base_uri": "https://localhost:8080/",
          "height": 514
        }
      },
      "cell_type": "code",
      "source": [
        "missing_values(test_train, \"occupation\")"
      ],
      "execution_count": 0,
      "outputs": [
        {
          "output_type": "execute_result",
          "data": {
            "text/html": [
              "<div>\n",
              "<style scoped>\n",
              "    .dataframe tbody tr th:only-of-type {\n",
              "        vertical-align: middle;\n",
              "    }\n",
              "\n",
              "    .dataframe tbody tr th {\n",
              "        vertical-align: top;\n",
              "    }\n",
              "\n",
              "    .dataframe thead th {\n",
              "        text-align: right;\n",
              "    }\n",
              "</style>\n",
              "<table border=\"1\" class=\"dataframe\">\n",
              "  <thead>\n",
              "    <tr style=\"text-align: right;\">\n",
              "      <th></th>\n",
              "      <th>occupation</th>\n",
              "    </tr>\n",
              "    <tr>\n",
              "      <th>occupation</th>\n",
              "      <th></th>\n",
              "    </tr>\n",
              "  </thead>\n",
              "  <tbody>\n",
              "    <tr>\n",
              "      <th>Adm-clerical</th>\n",
              "      <td>5539</td>\n",
              "    </tr>\n",
              "    <tr>\n",
              "      <th>Armed-Forces</th>\n",
              "      <td>14</td>\n",
              "    </tr>\n",
              "    <tr>\n",
              "      <th>Craft-repair</th>\n",
              "      <td>6020</td>\n",
              "    </tr>\n",
              "    <tr>\n",
              "      <th>Exec-managerial</th>\n",
              "      <td>5984</td>\n",
              "    </tr>\n",
              "    <tr>\n",
              "      <th>Farming-fishing</th>\n",
              "      <td>1480</td>\n",
              "    </tr>\n",
              "    <tr>\n",
              "      <th>Handlers-cleaners</th>\n",
              "      <td>2046</td>\n",
              "    </tr>\n",
              "    <tr>\n",
              "      <th>Machine-op-inspct</th>\n",
              "      <td>2970</td>\n",
              "    </tr>\n",
              "    <tr>\n",
              "      <th>Other-service</th>\n",
              "      <td>4808</td>\n",
              "    </tr>\n",
              "    <tr>\n",
              "      <th>Priv-house-serv</th>\n",
              "      <td>232</td>\n",
              "    </tr>\n",
              "    <tr>\n",
              "      <th>Prof-specialty</th>\n",
              "      <td>6008</td>\n",
              "    </tr>\n",
              "    <tr>\n",
              "      <th>Protective-serv</th>\n",
              "      <td>976</td>\n",
              "    </tr>\n",
              "    <tr>\n",
              "      <th>Sales</th>\n",
              "      <td>5408</td>\n",
              "    </tr>\n",
              "    <tr>\n",
              "      <th>Tech-support</th>\n",
              "      <td>1420</td>\n",
              "    </tr>\n",
              "    <tr>\n",
              "      <th>Transport-moving</th>\n",
              "      <td>2316</td>\n",
              "    </tr>\n",
              "  </tbody>\n",
              "</table>\n",
              "</div>"
            ],
            "text/plain": [
              "                    occupation\n",
              "occupation                    \n",
              " Adm-clerical             5539\n",
              " Armed-Forces               14\n",
              " Craft-repair             6020\n",
              " Exec-managerial          5984\n",
              " Farming-fishing          1480\n",
              " Handlers-cleaners        2046\n",
              " Machine-op-inspct        2970\n",
              " Other-service            4808\n",
              " Priv-house-serv           232\n",
              " Prof-specialty           6008\n",
              " Protective-serv           976\n",
              " Sales                    5408\n",
              " Tech-support             1420\n",
              " Transport-moving         2316"
            ]
          },
          "metadata": {
            "tags": []
          },
          "execution_count": 104
        }
      ]
    },
    {
      "metadata": {
        "id": "8Q6R1fpxWiRW",
        "colab_type": "code",
        "outputId": "ad718d66-6a84-4525-8408-7a322524a0f9",
        "colab": {
          "base_uri": "https://localhost:8080/",
          "height": 297
        }
      },
      "cell_type": "code",
      "source": [
        "missing_values(test_train, \"workclass\")"
      ],
      "execution_count": 0,
      "outputs": [
        {
          "output_type": "execute_result",
          "data": {
            "text/html": [
              "<div>\n",
              "<style scoped>\n",
              "    .dataframe tbody tr th:only-of-type {\n",
              "        vertical-align: middle;\n",
              "    }\n",
              "\n",
              "    .dataframe tbody tr th {\n",
              "        vertical-align: top;\n",
              "    }\n",
              "\n",
              "    .dataframe thead th {\n",
              "        text-align: right;\n",
              "    }\n",
              "</style>\n",
              "<table border=\"1\" class=\"dataframe\">\n",
              "  <thead>\n",
              "    <tr style=\"text-align: right;\">\n",
              "      <th></th>\n",
              "      <th>workclass</th>\n",
              "    </tr>\n",
              "    <tr>\n",
              "      <th>workclass</th>\n",
              "      <th></th>\n",
              "    </tr>\n",
              "  </thead>\n",
              "  <tbody>\n",
              "    <tr>\n",
              "      <th>Federal-gov</th>\n",
              "      <td>1406</td>\n",
              "    </tr>\n",
              "    <tr>\n",
              "      <th>Local-gov</th>\n",
              "      <td>3100</td>\n",
              "    </tr>\n",
              "    <tr>\n",
              "      <th>Private</th>\n",
              "      <td>33307</td>\n",
              "    </tr>\n",
              "    <tr>\n",
              "      <th>Self-emp-inc</th>\n",
              "      <td>1646</td>\n",
              "    </tr>\n",
              "    <tr>\n",
              "      <th>Self-emp-not-inc</th>\n",
              "      <td>3796</td>\n",
              "    </tr>\n",
              "    <tr>\n",
              "      <th>State-gov</th>\n",
              "      <td>1945</td>\n",
              "    </tr>\n",
              "    <tr>\n",
              "      <th>Without-pay</th>\n",
              "      <td>21</td>\n",
              "    </tr>\n",
              "  </tbody>\n",
              "</table>\n",
              "</div>"
            ],
            "text/plain": [
              "                   workclass\n",
              "workclass                   \n",
              " Federal-gov            1406\n",
              " Local-gov              3100\n",
              " Private               33307\n",
              " Self-emp-inc           1646\n",
              " Self-emp-not-inc       3796\n",
              " State-gov              1945\n",
              " Without-pay              21"
            ]
          },
          "metadata": {
            "tags": []
          },
          "execution_count": 105
        }
      ]
    },
    {
      "metadata": {
        "id": "aB-rlop7WiT9",
        "colab_type": "code",
        "outputId": "f120f6df-8d18-4e45-864e-92c8b9c8a112",
        "colab": {
          "base_uri": "https://localhost:8080/",
          "height": 235
        }
      },
      "cell_type": "code",
      "source": [
        "missing_values(test_train, \"age\").head()"
      ],
      "execution_count": 0,
      "outputs": [
        {
          "output_type": "execute_result",
          "data": {
            "text/html": [
              "<div>\n",
              "<style scoped>\n",
              "    .dataframe tbody tr th:only-of-type {\n",
              "        vertical-align: middle;\n",
              "    }\n",
              "\n",
              "    .dataframe tbody tr th {\n",
              "        vertical-align: top;\n",
              "    }\n",
              "\n",
              "    .dataframe thead th {\n",
              "        text-align: right;\n",
              "    }\n",
              "</style>\n",
              "<table border=\"1\" class=\"dataframe\">\n",
              "  <thead>\n",
              "    <tr style=\"text-align: right;\">\n",
              "      <th></th>\n",
              "      <th>age</th>\n",
              "    </tr>\n",
              "    <tr>\n",
              "      <th>age</th>\n",
              "      <th></th>\n",
              "    </tr>\n",
              "  </thead>\n",
              "  <tbody>\n",
              "    <tr>\n",
              "      <th>17</th>\n",
              "      <td>493</td>\n",
              "    </tr>\n",
              "    <tr>\n",
              "      <th>18</th>\n",
              "      <td>695</td>\n",
              "    </tr>\n",
              "    <tr>\n",
              "      <th>19</th>\n",
              "      <td>864</td>\n",
              "    </tr>\n",
              "    <tr>\n",
              "      <th>20</th>\n",
              "      <td>916</td>\n",
              "    </tr>\n",
              "    <tr>\n",
              "      <th>21</th>\n",
              "      <td>935</td>\n",
              "    </tr>\n",
              "  </tbody>\n",
              "</table>\n",
              "</div>"
            ],
            "text/plain": [
              "     age\n",
              "age     \n",
              "17   493\n",
              "18   695\n",
              "19   864\n",
              "20   916\n",
              "21   935"
            ]
          },
          "metadata": {
            "tags": []
          },
          "execution_count": 106
        }
      ]
    },
    {
      "metadata": {
        "id": "z8OOFaNlWiZH",
        "colab_type": "code",
        "outputId": "fc013ede-25d6-425f-a93b-cda1a856b3f7",
        "colab": {
          "base_uri": "https://localhost:8080/",
          "height": 235
        }
      },
      "cell_type": "code",
      "source": [
        "missing_values(test_train, \"native-country\").head()"
      ],
      "execution_count": 0,
      "outputs": [
        {
          "output_type": "execute_result",
          "data": {
            "text/html": [
              "<div>\n",
              "<style scoped>\n",
              "    .dataframe tbody tr th:only-of-type {\n",
              "        vertical-align: middle;\n",
              "    }\n",
              "\n",
              "    .dataframe tbody tr th {\n",
              "        vertical-align: top;\n",
              "    }\n",
              "\n",
              "    .dataframe thead th {\n",
              "        text-align: right;\n",
              "    }\n",
              "</style>\n",
              "<table border=\"1\" class=\"dataframe\">\n",
              "  <thead>\n",
              "    <tr style=\"text-align: right;\">\n",
              "      <th></th>\n",
              "      <th>native-country</th>\n",
              "    </tr>\n",
              "    <tr>\n",
              "      <th>native-country</th>\n",
              "      <th></th>\n",
              "    </tr>\n",
              "  </thead>\n",
              "  <tbody>\n",
              "    <tr>\n",
              "      <th>Cambodia</th>\n",
              "      <td>26</td>\n",
              "    </tr>\n",
              "    <tr>\n",
              "      <th>Canada</th>\n",
              "      <td>163</td>\n",
              "    </tr>\n",
              "    <tr>\n",
              "      <th>China</th>\n",
              "      <td>113</td>\n",
              "    </tr>\n",
              "    <tr>\n",
              "      <th>Columbia</th>\n",
              "      <td>82</td>\n",
              "    </tr>\n",
              "    <tr>\n",
              "      <th>Cuba</th>\n",
              "      <td>133</td>\n",
              "    </tr>\n",
              "  </tbody>\n",
              "</table>\n",
              "</div>"
            ],
            "text/plain": [
              "                native-country\n",
              "native-country                \n",
              " Cambodia                   26\n",
              " Canada                    163\n",
              " China                     113\n",
              " Columbia                   82\n",
              " Cuba                      133"
            ]
          },
          "metadata": {
            "tags": []
          },
          "execution_count": 107
        }
      ]
    },
    {
      "metadata": {
        "id": "zDQh7u_5WicQ",
        "colab_type": "code",
        "outputId": "cea197c6-fc1f-41f2-a27d-67a4c11b8b23",
        "colab": {
          "base_uri": "https://localhost:8080/",
          "height": 235
        }
      },
      "cell_type": "code",
      "source": [
        "missing_values(test_train, \"race\")"
      ],
      "execution_count": 0,
      "outputs": [
        {
          "output_type": "execute_result",
          "data": {
            "text/html": [
              "<div>\n",
              "<style scoped>\n",
              "    .dataframe tbody tr th:only-of-type {\n",
              "        vertical-align: middle;\n",
              "    }\n",
              "\n",
              "    .dataframe tbody tr th {\n",
              "        vertical-align: top;\n",
              "    }\n",
              "\n",
              "    .dataframe thead th {\n",
              "        text-align: right;\n",
              "    }\n",
              "</style>\n",
              "<table border=\"1\" class=\"dataframe\">\n",
              "  <thead>\n",
              "    <tr style=\"text-align: right;\">\n",
              "      <th></th>\n",
              "      <th>race</th>\n",
              "    </tr>\n",
              "    <tr>\n",
              "      <th>race</th>\n",
              "      <th></th>\n",
              "    </tr>\n",
              "  </thead>\n",
              "  <tbody>\n",
              "    <tr>\n",
              "      <th>Amer-Indian-Eskimo</th>\n",
              "      <td>435</td>\n",
              "    </tr>\n",
              "    <tr>\n",
              "      <th>Asian-Pac-Islander</th>\n",
              "      <td>1303</td>\n",
              "    </tr>\n",
              "    <tr>\n",
              "      <th>Black</th>\n",
              "      <td>4228</td>\n",
              "    </tr>\n",
              "    <tr>\n",
              "      <th>Other</th>\n",
              "      <td>353</td>\n",
              "    </tr>\n",
              "    <tr>\n",
              "      <th>White</th>\n",
              "      <td>38902</td>\n",
              "    </tr>\n",
              "  </tbody>\n",
              "</table>\n",
              "</div>"
            ],
            "text/plain": [
              "                      race\n",
              "race                      \n",
              " Amer-Indian-Eskimo    435\n",
              " Asian-Pac-Islander   1303\n",
              " Black                4228\n",
              " Other                 353\n",
              " White               38902"
            ]
          },
          "metadata": {
            "tags": []
          },
          "execution_count": 108
        }
      ]
    },
    {
      "metadata": {
        "id": "s-TWEv94Wifj",
        "colab_type": "code",
        "outputId": "2041407a-a018-45b7-af04-99c0b4cd9966",
        "colab": {
          "base_uri": "https://localhost:8080/",
          "height": 142
        }
      },
      "cell_type": "code",
      "source": [
        "missing_values(test_train, \"sex\")"
      ],
      "execution_count": 0,
      "outputs": [
        {
          "output_type": "execute_result",
          "data": {
            "text/html": [
              "<div>\n",
              "<style scoped>\n",
              "    .dataframe tbody tr th:only-of-type {\n",
              "        vertical-align: middle;\n",
              "    }\n",
              "\n",
              "    .dataframe tbody tr th {\n",
              "        vertical-align: top;\n",
              "    }\n",
              "\n",
              "    .dataframe thead th {\n",
              "        text-align: right;\n",
              "    }\n",
              "</style>\n",
              "<table border=\"1\" class=\"dataframe\">\n",
              "  <thead>\n",
              "    <tr style=\"text-align: right;\">\n",
              "      <th></th>\n",
              "      <th>sex</th>\n",
              "    </tr>\n",
              "    <tr>\n",
              "      <th>sex</th>\n",
              "      <th></th>\n",
              "    </tr>\n",
              "  </thead>\n",
              "  <tbody>\n",
              "    <tr>\n",
              "      <th>Female</th>\n",
              "      <td>14695</td>\n",
              "    </tr>\n",
              "    <tr>\n",
              "      <th>Male</th>\n",
              "      <td>30526</td>\n",
              "    </tr>\n",
              "  </tbody>\n",
              "</table>\n",
              "</div>"
            ],
            "text/plain": [
              "           sex\n",
              "sex           \n",
              " Female  14695\n",
              " Male    30526"
            ]
          },
          "metadata": {
            "tags": []
          },
          "execution_count": 109
        }
      ]
    },
    {
      "metadata": {
        "id": "HB4Xw49dWiqb",
        "colab_type": "code",
        "outputId": "0f37f748-fc9b-49bc-bcbb-0a20da985dc4",
        "colab": {
          "base_uri": "https://localhost:8080/",
          "height": 204
        }
      },
      "cell_type": "code",
      "source": [
        "missing_values(test_train, \"income\")"
      ],
      "execution_count": 0,
      "outputs": [
        {
          "output_type": "execute_result",
          "data": {
            "text/html": [
              "<div>\n",
              "<style scoped>\n",
              "    .dataframe tbody tr th:only-of-type {\n",
              "        vertical-align: middle;\n",
              "    }\n",
              "\n",
              "    .dataframe tbody tr th {\n",
              "        vertical-align: top;\n",
              "    }\n",
              "\n",
              "    .dataframe thead th {\n",
              "        text-align: right;\n",
              "    }\n",
              "</style>\n",
              "<table border=\"1\" class=\"dataframe\">\n",
              "  <thead>\n",
              "    <tr style=\"text-align: right;\">\n",
              "      <th></th>\n",
              "      <th>income</th>\n",
              "    </tr>\n",
              "    <tr>\n",
              "      <th>income</th>\n",
              "      <th></th>\n",
              "    </tr>\n",
              "  </thead>\n",
              "  <tbody>\n",
              "    <tr>\n",
              "      <th>&lt;=50K</th>\n",
              "      <td>22653</td>\n",
              "    </tr>\n",
              "    <tr>\n",
              "      <th>&lt;=50K.</th>\n",
              "      <td>11360</td>\n",
              "    </tr>\n",
              "    <tr>\n",
              "      <th>&gt;50K</th>\n",
              "      <td>7508</td>\n",
              "    </tr>\n",
              "    <tr>\n",
              "      <th>&gt;50K.</th>\n",
              "      <td>3700</td>\n",
              "    </tr>\n",
              "  </tbody>\n",
              "</table>\n",
              "</div>"
            ],
            "text/plain": [
              "         income\n",
              "income         \n",
              " <=50K    22653\n",
              " <=50K.   11360\n",
              " >50K      7508\n",
              " >50K.     3700"
            ]
          },
          "metadata": {
            "tags": []
          },
          "execution_count": 110
        }
      ]
    },
    {
      "metadata": {
        "id": "cmw69ofpYmd6",
        "colab_type": "text"
      },
      "cell_type": "markdown",
      "source": [
        "Removing characters from income values to keep the values in the same format."
      ]
    },
    {
      "metadata": {
        "id": "owiwjUOVXD1k",
        "colab_type": "code",
        "outputId": "b4df9c2b-670d-48db-ff04-b24720ca93b5",
        "colab": {
          "base_uri": "https://localhost:8080/",
          "height": 306
        }
      },
      "cell_type": "code",
      "source": [
        "test_train.income = test_train.income.str.replace('.', '')\n",
        "test_train.head()"
      ],
      "execution_count": 0,
      "outputs": [
        {
          "output_type": "execute_result",
          "data": {
            "text/html": [
              "<div>\n",
              "<style scoped>\n",
              "    .dataframe tbody tr th:only-of-type {\n",
              "        vertical-align: middle;\n",
              "    }\n",
              "\n",
              "    .dataframe tbody tr th {\n",
              "        vertical-align: top;\n",
              "    }\n",
              "\n",
              "    .dataframe thead th {\n",
              "        text-align: right;\n",
              "    }\n",
              "</style>\n",
              "<table border=\"1\" class=\"dataframe\">\n",
              "  <thead>\n",
              "    <tr style=\"text-align: right;\">\n",
              "      <th></th>\n",
              "      <th>age</th>\n",
              "      <th>workclass</th>\n",
              "      <th>education</th>\n",
              "      <th>education-num</th>\n",
              "      <th>marital-status</th>\n",
              "      <th>occupation</th>\n",
              "      <th>relationship</th>\n",
              "      <th>race</th>\n",
              "      <th>sex</th>\n",
              "      <th>capital-gain</th>\n",
              "      <th>capital-loss</th>\n",
              "      <th>hours-per-week</th>\n",
              "      <th>native-country</th>\n",
              "      <th>income</th>\n",
              "    </tr>\n",
              "  </thead>\n",
              "  <tbody>\n",
              "    <tr>\n",
              "      <th>0</th>\n",
              "      <td>50</td>\n",
              "      <td>Self-emp-not-inc</td>\n",
              "      <td>Bachelors</td>\n",
              "      <td>13.0</td>\n",
              "      <td>Married-civ-spouse</td>\n",
              "      <td>Exec-managerial</td>\n",
              "      <td>Husband</td>\n",
              "      <td>White</td>\n",
              "      <td>Male</td>\n",
              "      <td>0.0</td>\n",
              "      <td>0.0</td>\n",
              "      <td>13.0</td>\n",
              "      <td>United-States</td>\n",
              "      <td>&lt;=50K</td>\n",
              "    </tr>\n",
              "    <tr>\n",
              "      <th>1</th>\n",
              "      <td>38</td>\n",
              "      <td>Private</td>\n",
              "      <td>HS-grad</td>\n",
              "      <td>9.0</td>\n",
              "      <td>Divorced</td>\n",
              "      <td>Handlers-cleaners</td>\n",
              "      <td>Not-in-family</td>\n",
              "      <td>White</td>\n",
              "      <td>Male</td>\n",
              "      <td>0.0</td>\n",
              "      <td>0.0</td>\n",
              "      <td>40.0</td>\n",
              "      <td>United-States</td>\n",
              "      <td>&lt;=50K</td>\n",
              "    </tr>\n",
              "    <tr>\n",
              "      <th>2</th>\n",
              "      <td>53</td>\n",
              "      <td>Private</td>\n",
              "      <td>11th</td>\n",
              "      <td>7.0</td>\n",
              "      <td>Married-civ-spouse</td>\n",
              "      <td>Handlers-cleaners</td>\n",
              "      <td>Husband</td>\n",
              "      <td>Black</td>\n",
              "      <td>Male</td>\n",
              "      <td>0.0</td>\n",
              "      <td>0.0</td>\n",
              "      <td>40.0</td>\n",
              "      <td>United-States</td>\n",
              "      <td>&lt;=50K</td>\n",
              "    </tr>\n",
              "    <tr>\n",
              "      <th>3</th>\n",
              "      <td>28</td>\n",
              "      <td>Private</td>\n",
              "      <td>Bachelors</td>\n",
              "      <td>13.0</td>\n",
              "      <td>Married-civ-spouse</td>\n",
              "      <td>Prof-specialty</td>\n",
              "      <td>Wife</td>\n",
              "      <td>Black</td>\n",
              "      <td>Female</td>\n",
              "      <td>0.0</td>\n",
              "      <td>0.0</td>\n",
              "      <td>40.0</td>\n",
              "      <td>Cuba</td>\n",
              "      <td>&lt;=50K</td>\n",
              "    </tr>\n",
              "    <tr>\n",
              "      <th>4</th>\n",
              "      <td>37</td>\n",
              "      <td>Private</td>\n",
              "      <td>Masters</td>\n",
              "      <td>14.0</td>\n",
              "      <td>Married-civ-spouse</td>\n",
              "      <td>Exec-managerial</td>\n",
              "      <td>Wife</td>\n",
              "      <td>White</td>\n",
              "      <td>Female</td>\n",
              "      <td>0.0</td>\n",
              "      <td>0.0</td>\n",
              "      <td>40.0</td>\n",
              "      <td>United-States</td>\n",
              "      <td>&lt;=50K</td>\n",
              "    </tr>\n",
              "  </tbody>\n",
              "</table>\n",
              "</div>"
            ],
            "text/plain": [
              "   age          workclass   education  education-num       marital-status  \\\n",
              "0   50   Self-emp-not-inc   Bachelors           13.0   Married-civ-spouse   \n",
              "1   38            Private     HS-grad            9.0             Divorced   \n",
              "2   53            Private        11th            7.0   Married-civ-spouse   \n",
              "3   28            Private   Bachelors           13.0   Married-civ-spouse   \n",
              "4   37            Private     Masters           14.0   Married-civ-spouse   \n",
              "\n",
              "           occupation    relationship    race      sex  capital-gain  \\\n",
              "0     Exec-managerial         Husband   White     Male           0.0   \n",
              "1   Handlers-cleaners   Not-in-family   White     Male           0.0   \n",
              "2   Handlers-cleaners         Husband   Black     Male           0.0   \n",
              "3      Prof-specialty            Wife   Black   Female           0.0   \n",
              "4     Exec-managerial            Wife   White   Female           0.0   \n",
              "\n",
              "   capital-loss  hours-per-week  native-country  income  \n",
              "0           0.0            13.0   United-States   <=50K  \n",
              "1           0.0            40.0   United-States   <=50K  \n",
              "2           0.0            40.0   United-States   <=50K  \n",
              "3           0.0            40.0            Cuba   <=50K  \n",
              "4           0.0            40.0   United-States   <=50K  "
            ]
          },
          "metadata": {
            "tags": []
          },
          "execution_count": 111
        }
      ]
    },
    {
      "metadata": {
        "id": "9ozDdFkqYTHq",
        "colab_type": "code",
        "outputId": "2a623b42-57f8-4005-b814-e479b23f90fd",
        "colab": {
          "base_uri": "https://localhost:8080/",
          "height": 306
        }
      },
      "cell_type": "code",
      "source": [
        "test_train.head()"
      ],
      "execution_count": 0,
      "outputs": [
        {
          "output_type": "execute_result",
          "data": {
            "text/html": [
              "<div>\n",
              "<style scoped>\n",
              "    .dataframe tbody tr th:only-of-type {\n",
              "        vertical-align: middle;\n",
              "    }\n",
              "\n",
              "    .dataframe tbody tr th {\n",
              "        vertical-align: top;\n",
              "    }\n",
              "\n",
              "    .dataframe thead th {\n",
              "        text-align: right;\n",
              "    }\n",
              "</style>\n",
              "<table border=\"1\" class=\"dataframe\">\n",
              "  <thead>\n",
              "    <tr style=\"text-align: right;\">\n",
              "      <th></th>\n",
              "      <th>age</th>\n",
              "      <th>workclass</th>\n",
              "      <th>education</th>\n",
              "      <th>education-num</th>\n",
              "      <th>marital-status</th>\n",
              "      <th>occupation</th>\n",
              "      <th>relationship</th>\n",
              "      <th>race</th>\n",
              "      <th>sex</th>\n",
              "      <th>capital-gain</th>\n",
              "      <th>capital-loss</th>\n",
              "      <th>hours-per-week</th>\n",
              "      <th>native-country</th>\n",
              "      <th>income</th>\n",
              "    </tr>\n",
              "  </thead>\n",
              "  <tbody>\n",
              "    <tr>\n",
              "      <th>0</th>\n",
              "      <td>50</td>\n",
              "      <td>Self-emp-not-inc</td>\n",
              "      <td>Bachelors</td>\n",
              "      <td>13.0</td>\n",
              "      <td>Married-civ-spouse</td>\n",
              "      <td>Exec-managerial</td>\n",
              "      <td>Husband</td>\n",
              "      <td>White</td>\n",
              "      <td>Male</td>\n",
              "      <td>0.0</td>\n",
              "      <td>0.0</td>\n",
              "      <td>13.0</td>\n",
              "      <td>United-States</td>\n",
              "      <td>&lt;=50K</td>\n",
              "    </tr>\n",
              "    <tr>\n",
              "      <th>1</th>\n",
              "      <td>38</td>\n",
              "      <td>Private</td>\n",
              "      <td>HS-grad</td>\n",
              "      <td>9.0</td>\n",
              "      <td>Divorced</td>\n",
              "      <td>Handlers-cleaners</td>\n",
              "      <td>Not-in-family</td>\n",
              "      <td>White</td>\n",
              "      <td>Male</td>\n",
              "      <td>0.0</td>\n",
              "      <td>0.0</td>\n",
              "      <td>40.0</td>\n",
              "      <td>United-States</td>\n",
              "      <td>&lt;=50K</td>\n",
              "    </tr>\n",
              "    <tr>\n",
              "      <th>2</th>\n",
              "      <td>53</td>\n",
              "      <td>Private</td>\n",
              "      <td>11th</td>\n",
              "      <td>7.0</td>\n",
              "      <td>Married-civ-spouse</td>\n",
              "      <td>Handlers-cleaners</td>\n",
              "      <td>Husband</td>\n",
              "      <td>Black</td>\n",
              "      <td>Male</td>\n",
              "      <td>0.0</td>\n",
              "      <td>0.0</td>\n",
              "      <td>40.0</td>\n",
              "      <td>United-States</td>\n",
              "      <td>&lt;=50K</td>\n",
              "    </tr>\n",
              "    <tr>\n",
              "      <th>3</th>\n",
              "      <td>28</td>\n",
              "      <td>Private</td>\n",
              "      <td>Bachelors</td>\n",
              "      <td>13.0</td>\n",
              "      <td>Married-civ-spouse</td>\n",
              "      <td>Prof-specialty</td>\n",
              "      <td>Wife</td>\n",
              "      <td>Black</td>\n",
              "      <td>Female</td>\n",
              "      <td>0.0</td>\n",
              "      <td>0.0</td>\n",
              "      <td>40.0</td>\n",
              "      <td>Cuba</td>\n",
              "      <td>&lt;=50K</td>\n",
              "    </tr>\n",
              "    <tr>\n",
              "      <th>4</th>\n",
              "      <td>37</td>\n",
              "      <td>Private</td>\n",
              "      <td>Masters</td>\n",
              "      <td>14.0</td>\n",
              "      <td>Married-civ-spouse</td>\n",
              "      <td>Exec-managerial</td>\n",
              "      <td>Wife</td>\n",
              "      <td>White</td>\n",
              "      <td>Female</td>\n",
              "      <td>0.0</td>\n",
              "      <td>0.0</td>\n",
              "      <td>40.0</td>\n",
              "      <td>United-States</td>\n",
              "      <td>&lt;=50K</td>\n",
              "    </tr>\n",
              "  </tbody>\n",
              "</table>\n",
              "</div>"
            ],
            "text/plain": [
              "   age          workclass   education  education-num       marital-status  \\\n",
              "0   50   Self-emp-not-inc   Bachelors           13.0   Married-civ-spouse   \n",
              "1   38            Private     HS-grad            9.0             Divorced   \n",
              "2   53            Private        11th            7.0   Married-civ-spouse   \n",
              "3   28            Private   Bachelors           13.0   Married-civ-spouse   \n",
              "4   37            Private     Masters           14.0   Married-civ-spouse   \n",
              "\n",
              "           occupation    relationship    race      sex  capital-gain  \\\n",
              "0     Exec-managerial         Husband   White     Male           0.0   \n",
              "1   Handlers-cleaners   Not-in-family   White     Male           0.0   \n",
              "2   Handlers-cleaners         Husband   Black     Male           0.0   \n",
              "3      Prof-specialty            Wife   Black   Female           0.0   \n",
              "4     Exec-managerial            Wife   White   Female           0.0   \n",
              "\n",
              "   capital-loss  hours-per-week  native-country  income  \n",
              "0           0.0            13.0   United-States   <=50K  \n",
              "1           0.0            40.0   United-States   <=50K  \n",
              "2           0.0            40.0   United-States   <=50K  \n",
              "3           0.0            40.0            Cuba   <=50K  \n",
              "4           0.0            40.0   United-States   <=50K  "
            ]
          },
          "metadata": {
            "tags": []
          },
          "execution_count": 112
        }
      ]
    },
    {
      "metadata": {
        "id": "VTKfefbnWi2b",
        "colab_type": "code",
        "outputId": "aba39c65-9b8a-4339-a7e3-fa22f4831421",
        "colab": {
          "base_uri": "https://localhost:8080/",
          "height": 235
        }
      },
      "cell_type": "code",
      "source": [
        "# Checking if the characters are eliminated from the income values\n",
        "missing_values(test_train, \"education-num\").head()"
      ],
      "execution_count": 0,
      "outputs": [
        {
          "output_type": "execute_result",
          "data": {
            "text/html": [
              "<div>\n",
              "<style scoped>\n",
              "    .dataframe tbody tr th:only-of-type {\n",
              "        vertical-align: middle;\n",
              "    }\n",
              "\n",
              "    .dataframe tbody tr th {\n",
              "        vertical-align: top;\n",
              "    }\n",
              "\n",
              "    .dataframe thead th {\n",
              "        text-align: right;\n",
              "    }\n",
              "</style>\n",
              "<table border=\"1\" class=\"dataframe\">\n",
              "  <thead>\n",
              "    <tr style=\"text-align: right;\">\n",
              "      <th></th>\n",
              "      <th>education-num</th>\n",
              "    </tr>\n",
              "    <tr>\n",
              "      <th>education-num</th>\n",
              "      <th></th>\n",
              "    </tr>\n",
              "  </thead>\n",
              "  <tbody>\n",
              "    <tr>\n",
              "      <th>1.0</th>\n",
              "      <td>72</td>\n",
              "    </tr>\n",
              "    <tr>\n",
              "      <th>2.0</th>\n",
              "      <td>222</td>\n",
              "    </tr>\n",
              "    <tr>\n",
              "      <th>3.0</th>\n",
              "      <td>449</td>\n",
              "    </tr>\n",
              "    <tr>\n",
              "      <th>4.0</th>\n",
              "      <td>823</td>\n",
              "    </tr>\n",
              "    <tr>\n",
              "      <th>5.0</th>\n",
              "      <td>676</td>\n",
              "    </tr>\n",
              "  </tbody>\n",
              "</table>\n",
              "</div>"
            ],
            "text/plain": [
              "               education-num\n",
              "education-num               \n",
              "1.0                       72\n",
              "2.0                      222\n",
              "3.0                      449\n",
              "4.0                      823\n",
              "5.0                      676"
            ]
          },
          "metadata": {
            "tags": []
          },
          "execution_count": 113
        }
      ]
    },
    {
      "metadata": {
        "id": "lxRS_FKW4RJ4",
        "colab_type": "code",
        "outputId": "27923339-dab8-4224-8c24-8b1f69be227b",
        "colab": {
          "base_uri": "https://localhost:8080/",
          "height": 235
        }
      },
      "cell_type": "code",
      "source": [
        "missing_values(test_train, \"age\").tail()"
      ],
      "execution_count": 0,
      "outputs": [
        {
          "output_type": "execute_result",
          "data": {
            "text/html": [
              "<div>\n",
              "<style scoped>\n",
              "    .dataframe tbody tr th:only-of-type {\n",
              "        vertical-align: middle;\n",
              "    }\n",
              "\n",
              "    .dataframe tbody tr th {\n",
              "        vertical-align: top;\n",
              "    }\n",
              "\n",
              "    .dataframe thead th {\n",
              "        text-align: right;\n",
              "    }\n",
              "</style>\n",
              "<table border=\"1\" class=\"dataframe\">\n",
              "  <thead>\n",
              "    <tr style=\"text-align: right;\">\n",
              "      <th></th>\n",
              "      <th>age</th>\n",
              "    </tr>\n",
              "    <tr>\n",
              "      <th>age</th>\n",
              "      <th></th>\n",
              "    </tr>\n",
              "  </thead>\n",
              "  <tbody>\n",
              "    <tr>\n",
              "      <th>86</th>\n",
              "      <td>1</td>\n",
              "    </tr>\n",
              "    <tr>\n",
              "      <th>87</th>\n",
              "      <td>1</td>\n",
              "    </tr>\n",
              "    <tr>\n",
              "      <th>88</th>\n",
              "      <td>5</td>\n",
              "    </tr>\n",
              "    <tr>\n",
              "      <th>89</th>\n",
              "      <td>1</td>\n",
              "    </tr>\n",
              "    <tr>\n",
              "      <th>90</th>\n",
              "      <td>46</td>\n",
              "    </tr>\n",
              "  </tbody>\n",
              "</table>\n",
              "</div>"
            ],
            "text/plain": [
              "     age\n",
              "age     \n",
              "86     1\n",
              "87     1\n",
              "88     5\n",
              "89     1\n",
              "90    46"
            ]
          },
          "metadata": {
            "tags": []
          },
          "execution_count": 114
        }
      ]
    },
    {
      "metadata": {
        "id": "NKENmNS6Wi6W",
        "colab_type": "code",
        "outputId": "c9947d5b-107e-4b91-e49b-b4929818024e",
        "colab": {
          "base_uri": "https://localhost:8080/",
          "height": 297
        }
      },
      "cell_type": "code",
      "source": [
        "numerical_features_describe = test_train.describe()\n",
        "numerical_features_describe"
      ],
      "execution_count": 0,
      "outputs": [
        {
          "output_type": "execute_result",
          "data": {
            "text/html": [
              "<div>\n",
              "<style scoped>\n",
              "    .dataframe tbody tr th:only-of-type {\n",
              "        vertical-align: middle;\n",
              "    }\n",
              "\n",
              "    .dataframe tbody tr th {\n",
              "        vertical-align: top;\n",
              "    }\n",
              "\n",
              "    .dataframe thead th {\n",
              "        text-align: right;\n",
              "    }\n",
              "</style>\n",
              "<table border=\"1\" class=\"dataframe\">\n",
              "  <thead>\n",
              "    <tr style=\"text-align: right;\">\n",
              "      <th></th>\n",
              "      <th>age</th>\n",
              "      <th>education-num</th>\n",
              "      <th>capital-gain</th>\n",
              "      <th>capital-loss</th>\n",
              "      <th>hours-per-week</th>\n",
              "    </tr>\n",
              "  </thead>\n",
              "  <tbody>\n",
              "    <tr>\n",
              "      <th>count</th>\n",
              "      <td>45221.000000</td>\n",
              "      <td>45221.000000</td>\n",
              "      <td>45221.000000</td>\n",
              "      <td>45221.000000</td>\n",
              "      <td>45221.000000</td>\n",
              "    </tr>\n",
              "    <tr>\n",
              "      <th>mean</th>\n",
              "      <td>38.547931</td>\n",
              "      <td>10.118396</td>\n",
              "      <td>1101.406625</td>\n",
              "      <td>88.597377</td>\n",
              "      <td>40.938038</td>\n",
              "    </tr>\n",
              "    <tr>\n",
              "      <th>std</th>\n",
              "      <td>13.218016</td>\n",
              "      <td>2.552873</td>\n",
              "      <td>7506.511388</td>\n",
              "      <td>404.960355</td>\n",
              "      <td>12.007640</td>\n",
              "    </tr>\n",
              "    <tr>\n",
              "      <th>min</th>\n",
              "      <td>17.000000</td>\n",
              "      <td>1.000000</td>\n",
              "      <td>0.000000</td>\n",
              "      <td>0.000000</td>\n",
              "      <td>1.000000</td>\n",
              "    </tr>\n",
              "    <tr>\n",
              "      <th>25%</th>\n",
              "      <td>28.000000</td>\n",
              "      <td>9.000000</td>\n",
              "      <td>0.000000</td>\n",
              "      <td>0.000000</td>\n",
              "      <td>40.000000</td>\n",
              "    </tr>\n",
              "    <tr>\n",
              "      <th>50%</th>\n",
              "      <td>37.000000</td>\n",
              "      <td>10.000000</td>\n",
              "      <td>0.000000</td>\n",
              "      <td>0.000000</td>\n",
              "      <td>40.000000</td>\n",
              "    </tr>\n",
              "    <tr>\n",
              "      <th>75%</th>\n",
              "      <td>47.000000</td>\n",
              "      <td>13.000000</td>\n",
              "      <td>0.000000</td>\n",
              "      <td>0.000000</td>\n",
              "      <td>45.000000</td>\n",
              "    </tr>\n",
              "    <tr>\n",
              "      <th>max</th>\n",
              "      <td>90.000000</td>\n",
              "      <td>16.000000</td>\n",
              "      <td>99999.000000</td>\n",
              "      <td>4356.000000</td>\n",
              "      <td>99.000000</td>\n",
              "    </tr>\n",
              "  </tbody>\n",
              "</table>\n",
              "</div>"
            ],
            "text/plain": [
              "                age  education-num  capital-gain  capital-loss  hours-per-week\n",
              "count  45221.000000   45221.000000  45221.000000  45221.000000    45221.000000\n",
              "mean      38.547931      10.118396   1101.406625     88.597377       40.938038\n",
              "std       13.218016       2.552873   7506.511388    404.960355       12.007640\n",
              "min       17.000000       1.000000      0.000000      0.000000        1.000000\n",
              "25%       28.000000       9.000000      0.000000      0.000000       40.000000\n",
              "50%       37.000000      10.000000      0.000000      0.000000       40.000000\n",
              "75%       47.000000      13.000000      0.000000      0.000000       45.000000\n",
              "max       90.000000      16.000000  99999.000000   4356.000000       99.000000"
            ]
          },
          "metadata": {
            "tags": []
          },
          "execution_count": 115
        }
      ]
    },
    {
      "metadata": {
        "id": "YvXFwc_934J3",
        "colab_type": "code",
        "outputId": "9954c055-2ac4-43bb-c15b-f9a9ed5e5e5c",
        "colab": {
          "base_uri": "https://localhost:8080/",
          "height": 85
        }
      },
      "cell_type": "code",
      "source": [
        "test_train.columns"
      ],
      "execution_count": 0,
      "outputs": [
        {
          "output_type": "execute_result",
          "data": {
            "text/plain": [
              "Index(['age', 'workclass', 'education', 'education-num', 'marital-status',\n",
              "       'occupation', 'relationship', 'race', 'sex', 'capital-gain',\n",
              "       'capital-loss', 'hours-per-week', 'native-country', 'income'],\n",
              "      dtype='object')"
            ]
          },
          "metadata": {
            "tags": []
          },
          "execution_count": 116
        }
      ]
    },
    {
      "metadata": {
        "id": "XRbuKytBUybS",
        "colab_type": "text"
      },
      "cell_type": "markdown",
      "source": [
        "# **3. The next step is converting all catogorical variables to numerical values**"
      ]
    },
    {
      "metadata": {
        "id": "7KKIWrp6ZhW8",
        "colab_type": "text"
      },
      "cell_type": "markdown",
      "source": [
        "Here is the principle how the conversion and allocation of numeric values work.\n",
        "\n",
        "1. If an adult income is <=50k, we assign the numeric value =1 under that income value and 0 under income value >50k\n",
        "2. If an adult income is >50k, we assign the numeric value = 1 under that income value and 0 under income value <=50k \n",
        "\n",
        "\n",
        "\n",
        "\n"
      ]
    },
    {
      "metadata": {
        "id": "1FdGjf0Y2_MO",
        "colab_type": "code",
        "outputId": "85a02c0c-ecd0-4a72-a78c-497bc6e47e2b",
        "colab": {
          "base_uri": "https://localhost:8080/",
          "height": 297
        }
      },
      "cell_type": "code",
      "source": [
        "test_train.describe()"
      ],
      "execution_count": 0,
      "outputs": [
        {
          "output_type": "execute_result",
          "data": {
            "text/html": [
              "<div>\n",
              "<style scoped>\n",
              "    .dataframe tbody tr th:only-of-type {\n",
              "        vertical-align: middle;\n",
              "    }\n",
              "\n",
              "    .dataframe tbody tr th {\n",
              "        vertical-align: top;\n",
              "    }\n",
              "\n",
              "    .dataframe thead th {\n",
              "        text-align: right;\n",
              "    }\n",
              "</style>\n",
              "<table border=\"1\" class=\"dataframe\">\n",
              "  <thead>\n",
              "    <tr style=\"text-align: right;\">\n",
              "      <th></th>\n",
              "      <th>age</th>\n",
              "      <th>education-num</th>\n",
              "      <th>capital-gain</th>\n",
              "      <th>capital-loss</th>\n",
              "      <th>hours-per-week</th>\n",
              "    </tr>\n",
              "  </thead>\n",
              "  <tbody>\n",
              "    <tr>\n",
              "      <th>count</th>\n",
              "      <td>45221.000000</td>\n",
              "      <td>45221.000000</td>\n",
              "      <td>45221.000000</td>\n",
              "      <td>45221.000000</td>\n",
              "      <td>45221.000000</td>\n",
              "    </tr>\n",
              "    <tr>\n",
              "      <th>mean</th>\n",
              "      <td>38.547931</td>\n",
              "      <td>10.118396</td>\n",
              "      <td>1101.406625</td>\n",
              "      <td>88.597377</td>\n",
              "      <td>40.938038</td>\n",
              "    </tr>\n",
              "    <tr>\n",
              "      <th>std</th>\n",
              "      <td>13.218016</td>\n",
              "      <td>2.552873</td>\n",
              "      <td>7506.511388</td>\n",
              "      <td>404.960355</td>\n",
              "      <td>12.007640</td>\n",
              "    </tr>\n",
              "    <tr>\n",
              "      <th>min</th>\n",
              "      <td>17.000000</td>\n",
              "      <td>1.000000</td>\n",
              "      <td>0.000000</td>\n",
              "      <td>0.000000</td>\n",
              "      <td>1.000000</td>\n",
              "    </tr>\n",
              "    <tr>\n",
              "      <th>25%</th>\n",
              "      <td>28.000000</td>\n",
              "      <td>9.000000</td>\n",
              "      <td>0.000000</td>\n",
              "      <td>0.000000</td>\n",
              "      <td>40.000000</td>\n",
              "    </tr>\n",
              "    <tr>\n",
              "      <th>50%</th>\n",
              "      <td>37.000000</td>\n",
              "      <td>10.000000</td>\n",
              "      <td>0.000000</td>\n",
              "      <td>0.000000</td>\n",
              "      <td>40.000000</td>\n",
              "    </tr>\n",
              "    <tr>\n",
              "      <th>75%</th>\n",
              "      <td>47.000000</td>\n",
              "      <td>13.000000</td>\n",
              "      <td>0.000000</td>\n",
              "      <td>0.000000</td>\n",
              "      <td>45.000000</td>\n",
              "    </tr>\n",
              "    <tr>\n",
              "      <th>max</th>\n",
              "      <td>90.000000</td>\n",
              "      <td>16.000000</td>\n",
              "      <td>99999.000000</td>\n",
              "      <td>4356.000000</td>\n",
              "      <td>99.000000</td>\n",
              "    </tr>\n",
              "  </tbody>\n",
              "</table>\n",
              "</div>"
            ],
            "text/plain": [
              "                age  education-num  capital-gain  capital-loss  hours-per-week\n",
              "count  45221.000000   45221.000000  45221.000000  45221.000000    45221.000000\n",
              "mean      38.547931      10.118396   1101.406625     88.597377       40.938038\n",
              "std       13.218016       2.552873   7506.511388    404.960355       12.007640\n",
              "min       17.000000       1.000000      0.000000      0.000000        1.000000\n",
              "25%       28.000000       9.000000      0.000000      0.000000       40.000000\n",
              "50%       37.000000      10.000000      0.000000      0.000000       40.000000\n",
              "75%       47.000000      13.000000      0.000000      0.000000       45.000000\n",
              "max       90.000000      16.000000  99999.000000   4356.000000       99.000000"
            ]
          },
          "metadata": {
            "tags": []
          },
          "execution_count": 235
        }
      ]
    },
    {
      "metadata": {
        "id": "A-S9ybiwVIdj",
        "colab_type": "code",
        "outputId": "6ce4d81a-0ff5-453f-c1c1-8383b4d97545",
        "colab": {
          "base_uri": "https://localhost:8080/",
          "height": 204
        }
      },
      "cell_type": "code",
      "source": [
        "#numerical_variables = test_[\"age\", \"education-num\", \"capital-gain\", \"capital-loss\", \"hours-per-week\"]\n",
        "catagorical_variables = test_train[[\"workclass\", \"education\", \"marital-status\", \"native-country\", \"occupation\", \"race\", \"sex\", \"relationship\"]]\n",
        "catagorical_variables.head()"
      ],
      "execution_count": 0,
      "outputs": [
        {
          "output_type": "execute_result",
          "data": {
            "text/html": [
              "<div>\n",
              "<style scoped>\n",
              "    .dataframe tbody tr th:only-of-type {\n",
              "        vertical-align: middle;\n",
              "    }\n",
              "\n",
              "    .dataframe tbody tr th {\n",
              "        vertical-align: top;\n",
              "    }\n",
              "\n",
              "    .dataframe thead th {\n",
              "        text-align: right;\n",
              "    }\n",
              "</style>\n",
              "<table border=\"1\" class=\"dataframe\">\n",
              "  <thead>\n",
              "    <tr style=\"text-align: right;\">\n",
              "      <th></th>\n",
              "      <th>workclass</th>\n",
              "      <th>education</th>\n",
              "      <th>marital-status</th>\n",
              "      <th>native-country</th>\n",
              "      <th>occupation</th>\n",
              "      <th>race</th>\n",
              "      <th>sex</th>\n",
              "      <th>relationship</th>\n",
              "    </tr>\n",
              "  </thead>\n",
              "  <tbody>\n",
              "    <tr>\n",
              "      <th>0</th>\n",
              "      <td>Self-emp-not-inc</td>\n",
              "      <td>Bachelors</td>\n",
              "      <td>Married-civ-spouse</td>\n",
              "      <td>United-States</td>\n",
              "      <td>Exec-managerial</td>\n",
              "      <td>White</td>\n",
              "      <td>Male</td>\n",
              "      <td>Husband</td>\n",
              "    </tr>\n",
              "    <tr>\n",
              "      <th>1</th>\n",
              "      <td>Private</td>\n",
              "      <td>HS-grad</td>\n",
              "      <td>Divorced</td>\n",
              "      <td>United-States</td>\n",
              "      <td>Handlers-cleaners</td>\n",
              "      <td>White</td>\n",
              "      <td>Male</td>\n",
              "      <td>Not-in-family</td>\n",
              "    </tr>\n",
              "    <tr>\n",
              "      <th>2</th>\n",
              "      <td>Private</td>\n",
              "      <td>11th</td>\n",
              "      <td>Married-civ-spouse</td>\n",
              "      <td>United-States</td>\n",
              "      <td>Handlers-cleaners</td>\n",
              "      <td>Black</td>\n",
              "      <td>Male</td>\n",
              "      <td>Husband</td>\n",
              "    </tr>\n",
              "    <tr>\n",
              "      <th>3</th>\n",
              "      <td>Private</td>\n",
              "      <td>Bachelors</td>\n",
              "      <td>Married-civ-spouse</td>\n",
              "      <td>Cuba</td>\n",
              "      <td>Prof-specialty</td>\n",
              "      <td>Black</td>\n",
              "      <td>Female</td>\n",
              "      <td>Wife</td>\n",
              "    </tr>\n",
              "    <tr>\n",
              "      <th>4</th>\n",
              "      <td>Private</td>\n",
              "      <td>Masters</td>\n",
              "      <td>Married-civ-spouse</td>\n",
              "      <td>United-States</td>\n",
              "      <td>Exec-managerial</td>\n",
              "      <td>White</td>\n",
              "      <td>Female</td>\n",
              "      <td>Wife</td>\n",
              "    </tr>\n",
              "  </tbody>\n",
              "</table>\n",
              "</div>"
            ],
            "text/plain": [
              "           workclass   education       marital-status  native-country  \\\n",
              "0   Self-emp-not-inc   Bachelors   Married-civ-spouse   United-States   \n",
              "1            Private     HS-grad             Divorced   United-States   \n",
              "2            Private        11th   Married-civ-spouse   United-States   \n",
              "3            Private   Bachelors   Married-civ-spouse            Cuba   \n",
              "4            Private     Masters   Married-civ-spouse   United-States   \n",
              "\n",
              "           occupation    race      sex    relationship  \n",
              "0     Exec-managerial   White     Male         Husband  \n",
              "1   Handlers-cleaners   White     Male   Not-in-family  \n",
              "2   Handlers-cleaners   Black     Male         Husband  \n",
              "3      Prof-specialty   Black   Female            Wife  \n",
              "4     Exec-managerial   White   Female            Wife  "
            ]
          },
          "metadata": {
            "tags": []
          },
          "execution_count": 239
        }
      ]
    },
    {
      "metadata": {
        "id": "xjLfFrBMVRze",
        "colab_type": "code",
        "outputId": "a0a1324a-f7b3-4068-fca3-81fba6c32c6a",
        "colab": {
          "base_uri": "https://localhost:8080/",
          "height": 85
        }
      },
      "cell_type": "code",
      "source": [
        "catagorical_variables[\"education\"].unique()"
      ],
      "execution_count": 0,
      "outputs": [
        {
          "output_type": "execute_result",
          "data": {
            "text/plain": [
              "array([' Bachelors', ' HS-grad', ' 11th', ' Masters', ' 9th',\n",
              "       ' Some-college', ' Assoc-acdm', ' 7th-8th', ' Doctorate',\n",
              "       ' Assoc-voc', ' Prof-school', ' 5th-6th', ' 10th', ' Preschool',\n",
              "       ' 12th', ' 1st-4th'], dtype=object)"
            ]
          },
          "metadata": {
            "tags": []
          },
          "execution_count": 240
        }
      ]
    },
    {
      "metadata": {
        "id": "S0zJc4RmVYEc",
        "colab_type": "code",
        "colab": {}
      },
      "cell_type": "code",
      "source": [
        "education_level = {\"education\": {\"Preschool\":0, \"1st-4th\":1, \"5th-6th\":2, \"7th-8th\":3, \"9th\":4, \"10th\":5, \"11th\":6, \"12th\":7, \"Assoc-voc\":8, \"Assoc-acdm\":9,\n",
        "                                \"Some-college\":10, \"Bachelors\":11, \"Masters\":12, \"HS-grad\":13, \"Doctorate\":14, \"Prof-school\":15}}"
      ],
      "execution_count": 0,
      "outputs": []
    },
    {
      "metadata": {
        "id": "dAPt8RXhWc42",
        "colab_type": "code",
        "outputId": "c2016a16-7729-49b8-da7f-f66fa0818110",
        "colab": {
          "base_uri": "https://localhost:8080/",
          "height": 119
        }
      },
      "cell_type": "code",
      "source": [
        "catagorical_variables.replace(education_level, inplace=True)"
      ],
      "execution_count": 0,
      "outputs": [
        {
          "output_type": "stream",
          "text": [
            "/usr/local/lib/python3.6/dist-packages/pandas/core/generic.py:4550: SettingWithCopyWarning: \n",
            "A value is trying to be set on a copy of a slice from a DataFrame.\n",
            "Try using .loc[row_indexer,col_indexer] = value instead\n",
            "\n",
            "See the caveats in the documentation: http://pandas.pydata.org/pandas-docs/stable/indexing.html#indexing-view-versus-copy\n",
            "  regex=regex)\n"
          ],
          "name": "stderr"
        }
      ]
    },
    {
      "metadata": {
        "id": "jYd7yNqCOP8x",
        "colab_type": "text"
      },
      "cell_type": "markdown",
      "source": [
        "# Dropping education from the catagorical variables due to high correlation with education-num (multicillinearity problem)"
      ]
    },
    {
      "metadata": {
        "id": "W1wLm3baNsCP",
        "colab_type": "code",
        "outputId": "c3fcd320-2a38-497a-cf1a-003c962309b8",
        "colab": {
          "base_uri": "https://localhost:8080/",
          "height": 204
        }
      },
      "cell_type": "code",
      "source": [
        "\n",
        "catagorical_variables = catagorical_variables.drop([\"education\"], axis = 1)\n",
        "catagorical_variables.head()"
      ],
      "execution_count": 0,
      "outputs": [
        {
          "output_type": "execute_result",
          "data": {
            "text/html": [
              "<div>\n",
              "<style scoped>\n",
              "    .dataframe tbody tr th:only-of-type {\n",
              "        vertical-align: middle;\n",
              "    }\n",
              "\n",
              "    .dataframe tbody tr th {\n",
              "        vertical-align: top;\n",
              "    }\n",
              "\n",
              "    .dataframe thead th {\n",
              "        text-align: right;\n",
              "    }\n",
              "</style>\n",
              "<table border=\"1\" class=\"dataframe\">\n",
              "  <thead>\n",
              "    <tr style=\"text-align: right;\">\n",
              "      <th></th>\n",
              "      <th>workclass</th>\n",
              "      <th>marital-status</th>\n",
              "      <th>native-country</th>\n",
              "      <th>occupation</th>\n",
              "      <th>race</th>\n",
              "      <th>sex</th>\n",
              "      <th>relationship</th>\n",
              "    </tr>\n",
              "  </thead>\n",
              "  <tbody>\n",
              "    <tr>\n",
              "      <th>0</th>\n",
              "      <td>Self-emp-not-inc</td>\n",
              "      <td>Married-civ-spouse</td>\n",
              "      <td>United-States</td>\n",
              "      <td>Exec-managerial</td>\n",
              "      <td>White</td>\n",
              "      <td>Male</td>\n",
              "      <td>Husband</td>\n",
              "    </tr>\n",
              "    <tr>\n",
              "      <th>1</th>\n",
              "      <td>Private</td>\n",
              "      <td>Divorced</td>\n",
              "      <td>United-States</td>\n",
              "      <td>Handlers-cleaners</td>\n",
              "      <td>White</td>\n",
              "      <td>Male</td>\n",
              "      <td>Not-in-family</td>\n",
              "    </tr>\n",
              "    <tr>\n",
              "      <th>2</th>\n",
              "      <td>Private</td>\n",
              "      <td>Married-civ-spouse</td>\n",
              "      <td>United-States</td>\n",
              "      <td>Handlers-cleaners</td>\n",
              "      <td>Black</td>\n",
              "      <td>Male</td>\n",
              "      <td>Husband</td>\n",
              "    </tr>\n",
              "    <tr>\n",
              "      <th>3</th>\n",
              "      <td>Private</td>\n",
              "      <td>Married-civ-spouse</td>\n",
              "      <td>Cuba</td>\n",
              "      <td>Prof-specialty</td>\n",
              "      <td>Black</td>\n",
              "      <td>Female</td>\n",
              "      <td>Wife</td>\n",
              "    </tr>\n",
              "    <tr>\n",
              "      <th>4</th>\n",
              "      <td>Private</td>\n",
              "      <td>Married-civ-spouse</td>\n",
              "      <td>United-States</td>\n",
              "      <td>Exec-managerial</td>\n",
              "      <td>White</td>\n",
              "      <td>Female</td>\n",
              "      <td>Wife</td>\n",
              "    </tr>\n",
              "  </tbody>\n",
              "</table>\n",
              "</div>"
            ],
            "text/plain": [
              "           workclass       marital-status  native-country          occupation  \\\n",
              "0   Self-emp-not-inc   Married-civ-spouse   United-States     Exec-managerial   \n",
              "1            Private             Divorced   United-States   Handlers-cleaners   \n",
              "2            Private   Married-civ-spouse   United-States   Handlers-cleaners   \n",
              "3            Private   Married-civ-spouse            Cuba      Prof-specialty   \n",
              "4            Private   Married-civ-spouse   United-States     Exec-managerial   \n",
              "\n",
              "     race      sex    relationship  \n",
              "0   White     Male         Husband  \n",
              "1   White     Male   Not-in-family  \n",
              "2   Black     Male         Husband  \n",
              "3   Black   Female            Wife  \n",
              "4   White   Female            Wife  "
            ]
          },
          "metadata": {
            "tags": []
          },
          "execution_count": 237
        }
      ]
    },
    {
      "metadata": {
        "id": "QjypL6h_GE9w",
        "colab_type": "code",
        "colab": {}
      },
      "cell_type": "code",
      "source": [
        "#catagorical_variables[\"education\"].unique()"
      ],
      "execution_count": 0,
      "outputs": []
    },
    {
      "metadata": {
        "id": "WFxhm4cHGnZV",
        "colab_type": "code",
        "colab": {}
      },
      "cell_type": "code",
      "source": [
        "#catagorical_variables[\"education\"].head()"
      ],
      "execution_count": 0,
      "outputs": []
    },
    {
      "metadata": {
        "id": "yNWdZ0BqJYFL",
        "colab_type": "code",
        "colab": {}
      },
      "cell_type": "code",
      "source": [
        "#ducation_level = {\"education\": {\"Preschool\":0, \"1st-4th\":1, \"5th-6th\":2, \"7th-8th\":3, \"9th\":4, \"10th\":5, \"11th\":6, \"12th\":7, "
      ],
      "execution_count": 0,
      "outputs": []
    },
    {
      "metadata": {
        "id": "CrdVPcokn1GY",
        "colab_type": "code",
        "outputId": "20c8e360-a276-48b0-9204-e123fbbb501d",
        "colab": {
          "base_uri": "https://localhost:8080/",
          "height": 119
        }
      },
      "cell_type": "code",
      "source": [
        "# Income feature \n",
        "income_feature = test_train[\"income\"]\n",
        "income_feature.head()"
      ],
      "execution_count": 0,
      "outputs": [
        {
          "output_type": "execute_result",
          "data": {
            "text/plain": [
              "0     <=50K\n",
              "1     <=50K\n",
              "2     <=50K\n",
              "3     <=50K\n",
              "4     <=50K\n",
              "Name: income, dtype: object"
            ]
          },
          "metadata": {
            "tags": []
          },
          "execution_count": 177
        }
      ]
    },
    {
      "metadata": {
        "id": "GdboLZ85U_ff",
        "colab_type": "code",
        "outputId": "da9a45b3-bd1a-4584-81b8-da3b0ec6a59d",
        "colab": {
          "base_uri": "https://localhost:8080/",
          "height": 321
        }
      },
      "cell_type": "code",
      "source": [
        "# get_dummies is one of the popular python functions that helps us convert all catagorical vaues to numeric.\n",
        "# lets develop one function that can accoplish the job.\n",
        "\n",
        "#def catagory_num(tbl, col):\n",
        "\n",
        "#all_catagorical_features = test_train.columns.drop(\"age\", \"education-num\", \"capital-gain\", \"capital-loss\", \"hours-per-week\")\n",
        "test_trainn = pd.get_dummies(catagorical_variables)\n",
        "test_trainn.head()\n",
        "  \n",
        "\n"
      ],
      "execution_count": 0,
      "outputs": [
        {
          "output_type": "execute_result",
          "data": {
            "text/html": [
              "<div>\n",
              "<style scoped>\n",
              "    .dataframe tbody tr th:only-of-type {\n",
              "        vertical-align: middle;\n",
              "    }\n",
              "\n",
              "    .dataframe tbody tr th {\n",
              "        vertical-align: top;\n",
              "    }\n",
              "\n",
              "    .dataframe thead th {\n",
              "        text-align: right;\n",
              "    }\n",
              "</style>\n",
              "<table border=\"1\" class=\"dataframe\">\n",
              "  <thead>\n",
              "    <tr style=\"text-align: right;\">\n",
              "      <th></th>\n",
              "      <th>workclass_ Federal-gov</th>\n",
              "      <th>workclass_ Local-gov</th>\n",
              "      <th>workclass_ Private</th>\n",
              "      <th>workclass_ Self-emp-inc</th>\n",
              "      <th>workclass_ Self-emp-not-inc</th>\n",
              "      <th>workclass_ State-gov</th>\n",
              "      <th>workclass_ Without-pay</th>\n",
              "      <th>marital-status_ Divorced</th>\n",
              "      <th>marital-status_ Married-AF-spouse</th>\n",
              "      <th>marital-status_ Married-civ-spouse</th>\n",
              "      <th>...</th>\n",
              "      <th>race_ Other</th>\n",
              "      <th>race_ White</th>\n",
              "      <th>sex_ Female</th>\n",
              "      <th>sex_ Male</th>\n",
              "      <th>relationship_ Husband</th>\n",
              "      <th>relationship_ Not-in-family</th>\n",
              "      <th>relationship_ Other-relative</th>\n",
              "      <th>relationship_ Own-child</th>\n",
              "      <th>relationship_ Unmarried</th>\n",
              "      <th>relationship_ Wife</th>\n",
              "    </tr>\n",
              "  </thead>\n",
              "  <tbody>\n",
              "    <tr>\n",
              "      <th>0</th>\n",
              "      <td>0</td>\n",
              "      <td>0</td>\n",
              "      <td>0</td>\n",
              "      <td>0</td>\n",
              "      <td>1</td>\n",
              "      <td>0</td>\n",
              "      <td>0</td>\n",
              "      <td>0</td>\n",
              "      <td>0</td>\n",
              "      <td>1</td>\n",
              "      <td>...</td>\n",
              "      <td>0</td>\n",
              "      <td>1</td>\n",
              "      <td>0</td>\n",
              "      <td>1</td>\n",
              "      <td>1</td>\n",
              "      <td>0</td>\n",
              "      <td>0</td>\n",
              "      <td>0</td>\n",
              "      <td>0</td>\n",
              "      <td>0</td>\n",
              "    </tr>\n",
              "    <tr>\n",
              "      <th>1</th>\n",
              "      <td>0</td>\n",
              "      <td>0</td>\n",
              "      <td>1</td>\n",
              "      <td>0</td>\n",
              "      <td>0</td>\n",
              "      <td>0</td>\n",
              "      <td>0</td>\n",
              "      <td>1</td>\n",
              "      <td>0</td>\n",
              "      <td>0</td>\n",
              "      <td>...</td>\n",
              "      <td>0</td>\n",
              "      <td>1</td>\n",
              "      <td>0</td>\n",
              "      <td>1</td>\n",
              "      <td>0</td>\n",
              "      <td>1</td>\n",
              "      <td>0</td>\n",
              "      <td>0</td>\n",
              "      <td>0</td>\n",
              "      <td>0</td>\n",
              "    </tr>\n",
              "    <tr>\n",
              "      <th>2</th>\n",
              "      <td>0</td>\n",
              "      <td>0</td>\n",
              "      <td>1</td>\n",
              "      <td>0</td>\n",
              "      <td>0</td>\n",
              "      <td>0</td>\n",
              "      <td>0</td>\n",
              "      <td>0</td>\n",
              "      <td>0</td>\n",
              "      <td>1</td>\n",
              "      <td>...</td>\n",
              "      <td>0</td>\n",
              "      <td>0</td>\n",
              "      <td>0</td>\n",
              "      <td>1</td>\n",
              "      <td>1</td>\n",
              "      <td>0</td>\n",
              "      <td>0</td>\n",
              "      <td>0</td>\n",
              "      <td>0</td>\n",
              "      <td>0</td>\n",
              "    </tr>\n",
              "    <tr>\n",
              "      <th>3</th>\n",
              "      <td>0</td>\n",
              "      <td>0</td>\n",
              "      <td>1</td>\n",
              "      <td>0</td>\n",
              "      <td>0</td>\n",
              "      <td>0</td>\n",
              "      <td>0</td>\n",
              "      <td>0</td>\n",
              "      <td>0</td>\n",
              "      <td>1</td>\n",
              "      <td>...</td>\n",
              "      <td>0</td>\n",
              "      <td>0</td>\n",
              "      <td>1</td>\n",
              "      <td>0</td>\n",
              "      <td>0</td>\n",
              "      <td>0</td>\n",
              "      <td>0</td>\n",
              "      <td>0</td>\n",
              "      <td>0</td>\n",
              "      <td>1</td>\n",
              "    </tr>\n",
              "    <tr>\n",
              "      <th>4</th>\n",
              "      <td>0</td>\n",
              "      <td>0</td>\n",
              "      <td>1</td>\n",
              "      <td>0</td>\n",
              "      <td>0</td>\n",
              "      <td>0</td>\n",
              "      <td>0</td>\n",
              "      <td>0</td>\n",
              "      <td>0</td>\n",
              "      <td>1</td>\n",
              "      <td>...</td>\n",
              "      <td>0</td>\n",
              "      <td>1</td>\n",
              "      <td>1</td>\n",
              "      <td>0</td>\n",
              "      <td>0</td>\n",
              "      <td>0</td>\n",
              "      <td>0</td>\n",
              "      <td>0</td>\n",
              "      <td>0</td>\n",
              "      <td>1</td>\n",
              "    </tr>\n",
              "  </tbody>\n",
              "</table>\n",
              "<p>5 rows × 82 columns</p>\n",
              "</div>"
            ],
            "text/plain": [
              "   workclass_ Federal-gov  workclass_ Local-gov  workclass_ Private  \\\n",
              "0                       0                     0                   0   \n",
              "1                       0                     0                   1   \n",
              "2                       0                     0                   1   \n",
              "3                       0                     0                   1   \n",
              "4                       0                     0                   1   \n",
              "\n",
              "   workclass_ Self-emp-inc  workclass_ Self-emp-not-inc  workclass_ State-gov  \\\n",
              "0                        0                            1                     0   \n",
              "1                        0                            0                     0   \n",
              "2                        0                            0                     0   \n",
              "3                        0                            0                     0   \n",
              "4                        0                            0                     0   \n",
              "\n",
              "   workclass_ Without-pay  marital-status_ Divorced  \\\n",
              "0                       0                         0   \n",
              "1                       0                         1   \n",
              "2                       0                         0   \n",
              "3                       0                         0   \n",
              "4                       0                         0   \n",
              "\n",
              "   marital-status_ Married-AF-spouse  marital-status_ Married-civ-spouse  \\\n",
              "0                                  0                                   1   \n",
              "1                                  0                                   0   \n",
              "2                                  0                                   1   \n",
              "3                                  0                                   1   \n",
              "4                                  0                                   1   \n",
              "\n",
              "          ...          race_ Other  race_ White  sex_ Female  sex_ Male  \\\n",
              "0         ...                    0            1            0          1   \n",
              "1         ...                    0            1            0          1   \n",
              "2         ...                    0            0            0          1   \n",
              "3         ...                    0            0            1          0   \n",
              "4         ...                    0            1            1          0   \n",
              "\n",
              "   relationship_ Husband  relationship_ Not-in-family  \\\n",
              "0                      1                            0   \n",
              "1                      0                            1   \n",
              "2                      1                            0   \n",
              "3                      0                            0   \n",
              "4                      0                            0   \n",
              "\n",
              "   relationship_ Other-relative  relationship_ Own-child  \\\n",
              "0                             0                        0   \n",
              "1                             0                        0   \n",
              "2                             0                        0   \n",
              "3                             0                        0   \n",
              "4                             0                        0   \n",
              "\n",
              "   relationship_ Unmarried  relationship_ Wife  \n",
              "0                        0                   0  \n",
              "1                        0                   0  \n",
              "2                        0                   0  \n",
              "3                        0                   1  \n",
              "4                        0                   1  \n",
              "\n",
              "[5 rows x 82 columns]"
            ]
          },
          "metadata": {
            "tags": []
          },
          "execution_count": 178
        }
      ]
    },
    {
      "metadata": {
        "id": "OGga16WpA_nr",
        "colab_type": "code",
        "outputId": "b8b542ab-22ca-41bb-b393-df617924b877",
        "colab": {
          "base_uri": "https://localhost:8080/",
          "height": 34
        }
      },
      "cell_type": "code",
      "source": [
        "from sklearn.preprocessing import LabelEncoder\n",
        "labelencoder_income = LabelEncoder()\n",
        "\n",
        "income_feature_label = labelencoder_income.fit_transform(income_feature)\n",
        "income_feature_label"
      ],
      "execution_count": 0,
      "outputs": [
        {
          "output_type": "execute_result",
          "data": {
            "text/plain": [
              "array([0, 0, 0, ..., 0, 0, 1])"
            ]
          },
          "metadata": {
            "tags": []
          },
          "execution_count": 179
        }
      ]
    },
    {
      "metadata": {
        "id": "iN4gd3KKbFYO",
        "colab_type": "code",
        "outputId": "9e46e8f1-8720-45cd-f395-58272ea4e06b",
        "colab": {
          "base_uri": "https://localhost:8080/",
          "height": 34
        }
      },
      "cell_type": "code",
      "source": [
        "income_feature_label.shape"
      ],
      "execution_count": 0,
      "outputs": [
        {
          "output_type": "execute_result",
          "data": {
            "text/plain": [
              "(45221,)"
            ]
          },
          "metadata": {
            "tags": []
          },
          "execution_count": 180
        }
      ]
    },
    {
      "metadata": {
        "id": "oqCuW0AbgZeM",
        "colab_type": "code",
        "outputId": "03d6bab9-e9d8-40a2-ccb3-dedb13776fd5",
        "colab": {
          "base_uri": "https://localhost:8080/",
          "height": 714
        }
      },
      "cell_type": "code",
      "source": [
        "test_trainn.columns"
      ],
      "execution_count": 0,
      "outputs": [
        {
          "output_type": "execute_result",
          "data": {
            "text/plain": [
              "Index(['workclass_ Federal-gov', 'workclass_ Local-gov', 'workclass_ Private',\n",
              "       'workclass_ Self-emp-inc', 'workclass_ Self-emp-not-inc',\n",
              "       'workclass_ State-gov', 'workclass_ Without-pay',\n",
              "       'marital-status_ Divorced', 'marital-status_ Married-AF-spouse',\n",
              "       'marital-status_ Married-civ-spouse',\n",
              "       'marital-status_ Married-spouse-absent',\n",
              "       'marital-status_ Never-married', 'marital-status_ Separated',\n",
              "       'marital-status_ Widowed', 'native-country_ Cambodia',\n",
              "       'native-country_ Canada', 'native-country_ China',\n",
              "       'native-country_ Columbia', 'native-country_ Cuba',\n",
              "       'native-country_ Dominican-Republic', 'native-country_ Ecuador',\n",
              "       'native-country_ El-Salvador', 'native-country_ England',\n",
              "       'native-country_ France', 'native-country_ Germany',\n",
              "       'native-country_ Greece', 'native-country_ Guatemala',\n",
              "       'native-country_ Haiti', 'native-country_ Holand-Netherlands',\n",
              "       'native-country_ Honduras', 'native-country_ Hong',\n",
              "       'native-country_ Hungary', 'native-country_ India',\n",
              "       'native-country_ Iran', 'native-country_ Ireland',\n",
              "       'native-country_ Italy', 'native-country_ Jamaica',\n",
              "       'native-country_ Japan', 'native-country_ Laos',\n",
              "       'native-country_ Mexico', 'native-country_ Nicaragua',\n",
              "       'native-country_ Outlying-US(Guam-USVI-etc)', 'native-country_ Peru',\n",
              "       'native-country_ Philippines', 'native-country_ Poland',\n",
              "       'native-country_ Portugal', 'native-country_ Puerto-Rico',\n",
              "       'native-country_ Scotland', 'native-country_ South',\n",
              "       'native-country_ Taiwan', 'native-country_ Thailand',\n",
              "       'native-country_ Trinadad&Tobago', 'native-country_ United-States',\n",
              "       'native-country_ Vietnam', 'native-country_ Yugoslavia',\n",
              "       'occupation_ Adm-clerical', 'occupation_ Armed-Forces',\n",
              "       'occupation_ Craft-repair', 'occupation_ Exec-managerial',\n",
              "       'occupation_ Farming-fishing', 'occupation_ Handlers-cleaners',\n",
              "       'occupation_ Machine-op-inspct', 'occupation_ Other-service',\n",
              "       'occupation_ Priv-house-serv', 'occupation_ Prof-specialty',\n",
              "       'occupation_ Protective-serv', 'occupation_ Sales',\n",
              "       'occupation_ Tech-support', 'occupation_ Transport-moving',\n",
              "       'race_ Amer-Indian-Eskimo', 'race_ Asian-Pac-Islander', 'race_ Black',\n",
              "       'race_ Other', 'race_ White', 'sex_ Female', 'sex_ Male',\n",
              "       'relationship_ Husband', 'relationship_ Not-in-family',\n",
              "       'relationship_ Other-relative', 'relationship_ Own-child',\n",
              "       'relationship_ Unmarried', 'relationship_ Wife'],\n",
              "      dtype='object')"
            ]
          },
          "metadata": {
            "tags": []
          },
          "execution_count": 181
        }
      ]
    },
    {
      "metadata": {
        "id": "QHEC-OsRfWcu",
        "colab_type": "code",
        "outputId": "df723f47-0503-412c-a006-7fc7e9584953",
        "colab": {
          "base_uri": "https://localhost:8080/",
          "height": 204
        }
      },
      "cell_type": "code",
      "source": [
        "numerical_features = test_train[['age',\t'education-num',\t'capital-gain',\t'capital-loss',\t'hours-per-week']]\n",
        "numerical_features.head()"
      ],
      "execution_count": 0,
      "outputs": [
        {
          "output_type": "execute_result",
          "data": {
            "text/html": [
              "<div>\n",
              "<style scoped>\n",
              "    .dataframe tbody tr th:only-of-type {\n",
              "        vertical-align: middle;\n",
              "    }\n",
              "\n",
              "    .dataframe tbody tr th {\n",
              "        vertical-align: top;\n",
              "    }\n",
              "\n",
              "    .dataframe thead th {\n",
              "        text-align: right;\n",
              "    }\n",
              "</style>\n",
              "<table border=\"1\" class=\"dataframe\">\n",
              "  <thead>\n",
              "    <tr style=\"text-align: right;\">\n",
              "      <th></th>\n",
              "      <th>age</th>\n",
              "      <th>education-num</th>\n",
              "      <th>capital-gain</th>\n",
              "      <th>capital-loss</th>\n",
              "      <th>hours-per-week</th>\n",
              "    </tr>\n",
              "  </thead>\n",
              "  <tbody>\n",
              "    <tr>\n",
              "      <th>0</th>\n",
              "      <td>50</td>\n",
              "      <td>13.0</td>\n",
              "      <td>0.0</td>\n",
              "      <td>0.0</td>\n",
              "      <td>13.0</td>\n",
              "    </tr>\n",
              "    <tr>\n",
              "      <th>1</th>\n",
              "      <td>38</td>\n",
              "      <td>9.0</td>\n",
              "      <td>0.0</td>\n",
              "      <td>0.0</td>\n",
              "      <td>40.0</td>\n",
              "    </tr>\n",
              "    <tr>\n",
              "      <th>2</th>\n",
              "      <td>53</td>\n",
              "      <td>7.0</td>\n",
              "      <td>0.0</td>\n",
              "      <td>0.0</td>\n",
              "      <td>40.0</td>\n",
              "    </tr>\n",
              "    <tr>\n",
              "      <th>3</th>\n",
              "      <td>28</td>\n",
              "      <td>13.0</td>\n",
              "      <td>0.0</td>\n",
              "      <td>0.0</td>\n",
              "      <td>40.0</td>\n",
              "    </tr>\n",
              "    <tr>\n",
              "      <th>4</th>\n",
              "      <td>37</td>\n",
              "      <td>14.0</td>\n",
              "      <td>0.0</td>\n",
              "      <td>0.0</td>\n",
              "      <td>40.0</td>\n",
              "    </tr>\n",
              "  </tbody>\n",
              "</table>\n",
              "</div>"
            ],
            "text/plain": [
              "   age  education-num  capital-gain  capital-loss  hours-per-week\n",
              "0   50           13.0           0.0           0.0            13.0\n",
              "1   38            9.0           0.0           0.0            40.0\n",
              "2   53            7.0           0.0           0.0            40.0\n",
              "3   28           13.0           0.0           0.0            40.0\n",
              "4   37           14.0           0.0           0.0            40.0"
            ]
          },
          "metadata": {
            "tags": []
          },
          "execution_count": 182
        }
      ]
    },
    {
      "metadata": {
        "id": "lhNMJzl_2pbf",
        "colab_type": "code",
        "outputId": "405a3eef-43fe-44f3-8136-a57296bd7948",
        "colab": {
          "base_uri": "https://localhost:8080/",
          "height": 119
        }
      },
      "cell_type": "code",
      "source": [
        "edu_dataframe = numerical_features['education-num']\n",
        "edu_dataframe.head()"
      ],
      "execution_count": 0,
      "outputs": [
        {
          "output_type": "execute_result",
          "data": {
            "text/plain": [
              "0    13.0\n",
              "1     9.0\n",
              "2     7.0\n",
              "3    13.0\n",
              "4    14.0\n",
              "Name: education-num, dtype: float64"
            ]
          },
          "metadata": {
            "tags": []
          },
          "execution_count": 183
        }
      ]
    },
    {
      "metadata": {
        "id": "PhwMI0Wn4QCN",
        "colab_type": "code",
        "colab": {}
      },
      "cell_type": "code",
      "source": [
        ""
      ],
      "execution_count": 0,
      "outputs": []
    },
    {
      "metadata": {
        "id": "wO87dVRXbRse",
        "colab_type": "code",
        "outputId": "48135016-51fd-4c13-9bfe-73f02d337e66",
        "colab": {
          "base_uri": "https://localhost:8080/",
          "height": 34
        }
      },
      "cell_type": "code",
      "source": [
        "numerical_features.shape"
      ],
      "execution_count": 0,
      "outputs": [
        {
          "output_type": "execute_result",
          "data": {
            "text/plain": [
              "(45221, 5)"
            ]
          },
          "metadata": {
            "tags": []
          },
          "execution_count": 184
        }
      ]
    },
    {
      "metadata": {
        "id": "52m8S_r-oxgT",
        "colab_type": "code",
        "outputId": "02d05cda-4459-43f5-daf4-08f873ba21ff",
        "colab": {
          "base_uri": "https://localhost:8080/",
          "height": 204
        }
      },
      "cell_type": "code",
      "source": [
        "income_dataframe = pd.DataFrame({\"Income_val\": income_feature_label})\n",
        "income_dataframe.head()"
      ],
      "execution_count": 0,
      "outputs": [
        {
          "output_type": "execute_result",
          "data": {
            "text/html": [
              "<div>\n",
              "<style scoped>\n",
              "    .dataframe tbody tr th:only-of-type {\n",
              "        vertical-align: middle;\n",
              "    }\n",
              "\n",
              "    .dataframe tbody tr th {\n",
              "        vertical-align: top;\n",
              "    }\n",
              "\n",
              "    .dataframe thead th {\n",
              "        text-align: right;\n",
              "    }\n",
              "</style>\n",
              "<table border=\"1\" class=\"dataframe\">\n",
              "  <thead>\n",
              "    <tr style=\"text-align: right;\">\n",
              "      <th></th>\n",
              "      <th>Income_val</th>\n",
              "    </tr>\n",
              "  </thead>\n",
              "  <tbody>\n",
              "    <tr>\n",
              "      <th>0</th>\n",
              "      <td>0</td>\n",
              "    </tr>\n",
              "    <tr>\n",
              "      <th>1</th>\n",
              "      <td>0</td>\n",
              "    </tr>\n",
              "    <tr>\n",
              "      <th>2</th>\n",
              "      <td>0</td>\n",
              "    </tr>\n",
              "    <tr>\n",
              "      <th>3</th>\n",
              "      <td>0</td>\n",
              "    </tr>\n",
              "    <tr>\n",
              "      <th>4</th>\n",
              "      <td>0</td>\n",
              "    </tr>\n",
              "  </tbody>\n",
              "</table>\n",
              "</div>"
            ],
            "text/plain": [
              "   Income_val\n",
              "0           0\n",
              "1           0\n",
              "2           0\n",
              "3           0\n",
              "4           0"
            ]
          },
          "metadata": {
            "tags": []
          },
          "execution_count": 185
        }
      ]
    },
    {
      "metadata": {
        "id": "GyTMitb44fc0",
        "colab_type": "code",
        "outputId": "0c17919e-db17-42ce-ad62-3e8404b364e6",
        "colab": {
          "base_uri": "https://localhost:8080/",
          "height": 204
        }
      },
      "cell_type": "code",
      "source": [
        "edu_income = pd.concat([income_dataframe, edu_dataframe], axis=1)\n",
        "edu_income.head()"
      ],
      "execution_count": 0,
      "outputs": [
        {
          "output_type": "execute_result",
          "data": {
            "text/html": [
              "<div>\n",
              "<style scoped>\n",
              "    .dataframe tbody tr th:only-of-type {\n",
              "        vertical-align: middle;\n",
              "    }\n",
              "\n",
              "    .dataframe tbody tr th {\n",
              "        vertical-align: top;\n",
              "    }\n",
              "\n",
              "    .dataframe thead th {\n",
              "        text-align: right;\n",
              "    }\n",
              "</style>\n",
              "<table border=\"1\" class=\"dataframe\">\n",
              "  <thead>\n",
              "    <tr style=\"text-align: right;\">\n",
              "      <th></th>\n",
              "      <th>Income_val</th>\n",
              "      <th>education-num</th>\n",
              "    </tr>\n",
              "  </thead>\n",
              "  <tbody>\n",
              "    <tr>\n",
              "      <th>0</th>\n",
              "      <td>0</td>\n",
              "      <td>13.0</td>\n",
              "    </tr>\n",
              "    <tr>\n",
              "      <th>1</th>\n",
              "      <td>0</td>\n",
              "      <td>9.0</td>\n",
              "    </tr>\n",
              "    <tr>\n",
              "      <th>2</th>\n",
              "      <td>0</td>\n",
              "      <td>7.0</td>\n",
              "    </tr>\n",
              "    <tr>\n",
              "      <th>3</th>\n",
              "      <td>0</td>\n",
              "      <td>13.0</td>\n",
              "    </tr>\n",
              "    <tr>\n",
              "      <th>4</th>\n",
              "      <td>0</td>\n",
              "      <td>14.0</td>\n",
              "    </tr>\n",
              "  </tbody>\n",
              "</table>\n",
              "</div>"
            ],
            "text/plain": [
              "   Income_val  education-num\n",
              "0           0           13.0\n",
              "1           0            9.0\n",
              "2           0            7.0\n",
              "3           0           13.0\n",
              "4           0           14.0"
            ]
          },
          "metadata": {
            "tags": []
          },
          "execution_count": 186
        }
      ]
    },
    {
      "metadata": {
        "id": "qoEboge24sIj",
        "colab_type": "code",
        "outputId": "78011f46-4b69-4da2-8b05-900157b3ba47",
        "colab": {
          "base_uri": "https://localhost:8080/",
          "height": 475
        }
      },
      "cell_type": "code",
      "source": [
        "edu_inc = snb.factorplot(x=\"education-num\",y=\"Income_val\",data=edu_income,kind=\"bar\",size = 6, palette = \"bright\")\n",
        "edu_inc.despine(right=True)\n",
        "edu_inc = edu_inc.set_ylabels(\"Income of adults\")\n",
        "#edu_inc = g.set_ylabels(\"Income of adults\")\n"
      ],
      "execution_count": 0,
      "outputs": [
        {
          "output_type": "stream",
          "text": [
            "/usr/local/lib/python3.6/dist-packages/seaborn/categorical.py:1428: FutureWarning: remove_na is deprecated and is a private function. Do not use.\n",
            "  stat_data = remove_na(group_data)\n"
          ],
          "name": "stderr"
        },
        {
          "output_type": "display_data",
          "data": {
            "image/png": "[encoded data removed]",
            "text/plain": [
              "<Figure size 432x432 with 1 Axes>"
            ]
          },
          "metadata": {
            "tags": []
          }
        }
      ]
    },
    {
      "metadata": {
        "id": "g0cRdXm5y00J",
        "colab_type": "code",
        "outputId": "5ac09799-44dc-4e8a-ab8f-287273412214",
        "colab": {
          "base_uri": "https://localhost:8080/",
          "height": 119
        }
      },
      "cell_type": "code",
      "source": [
        "age_dataframe = numerical_features.age\n",
        "age_dataframe.head()"
      ],
      "execution_count": 0,
      "outputs": [
        {
          "output_type": "execute_result",
          "data": {
            "text/plain": [
              "0    50\n",
              "1    38\n",
              "2    53\n",
              "3    28\n",
              "4    37\n",
              "Name: age, dtype: int64"
            ]
          },
          "metadata": {
            "tags": []
          },
          "execution_count": 188
        }
      ]
    },
    {
      "metadata": {
        "id": "yVg674y54Gfr",
        "colab_type": "code",
        "colab": {}
      },
      "cell_type": "code",
      "source": [
        ""
      ],
      "execution_count": 0,
      "outputs": []
    },
    {
      "metadata": {
        "id": "y_fW8hLTzH4b",
        "colab_type": "code",
        "outputId": "f38bbcd0-751e-4923-a3e6-befa846581e7",
        "colab": {
          "base_uri": "https://localhost:8080/",
          "height": 204
        }
      },
      "cell_type": "code",
      "source": [
        "age_income = pd.concat([income_dataframe, age_dataframe], axis=1)\n",
        "age_income.head()"
      ],
      "execution_count": 0,
      "outputs": [
        {
          "output_type": "execute_result",
          "data": {
            "text/html": [
              "<div>\n",
              "<style scoped>\n",
              "    .dataframe tbody tr th:only-of-type {\n",
              "        vertical-align: middle;\n",
              "    }\n",
              "\n",
              "    .dataframe tbody tr th {\n",
              "        vertical-align: top;\n",
              "    }\n",
              "\n",
              "    .dataframe thead th {\n",
              "        text-align: right;\n",
              "    }\n",
              "</style>\n",
              "<table border=\"1\" class=\"dataframe\">\n",
              "  <thead>\n",
              "    <tr style=\"text-align: right;\">\n",
              "      <th></th>\n",
              "      <th>Income_val</th>\n",
              "      <th>age</th>\n",
              "    </tr>\n",
              "  </thead>\n",
              "  <tbody>\n",
              "    <tr>\n",
              "      <th>0</th>\n",
              "      <td>0</td>\n",
              "      <td>50</td>\n",
              "    </tr>\n",
              "    <tr>\n",
              "      <th>1</th>\n",
              "      <td>0</td>\n",
              "      <td>38</td>\n",
              "    </tr>\n",
              "    <tr>\n",
              "      <th>2</th>\n",
              "      <td>0</td>\n",
              "      <td>53</td>\n",
              "    </tr>\n",
              "    <tr>\n",
              "      <th>3</th>\n",
              "      <td>0</td>\n",
              "      <td>28</td>\n",
              "    </tr>\n",
              "    <tr>\n",
              "      <th>4</th>\n",
              "      <td>0</td>\n",
              "      <td>37</td>\n",
              "    </tr>\n",
              "  </tbody>\n",
              "</table>\n",
              "</div>"
            ],
            "text/plain": [
              "   Income_val  age\n",
              "0           0   50\n",
              "1           0   38\n",
              "2           0   53\n",
              "3           0   28\n",
              "4           0   37"
            ]
          },
          "metadata": {
            "tags": []
          },
          "execution_count": 189
        }
      ]
    },
    {
      "metadata": {
        "id": "SUqQI9WEz5tv",
        "colab_type": "code",
        "outputId": "4b40ab0f-f786-4c5d-d6a3-4e8457afb551",
        "colab": {
          "base_uri": "https://localhost:8080/",
          "height": 313
        }
      },
      "cell_type": "code",
      "source": [
        "# age and income can be also compated\n",
        "g = snb.barplot(x=\"Income_val\",y=\"age\",data=age_income)\n",
        "g = g.set_ylabel(\"age of the adults\")\n",
        "snb.plt.show()"
      ],
      "execution_count": 0,
      "outputs": [
        {
          "output_type": "stream",
          "text": [
            "/usr/local/lib/python3.6/dist-packages/seaborn/categorical.py:1428: FutureWarning: remove_na is deprecated and is a private function. Do not use.\n",
            "  stat_data = remove_na(group_data)\n"
          ],
          "name": "stderr"
        },
        {
          "output_type": "display_data",
          "data": {
            "image/png": "[encoded data removed]",
            "text/plain": [
              "<Figure size 432x288 with 1 Axes>"
            ]
          },
          "metadata": {
            "tags": []
          }
        }
      ]
    },
    {
      "metadata": {
        "id": "ooUYicPaf_5j",
        "colab_type": "code",
        "outputId": "493bdc00-8ca6-4494-9fa0-218378094971",
        "colab": {
          "base_uri": "https://localhost:8080/",
          "height": 313
        }
      },
      "cell_type": "code",
      "source": [
        "# Here we can count adults who can gets >50k and <=50k\n",
        "\n",
        "snb.countplot(income_dataframe['Income_val'],label=\"Count\")\n",
        "snb.plt.show()"
      ],
      "execution_count": 0,
      "outputs": [
        {
          "output_type": "stream",
          "text": [
            "/usr/local/lib/python3.6/dist-packages/seaborn/categorical.py:1428: FutureWarning: remove_na is deprecated and is a private function. Do not use.\n",
            "  stat_data = remove_na(group_data)\n"
          ],
          "name": "stderr"
        },
        {
          "output_type": "display_data",
          "data": {
            "image/png": "[encoded data removed]",
            "text/plain": [
              "<Figure size 432x288 with 1 Axes>"
            ]
          },
          "metadata": {
            "tags": []
          }
        }
      ]
    },
    {
      "metadata": {
        "id": "km0zg_Vdnyt_",
        "colab_type": "code",
        "outputId": "77f5bd6c-2d24-40ee-ceeb-c57af38827d1",
        "colab": {
          "base_uri": "https://localhost:8080/",
          "height": 204
        }
      },
      "cell_type": "code",
      "source": [
        "num_income_together = pd.concat([numerical_features, income_dataframe], axis=1)\n",
        "num_income_together.head()"
      ],
      "execution_count": 0,
      "outputs": [
        {
          "output_type": "execute_result",
          "data": {
            "text/html": [
              "<div>\n",
              "<style scoped>\n",
              "    .dataframe tbody tr th:only-of-type {\n",
              "        vertical-align: middle;\n",
              "    }\n",
              "\n",
              "    .dataframe tbody tr th {\n",
              "        vertical-align: top;\n",
              "    }\n",
              "\n",
              "    .dataframe thead th {\n",
              "        text-align: right;\n",
              "    }\n",
              "</style>\n",
              "<table border=\"1\" class=\"dataframe\">\n",
              "  <thead>\n",
              "    <tr style=\"text-align: right;\">\n",
              "      <th></th>\n",
              "      <th>age</th>\n",
              "      <th>education-num</th>\n",
              "      <th>capital-gain</th>\n",
              "      <th>capital-loss</th>\n",
              "      <th>hours-per-week</th>\n",
              "      <th>Income_val</th>\n",
              "    </tr>\n",
              "  </thead>\n",
              "  <tbody>\n",
              "    <tr>\n",
              "      <th>0</th>\n",
              "      <td>50</td>\n",
              "      <td>13.0</td>\n",
              "      <td>0.0</td>\n",
              "      <td>0.0</td>\n",
              "      <td>13.0</td>\n",
              "      <td>0</td>\n",
              "    </tr>\n",
              "    <tr>\n",
              "      <th>1</th>\n",
              "      <td>38</td>\n",
              "      <td>9.0</td>\n",
              "      <td>0.0</td>\n",
              "      <td>0.0</td>\n",
              "      <td>40.0</td>\n",
              "      <td>0</td>\n",
              "    </tr>\n",
              "    <tr>\n",
              "      <th>2</th>\n",
              "      <td>53</td>\n",
              "      <td>7.0</td>\n",
              "      <td>0.0</td>\n",
              "      <td>0.0</td>\n",
              "      <td>40.0</td>\n",
              "      <td>0</td>\n",
              "    </tr>\n",
              "    <tr>\n",
              "      <th>3</th>\n",
              "      <td>28</td>\n",
              "      <td>13.0</td>\n",
              "      <td>0.0</td>\n",
              "      <td>0.0</td>\n",
              "      <td>40.0</td>\n",
              "      <td>0</td>\n",
              "    </tr>\n",
              "    <tr>\n",
              "      <th>4</th>\n",
              "      <td>37</td>\n",
              "      <td>14.0</td>\n",
              "      <td>0.0</td>\n",
              "      <td>0.0</td>\n",
              "      <td>40.0</td>\n",
              "      <td>0</td>\n",
              "    </tr>\n",
              "  </tbody>\n",
              "</table>\n",
              "</div>"
            ],
            "text/plain": [
              "   age  education-num  capital-gain  capital-loss  hours-per-week  Income_val\n",
              "0   50           13.0           0.0           0.0            13.0           0\n",
              "1   38            9.0           0.0           0.0            40.0           0\n",
              "2   53            7.0           0.0           0.0            40.0           0\n",
              "3   28           13.0           0.0           0.0            40.0           0\n",
              "4   37           14.0           0.0           0.0            40.0           0"
            ]
          },
          "metadata": {
            "tags": []
          },
          "execution_count": 192
        }
      ]
    },
    {
      "metadata": {
        "id": "RzkUAzzijPp1",
        "colab_type": "code",
        "outputId": "c27cf318-3dc7-48d9-ee33-c683fbf3c246",
        "colab": {
          "base_uri": "https://localhost:8080/",
          "height": 276
        }
      },
      "cell_type": "code",
      "source": [
        "# Here we can compare Income of individuals with their age\n",
        "age_against_income = snb.FacetGrid(num_income_together, col='Income_val')\n",
        "age_against_income = age_against_income.map(snb.distplot, \"age\")\n",
        "snb.plt.show()"
      ],
      "execution_count": 0,
      "outputs": [
        {
          "output_type": "stream",
          "text": [
            "/usr/local/lib/python3.6/dist-packages/matplotlib/axes/_axes.py:6521: MatplotlibDeprecationWarning: \n",
            "The 'normed' kwarg was deprecated in Matplotlib 2.1 and will be removed in 3.1. Use 'density' instead.\n",
            "  alternative=\"'density'\", removal=\"3.1\")\n"
          ],
          "name": "stderr"
        },
        {
          "output_type": "display_data",
          "data": {
            "image/png": "[encoded data removed]",
            "text/plain": [
              "<Figure size 432x216 with 2 Axes>"
            ]
          },
          "metadata": {
            "tags": []
          }
        }
      ]
    },
    {
      "metadata": {
        "id": "dm5QO_1Gp3MI",
        "colab_type": "code",
        "outputId": "0a2bd96e-3471-4b0f-c2d3-1e3a8bb4e536",
        "colab": {
          "base_uri": "https://localhost:8080/",
          "height": 765
        }
      },
      "cell_type": "code",
      "source": [
        "#import seaborn as snb\n",
        "\n",
        "corr= num_income_together.corr()\n",
        "fig, ax =plt.subplots(figsize=(15, 15))\n",
        "colormap=snb.diverging_palette(220, 20, as_cmap=True)\n",
        "fig=snb.heatmap(num_income_together.corr(), cmap = \"YlGn\", square=True, cbar_kws={'shrink':.9 }, ax=ax, annot=True, linewidths=0.1,vmax=1.0, linecolor='red',annot_kws={'fontsize':14 })\n",
        "\n"
      ],
      "execution_count": 0,
      "outputs": [
        {
          "output_type": "display_data",
          "data": {
            "image/png": "[encoded data removed]",
            "text/plain": [
              "<Figure size 1080x1080 with 2 Axes>"
            ]
          },
          "metadata": {
            "tags": []
          }
        }
      ]
    },
    {
      "metadata": {
        "id": "k0x7TMKJt_XK",
        "colab_type": "text"
      },
      "cell_type": "markdown",
      "source": [
        "1. Our hitpmap graph indicates that income has positive correclation with all the numberical features.\n",
        "\n",
        "2. The hipmap correlation between each numerical variables shows most of the variables have positive correlation. However the correlation is not strong as predicted in our assumption.\n",
        "\n",
        "3. However \"capital-gain\" and \"capital-loss\" both have negative correlation."
      ]
    },
    {
      "metadata": {
        "id": "-ONxUTg_hEyN",
        "colab_type": "code",
        "outputId": "57f75cd4-251e-45ac-c31e-29b75d7acb57",
        "colab": {
          "base_uri": "https://localhost:8080/",
          "height": 258
        }
      },
      "cell_type": "code",
      "source": [
        "min_max_scaler = preprocessing.MinMaxScaler()\n",
        "numerical_features_normalized = min_max_scaler.fit_transform(numerical_features)\n",
        "\n",
        "data_normalized = pd.DataFrame(numerical_features_normalized)\n",
        "#numerical_features_normalized\n",
        "data_normalized.head()"
      ],
      "execution_count": 0,
      "outputs": [
        {
          "output_type": "stream",
          "text": [
            "/usr/local/lib/python3.6/dist-packages/sklearn/preprocessing/data.py:334: DataConversionWarning: Data with input dtype int64, float64 were all converted to float64 by MinMaxScaler.\n",
            "  return self.partial_fit(X, y)\n"
          ],
          "name": "stderr"
        },
        {
          "output_type": "execute_result",
          "data": {
            "text/html": [
              "<div>\n",
              "<style scoped>\n",
              "    .dataframe tbody tr th:only-of-type {\n",
              "        vertical-align: middle;\n",
              "    }\n",
              "\n",
              "    .dataframe tbody tr th {\n",
              "        vertical-align: top;\n",
              "    }\n",
              "\n",
              "    .dataframe thead th {\n",
              "        text-align: right;\n",
              "    }\n",
              "</style>\n",
              "<table border=\"1\" class=\"dataframe\">\n",
              "  <thead>\n",
              "    <tr style=\"text-align: right;\">\n",
              "      <th></th>\n",
              "      <th>0</th>\n",
              "      <th>1</th>\n",
              "      <th>2</th>\n",
              "      <th>3</th>\n",
              "      <th>4</th>\n",
              "    </tr>\n",
              "  </thead>\n",
              "  <tbody>\n",
              "    <tr>\n",
              "      <th>0</th>\n",
              "      <td>0.452055</td>\n",
              "      <td>0.800000</td>\n",
              "      <td>0.0</td>\n",
              "      <td>0.0</td>\n",
              "      <td>0.122449</td>\n",
              "    </tr>\n",
              "    <tr>\n",
              "      <th>1</th>\n",
              "      <td>0.287671</td>\n",
              "      <td>0.533333</td>\n",
              "      <td>0.0</td>\n",
              "      <td>0.0</td>\n",
              "      <td>0.397959</td>\n",
              "    </tr>\n",
              "    <tr>\n",
              "      <th>2</th>\n",
              "      <td>0.493151</td>\n",
              "      <td>0.400000</td>\n",
              "      <td>0.0</td>\n",
              "      <td>0.0</td>\n",
              "      <td>0.397959</td>\n",
              "    </tr>\n",
              "    <tr>\n",
              "      <th>3</th>\n",
              "      <td>0.150685</td>\n",
              "      <td>0.800000</td>\n",
              "      <td>0.0</td>\n",
              "      <td>0.0</td>\n",
              "      <td>0.397959</td>\n",
              "    </tr>\n",
              "    <tr>\n",
              "      <th>4</th>\n",
              "      <td>0.273973</td>\n",
              "      <td>0.866667</td>\n",
              "      <td>0.0</td>\n",
              "      <td>0.0</td>\n",
              "      <td>0.397959</td>\n",
              "    </tr>\n",
              "  </tbody>\n",
              "</table>\n",
              "</div>"
            ],
            "text/plain": [
              "          0         1    2    3         4\n",
              "0  0.452055  0.800000  0.0  0.0  0.122449\n",
              "1  0.287671  0.533333  0.0  0.0  0.397959\n",
              "2  0.493151  0.400000  0.0  0.0  0.397959\n",
              "3  0.150685  0.800000  0.0  0.0  0.397959\n",
              "4  0.273973  0.866667  0.0  0.0  0.397959"
            ]
          },
          "metadata": {
            "tags": []
          },
          "execution_count": 195
        }
      ]
    },
    {
      "metadata": {
        "id": "B6Zzrj6QGafs",
        "colab_type": "code",
        "outputId": "6cb7028e-24bb-4508-e755-2a95602272a5",
        "colab": {
          "base_uri": "https://localhost:8080/",
          "height": 204
        }
      },
      "cell_type": "code",
      "source": [
        "# Normaized numerica features of the data\n",
        "column2 = ['age',\t'education-num',\t'capital-gain',\t'capital-loss',\t'hours-per-week']\n",
        "data_normalized.columns = column2\n",
        "data_normalized.head()\n"
      ],
      "execution_count": 0,
      "outputs": [
        {
          "output_type": "execute_result",
          "data": {
            "text/html": [
              "<div>\n",
              "<style scoped>\n",
              "    .dataframe tbody tr th:only-of-type {\n",
              "        vertical-align: middle;\n",
              "    }\n",
              "\n",
              "    .dataframe tbody tr th {\n",
              "        vertical-align: top;\n",
              "    }\n",
              "\n",
              "    .dataframe thead th {\n",
              "        text-align: right;\n",
              "    }\n",
              "</style>\n",
              "<table border=\"1\" class=\"dataframe\">\n",
              "  <thead>\n",
              "    <tr style=\"text-align: right;\">\n",
              "      <th></th>\n",
              "      <th>age</th>\n",
              "      <th>education-num</th>\n",
              "      <th>capital-gain</th>\n",
              "      <th>capital-loss</th>\n",
              "      <th>hours-per-week</th>\n",
              "    </tr>\n",
              "  </thead>\n",
              "  <tbody>\n",
              "    <tr>\n",
              "      <th>0</th>\n",
              "      <td>0.452055</td>\n",
              "      <td>0.800000</td>\n",
              "      <td>0.0</td>\n",
              "      <td>0.0</td>\n",
              "      <td>0.122449</td>\n",
              "    </tr>\n",
              "    <tr>\n",
              "      <th>1</th>\n",
              "      <td>0.287671</td>\n",
              "      <td>0.533333</td>\n",
              "      <td>0.0</td>\n",
              "      <td>0.0</td>\n",
              "      <td>0.397959</td>\n",
              "    </tr>\n",
              "    <tr>\n",
              "      <th>2</th>\n",
              "      <td>0.493151</td>\n",
              "      <td>0.400000</td>\n",
              "      <td>0.0</td>\n",
              "      <td>0.0</td>\n",
              "      <td>0.397959</td>\n",
              "    </tr>\n",
              "    <tr>\n",
              "      <th>3</th>\n",
              "      <td>0.150685</td>\n",
              "      <td>0.800000</td>\n",
              "      <td>0.0</td>\n",
              "      <td>0.0</td>\n",
              "      <td>0.397959</td>\n",
              "    </tr>\n",
              "    <tr>\n",
              "      <th>4</th>\n",
              "      <td>0.273973</td>\n",
              "      <td>0.866667</td>\n",
              "      <td>0.0</td>\n",
              "      <td>0.0</td>\n",
              "      <td>0.397959</td>\n",
              "    </tr>\n",
              "  </tbody>\n",
              "</table>\n",
              "</div>"
            ],
            "text/plain": [
              "        age  education-num  capital-gain  capital-loss  hours-per-week\n",
              "0  0.452055       0.800000           0.0           0.0        0.122449\n",
              "1  0.287671       0.533333           0.0           0.0        0.397959\n",
              "2  0.493151       0.400000           0.0           0.0        0.397959\n",
              "3  0.150685       0.800000           0.0           0.0        0.397959\n",
              "4  0.273973       0.866667           0.0           0.0        0.397959"
            ]
          },
          "metadata": {
            "tags": []
          },
          "execution_count": 196
        }
      ]
    },
    {
      "metadata": {
        "id": "rImGlCqMbe7j",
        "colab_type": "code",
        "outputId": "bde7f1f5-4c57-4c9e-841f-3305148c00a2",
        "colab": {
          "base_uri": "https://localhost:8080/",
          "height": 34
        }
      },
      "cell_type": "code",
      "source": [
        "data_normalized.shape"
      ],
      "execution_count": 0,
      "outputs": [
        {
          "output_type": "execute_result",
          "data": {
            "text/plain": [
              "(45221, 5)"
            ]
          },
          "metadata": {
            "tags": []
          },
          "execution_count": 197
        }
      ]
    },
    {
      "metadata": {
        "id": "oGSX36bwR2T6",
        "colab_type": "code",
        "outputId": "bc4befd8-38d3-44a9-cffd-1ccd87ce304c",
        "colab": {
          "base_uri": "https://localhost:8080/",
          "height": 321
        }
      },
      "cell_type": "code",
      "source": [
        "test_trainn.head()"
      ],
      "execution_count": 0,
      "outputs": [
        {
          "output_type": "execute_result",
          "data": {
            "text/html": [
              "<div>\n",
              "<style scoped>\n",
              "    .dataframe tbody tr th:only-of-type {\n",
              "        vertical-align: middle;\n",
              "    }\n",
              "\n",
              "    .dataframe tbody tr th {\n",
              "        vertical-align: top;\n",
              "    }\n",
              "\n",
              "    .dataframe thead th {\n",
              "        text-align: right;\n",
              "    }\n",
              "</style>\n",
              "<table border=\"1\" class=\"dataframe\">\n",
              "  <thead>\n",
              "    <tr style=\"text-align: right;\">\n",
              "      <th></th>\n",
              "      <th>workclass_ Federal-gov</th>\n",
              "      <th>workclass_ Local-gov</th>\n",
              "      <th>workclass_ Private</th>\n",
              "      <th>workclass_ Self-emp-inc</th>\n",
              "      <th>workclass_ Self-emp-not-inc</th>\n",
              "      <th>workclass_ State-gov</th>\n",
              "      <th>workclass_ Without-pay</th>\n",
              "      <th>marital-status_ Divorced</th>\n",
              "      <th>marital-status_ Married-AF-spouse</th>\n",
              "      <th>marital-status_ Married-civ-spouse</th>\n",
              "      <th>...</th>\n",
              "      <th>race_ Other</th>\n",
              "      <th>race_ White</th>\n",
              "      <th>sex_ Female</th>\n",
              "      <th>sex_ Male</th>\n",
              "      <th>relationship_ Husband</th>\n",
              "      <th>relationship_ Not-in-family</th>\n",
              "      <th>relationship_ Other-relative</th>\n",
              "      <th>relationship_ Own-child</th>\n",
              "      <th>relationship_ Unmarried</th>\n",
              "      <th>relationship_ Wife</th>\n",
              "    </tr>\n",
              "  </thead>\n",
              "  <tbody>\n",
              "    <tr>\n",
              "      <th>0</th>\n",
              "      <td>0</td>\n",
              "      <td>0</td>\n",
              "      <td>0</td>\n",
              "      <td>0</td>\n",
              "      <td>1</td>\n",
              "      <td>0</td>\n",
              "      <td>0</td>\n",
              "      <td>0</td>\n",
              "      <td>0</td>\n",
              "      <td>1</td>\n",
              "      <td>...</td>\n",
              "      <td>0</td>\n",
              "      <td>1</td>\n",
              "      <td>0</td>\n",
              "      <td>1</td>\n",
              "      <td>1</td>\n",
              "      <td>0</td>\n",
              "      <td>0</td>\n",
              "      <td>0</td>\n",
              "      <td>0</td>\n",
              "      <td>0</td>\n",
              "    </tr>\n",
              "    <tr>\n",
              "      <th>1</th>\n",
              "      <td>0</td>\n",
              "      <td>0</td>\n",
              "      <td>1</td>\n",
              "      <td>0</td>\n",
              "      <td>0</td>\n",
              "      <td>0</td>\n",
              "      <td>0</td>\n",
              "      <td>1</td>\n",
              "      <td>0</td>\n",
              "      <td>0</td>\n",
              "      <td>...</td>\n",
              "      <td>0</td>\n",
              "      <td>1</td>\n",
              "      <td>0</td>\n",
              "      <td>1</td>\n",
              "      <td>0</td>\n",
              "      <td>1</td>\n",
              "      <td>0</td>\n",
              "      <td>0</td>\n",
              "      <td>0</td>\n",
              "      <td>0</td>\n",
              "    </tr>\n",
              "    <tr>\n",
              "      <th>2</th>\n",
              "      <td>0</td>\n",
              "      <td>0</td>\n",
              "      <td>1</td>\n",
              "      <td>0</td>\n",
              "      <td>0</td>\n",
              "      <td>0</td>\n",
              "      <td>0</td>\n",
              "      <td>0</td>\n",
              "      <td>0</td>\n",
              "      <td>1</td>\n",
              "      <td>...</td>\n",
              "      <td>0</td>\n",
              "      <td>0</td>\n",
              "      <td>0</td>\n",
              "      <td>1</td>\n",
              "      <td>1</td>\n",
              "      <td>0</td>\n",
              "      <td>0</td>\n",
              "      <td>0</td>\n",
              "      <td>0</td>\n",
              "      <td>0</td>\n",
              "    </tr>\n",
              "    <tr>\n",
              "      <th>3</th>\n",
              "      <td>0</td>\n",
              "      <td>0</td>\n",
              "      <td>1</td>\n",
              "      <td>0</td>\n",
              "      <td>0</td>\n",
              "      <td>0</td>\n",
              "      <td>0</td>\n",
              "      <td>0</td>\n",
              "      <td>0</td>\n",
              "      <td>1</td>\n",
              "      <td>...</td>\n",
              "      <td>0</td>\n",
              "      <td>0</td>\n",
              "      <td>1</td>\n",
              "      <td>0</td>\n",
              "      <td>0</td>\n",
              "      <td>0</td>\n",
              "      <td>0</td>\n",
              "      <td>0</td>\n",
              "      <td>0</td>\n",
              "      <td>1</td>\n",
              "    </tr>\n",
              "    <tr>\n",
              "      <th>4</th>\n",
              "      <td>0</td>\n",
              "      <td>0</td>\n",
              "      <td>1</td>\n",
              "      <td>0</td>\n",
              "      <td>0</td>\n",
              "      <td>0</td>\n",
              "      <td>0</td>\n",
              "      <td>0</td>\n",
              "      <td>0</td>\n",
              "      <td>1</td>\n",
              "      <td>...</td>\n",
              "      <td>0</td>\n",
              "      <td>1</td>\n",
              "      <td>1</td>\n",
              "      <td>0</td>\n",
              "      <td>0</td>\n",
              "      <td>0</td>\n",
              "      <td>0</td>\n",
              "      <td>0</td>\n",
              "      <td>0</td>\n",
              "      <td>1</td>\n",
              "    </tr>\n",
              "  </tbody>\n",
              "</table>\n",
              "<p>5 rows × 82 columns</p>\n",
              "</div>"
            ],
            "text/plain": [
              "   workclass_ Federal-gov  workclass_ Local-gov  workclass_ Private  \\\n",
              "0                       0                     0                   0   \n",
              "1                       0                     0                   1   \n",
              "2                       0                     0                   1   \n",
              "3                       0                     0                   1   \n",
              "4                       0                     0                   1   \n",
              "\n",
              "   workclass_ Self-emp-inc  workclass_ Self-emp-not-inc  workclass_ State-gov  \\\n",
              "0                        0                            1                     0   \n",
              "1                        0                            0                     0   \n",
              "2                        0                            0                     0   \n",
              "3                        0                            0                     0   \n",
              "4                        0                            0                     0   \n",
              "\n",
              "   workclass_ Without-pay  marital-status_ Divorced  \\\n",
              "0                       0                         0   \n",
              "1                       0                         1   \n",
              "2                       0                         0   \n",
              "3                       0                         0   \n",
              "4                       0                         0   \n",
              "\n",
              "   marital-status_ Married-AF-spouse  marital-status_ Married-civ-spouse  \\\n",
              "0                                  0                                   1   \n",
              "1                                  0                                   0   \n",
              "2                                  0                                   1   \n",
              "3                                  0                                   1   \n",
              "4                                  0                                   1   \n",
              "\n",
              "          ...          race_ Other  race_ White  sex_ Female  sex_ Male  \\\n",
              "0         ...                    0            1            0          1   \n",
              "1         ...                    0            1            0          1   \n",
              "2         ...                    0            0            0          1   \n",
              "3         ...                    0            0            1          0   \n",
              "4         ...                    0            1            1          0   \n",
              "\n",
              "   relationship_ Husband  relationship_ Not-in-family  \\\n",
              "0                      1                            0   \n",
              "1                      0                            1   \n",
              "2                      1                            0   \n",
              "3                      0                            0   \n",
              "4                      0                            0   \n",
              "\n",
              "   relationship_ Other-relative  relationship_ Own-child  \\\n",
              "0                             0                        0   \n",
              "1                             0                        0   \n",
              "2                             0                        0   \n",
              "3                             0                        0   \n",
              "4                             0                        0   \n",
              "\n",
              "   relationship_ Unmarried  relationship_ Wife  \n",
              "0                        0                   0  \n",
              "1                        0                   0  \n",
              "2                        0                   0  \n",
              "3                        0                   1  \n",
              "4                        0                   1  \n",
              "\n",
              "[5 rows x 82 columns]"
            ]
          },
          "metadata": {
            "tags": []
          },
          "execution_count": 198
        }
      ]
    },
    {
      "metadata": {
        "id": "ymJQ9bf1SIhZ",
        "colab_type": "code",
        "outputId": "0206ca12-8a1e-4e0c-a476-773ef60646da",
        "colab": {
          "base_uri": "https://localhost:8080/",
          "height": 34
        }
      },
      "cell_type": "code",
      "source": [
        "test_trainn.shape"
      ],
      "execution_count": 0,
      "outputs": [
        {
          "output_type": "execute_result",
          "data": {
            "text/plain": [
              "(45221, 82)"
            ]
          },
          "metadata": {
            "tags": []
          },
          "execution_count": 199
        }
      ]
    },
    {
      "metadata": {
        "id": "SmoUeIyjGcF8",
        "colab_type": "code",
        "outputId": "8fb901ba-f375-478f-fc26-44fe9c2e5887",
        "colab": {
          "base_uri": "https://localhost:8080/",
          "height": 287
        }
      },
      "cell_type": "code",
      "source": [
        "# Now lets concatinate all the normalized and the numerically converted features together to prepare to build the model\n",
        "\n",
        "data_test_train = data_normalized.join(test_trainn)\n",
        "data_test_train.head()"
      ],
      "execution_count": 0,
      "outputs": [
        {
          "output_type": "execute_result",
          "data": {
            "text/html": [
              "<div>\n",
              "<style scoped>\n",
              "    .dataframe tbody tr th:only-of-type {\n",
              "        vertical-align: middle;\n",
              "    }\n",
              "\n",
              "    .dataframe tbody tr th {\n",
              "        vertical-align: top;\n",
              "    }\n",
              "\n",
              "    .dataframe thead th {\n",
              "        text-align: right;\n",
              "    }\n",
              "</style>\n",
              "<table border=\"1\" class=\"dataframe\">\n",
              "  <thead>\n",
              "    <tr style=\"text-align: right;\">\n",
              "      <th></th>\n",
              "      <th>age</th>\n",
              "      <th>education-num</th>\n",
              "      <th>capital-gain</th>\n",
              "      <th>capital-loss</th>\n",
              "      <th>hours-per-week</th>\n",
              "      <th>workclass_ Federal-gov</th>\n",
              "      <th>workclass_ Local-gov</th>\n",
              "      <th>workclass_ Private</th>\n",
              "      <th>workclass_ Self-emp-inc</th>\n",
              "      <th>workclass_ Self-emp-not-inc</th>\n",
              "      <th>...</th>\n",
              "      <th>race_ Other</th>\n",
              "      <th>race_ White</th>\n",
              "      <th>sex_ Female</th>\n",
              "      <th>sex_ Male</th>\n",
              "      <th>relationship_ Husband</th>\n",
              "      <th>relationship_ Not-in-family</th>\n",
              "      <th>relationship_ Other-relative</th>\n",
              "      <th>relationship_ Own-child</th>\n",
              "      <th>relationship_ Unmarried</th>\n",
              "      <th>relationship_ Wife</th>\n",
              "    </tr>\n",
              "  </thead>\n",
              "  <tbody>\n",
              "    <tr>\n",
              "      <th>0</th>\n",
              "      <td>0.452055</td>\n",
              "      <td>0.800000</td>\n",
              "      <td>0.0</td>\n",
              "      <td>0.0</td>\n",
              "      <td>0.122449</td>\n",
              "      <td>0</td>\n",
              "      <td>0</td>\n",
              "      <td>0</td>\n",
              "      <td>0</td>\n",
              "      <td>1</td>\n",
              "      <td>...</td>\n",
              "      <td>0</td>\n",
              "      <td>1</td>\n",
              "      <td>0</td>\n",
              "      <td>1</td>\n",
              "      <td>1</td>\n",
              "      <td>0</td>\n",
              "      <td>0</td>\n",
              "      <td>0</td>\n",
              "      <td>0</td>\n",
              "      <td>0</td>\n",
              "    </tr>\n",
              "    <tr>\n",
              "      <th>1</th>\n",
              "      <td>0.287671</td>\n",
              "      <td>0.533333</td>\n",
              "      <td>0.0</td>\n",
              "      <td>0.0</td>\n",
              "      <td>0.397959</td>\n",
              "      <td>0</td>\n",
              "      <td>0</td>\n",
              "      <td>1</td>\n",
              "      <td>0</td>\n",
              "      <td>0</td>\n",
              "      <td>...</td>\n",
              "      <td>0</td>\n",
              "      <td>1</td>\n",
              "      <td>0</td>\n",
              "      <td>1</td>\n",
              "      <td>0</td>\n",
              "      <td>1</td>\n",
              "      <td>0</td>\n",
              "      <td>0</td>\n",
              "      <td>0</td>\n",
              "      <td>0</td>\n",
              "    </tr>\n",
              "    <tr>\n",
              "      <th>2</th>\n",
              "      <td>0.493151</td>\n",
              "      <td>0.400000</td>\n",
              "      <td>0.0</td>\n",
              "      <td>0.0</td>\n",
              "      <td>0.397959</td>\n",
              "      <td>0</td>\n",
              "      <td>0</td>\n",
              "      <td>1</td>\n",
              "      <td>0</td>\n",
              "      <td>0</td>\n",
              "      <td>...</td>\n",
              "      <td>0</td>\n",
              "      <td>0</td>\n",
              "      <td>0</td>\n",
              "      <td>1</td>\n",
              "      <td>1</td>\n",
              "      <td>0</td>\n",
              "      <td>0</td>\n",
              "      <td>0</td>\n",
              "      <td>0</td>\n",
              "      <td>0</td>\n",
              "    </tr>\n",
              "    <tr>\n",
              "      <th>3</th>\n",
              "      <td>0.150685</td>\n",
              "      <td>0.800000</td>\n",
              "      <td>0.0</td>\n",
              "      <td>0.0</td>\n",
              "      <td>0.397959</td>\n",
              "      <td>0</td>\n",
              "      <td>0</td>\n",
              "      <td>1</td>\n",
              "      <td>0</td>\n",
              "      <td>0</td>\n",
              "      <td>...</td>\n",
              "      <td>0</td>\n",
              "      <td>0</td>\n",
              "      <td>1</td>\n",
              "      <td>0</td>\n",
              "      <td>0</td>\n",
              "      <td>0</td>\n",
              "      <td>0</td>\n",
              "      <td>0</td>\n",
              "      <td>0</td>\n",
              "      <td>1</td>\n",
              "    </tr>\n",
              "    <tr>\n",
              "      <th>4</th>\n",
              "      <td>0.273973</td>\n",
              "      <td>0.866667</td>\n",
              "      <td>0.0</td>\n",
              "      <td>0.0</td>\n",
              "      <td>0.397959</td>\n",
              "      <td>0</td>\n",
              "      <td>0</td>\n",
              "      <td>1</td>\n",
              "      <td>0</td>\n",
              "      <td>0</td>\n",
              "      <td>...</td>\n",
              "      <td>0</td>\n",
              "      <td>1</td>\n",
              "      <td>1</td>\n",
              "      <td>0</td>\n",
              "      <td>0</td>\n",
              "      <td>0</td>\n",
              "      <td>0</td>\n",
              "      <td>0</td>\n",
              "      <td>0</td>\n",
              "      <td>1</td>\n",
              "    </tr>\n",
              "  </tbody>\n",
              "</table>\n",
              "<p>5 rows × 87 columns</p>\n",
              "</div>"
            ],
            "text/plain": [
              "        age  education-num  capital-gain  capital-loss  hours-per-week  \\\n",
              "0  0.452055       0.800000           0.0           0.0        0.122449   \n",
              "1  0.287671       0.533333           0.0           0.0        0.397959   \n",
              "2  0.493151       0.400000           0.0           0.0        0.397959   \n",
              "3  0.150685       0.800000           0.0           0.0        0.397959   \n",
              "4  0.273973       0.866667           0.0           0.0        0.397959   \n",
              "\n",
              "   workclass_ Federal-gov  workclass_ Local-gov  workclass_ Private  \\\n",
              "0                       0                     0                   0   \n",
              "1                       0                     0                   1   \n",
              "2                       0                     0                   1   \n",
              "3                       0                     0                   1   \n",
              "4                       0                     0                   1   \n",
              "\n",
              "   workclass_ Self-emp-inc  workclass_ Self-emp-not-inc         ...          \\\n",
              "0                        0                            1         ...           \n",
              "1                        0                            0         ...           \n",
              "2                        0                            0         ...           \n",
              "3                        0                            0         ...           \n",
              "4                        0                            0         ...           \n",
              "\n",
              "   race_ Other  race_ White  sex_ Female  sex_ Male  relationship_ Husband  \\\n",
              "0            0            1            0          1                      1   \n",
              "1            0            1            0          1                      0   \n",
              "2            0            0            0          1                      1   \n",
              "3            0            0            1          0                      0   \n",
              "4            0            1            1          0                      0   \n",
              "\n",
              "   relationship_ Not-in-family  relationship_ Other-relative  \\\n",
              "0                            0                             0   \n",
              "1                            1                             0   \n",
              "2                            0                             0   \n",
              "3                            0                             0   \n",
              "4                            0                             0   \n",
              "\n",
              "   relationship_ Own-child  relationship_ Unmarried  relationship_ Wife  \n",
              "0                        0                        0                   0  \n",
              "1                        0                        0                   0  \n",
              "2                        0                        0                   0  \n",
              "3                        0                        0                   1  \n",
              "4                        0                        0                   1  \n",
              "\n",
              "[5 rows x 87 columns]"
            ]
          },
          "metadata": {
            "tags": []
          },
          "execution_count": 200
        }
      ]
    },
    {
      "metadata": {
        "id": "DjAJUIcsMl0s",
        "colab_type": "code",
        "outputId": "b5a8968b-5352-4b3d-8061-e19a7ecee191",
        "colab": {
          "base_uri": "https://localhost:8080/",
          "height": 85
        }
      },
      "cell_type": "code",
      "source": [
        "!pip install sklearn"
      ],
      "execution_count": 0,
      "outputs": [
        {
          "output_type": "stream",
          "text": [
            "Requirement already satisfied: sklearn in /usr/local/lib/python3.6/dist-packages (0.0)\n",
            "Requirement already satisfied: scikit-learn in /usr/local/lib/python3.6/dist-packages (from sklearn) (0.20.3)\n",
            "Requirement already satisfied: numpy>=1.8.2 in /usr/local/lib/python3.6/dist-packages (from scikit-learn->sklearn) (1.14.6)\n",
            "Requirement already satisfied: scipy>=0.13.3 in /usr/local/lib/python3.6/dist-packages (from scikit-learn->sklearn) (1.1.0)\n"
          ],
          "name": "stdout"
        }
      ]
    },
    {
      "metadata": {
        "id": "jZUYNQu2oxbZ",
        "colab_type": "text"
      },
      "cell_type": "markdown",
      "source": [
        "## **4. In this step we will split the data into train and test datasets**"
      ]
    },
    {
      "metadata": {
        "id": "tpIuCMBuo6yM",
        "colab_type": "code",
        "colab": {}
      },
      "cell_type": "code",
      "source": [
        "# importing the the sklearn library and the slitter function\n",
        "\n",
        "from sklearn.model_selection import train_test_split\n",
        "\n"
      ],
      "execution_count": 0,
      "outputs": []
    },
    {
      "metadata": {
        "id": "q25aRH7jpWf8",
        "colab_type": "code",
        "colab": {}
      },
      "cell_type": "code",
      "source": [
        "X_train, X_test, y_train, y_test = train_test_split(data_test_train, income_feature_label, test_size = 0.2, random_state = 0)"
      ],
      "execution_count": 0,
      "outputs": []
    },
    {
      "metadata": {
        "id": "7u58t1gjvIG6",
        "colab_type": "code",
        "outputId": "1c9607df-e6e1-4c92-dd92-27fbaf601dde",
        "colab": {
          "base_uri": "https://localhost:8080/",
          "height": 287
        }
      },
      "cell_type": "code",
      "source": [
        "X_train.head()"
      ],
      "execution_count": 0,
      "outputs": [
        {
          "output_type": "execute_result",
          "data": {
            "text/html": [
              "<div>\n",
              "<style scoped>\n",
              "    .dataframe tbody tr th:only-of-type {\n",
              "        vertical-align: middle;\n",
              "    }\n",
              "\n",
              "    .dataframe tbody tr th {\n",
              "        vertical-align: top;\n",
              "    }\n",
              "\n",
              "    .dataframe thead th {\n",
              "        text-align: right;\n",
              "    }\n",
              "</style>\n",
              "<table border=\"1\" class=\"dataframe\">\n",
              "  <thead>\n",
              "    <tr style=\"text-align: right;\">\n",
              "      <th></th>\n",
              "      <th>age</th>\n",
              "      <th>education-num</th>\n",
              "      <th>capital-gain</th>\n",
              "      <th>capital-loss</th>\n",
              "      <th>hours-per-week</th>\n",
              "      <th>workclass_ Federal-gov</th>\n",
              "      <th>workclass_ Local-gov</th>\n",
              "      <th>workclass_ Private</th>\n",
              "      <th>workclass_ Self-emp-inc</th>\n",
              "      <th>workclass_ Self-emp-not-inc</th>\n",
              "      <th>...</th>\n",
              "      <th>race_ Other</th>\n",
              "      <th>race_ White</th>\n",
              "      <th>sex_ Female</th>\n",
              "      <th>sex_ Male</th>\n",
              "      <th>relationship_ Husband</th>\n",
              "      <th>relationship_ Not-in-family</th>\n",
              "      <th>relationship_ Other-relative</th>\n",
              "      <th>relationship_ Own-child</th>\n",
              "      <th>relationship_ Unmarried</th>\n",
              "      <th>relationship_ Wife</th>\n",
              "    </tr>\n",
              "  </thead>\n",
              "  <tbody>\n",
              "    <tr>\n",
              "      <th>13181</th>\n",
              "      <td>0.315068</td>\n",
              "      <td>0.600000</td>\n",
              "      <td>0.0</td>\n",
              "      <td>0.0</td>\n",
              "      <td>0.397959</td>\n",
              "      <td>0</td>\n",
              "      <td>0</td>\n",
              "      <td>1</td>\n",
              "      <td>0</td>\n",
              "      <td>0</td>\n",
              "      <td>...</td>\n",
              "      <td>0</td>\n",
              "      <td>1</td>\n",
              "      <td>0</td>\n",
              "      <td>1</td>\n",
              "      <td>1</td>\n",
              "      <td>0</td>\n",
              "      <td>0</td>\n",
              "      <td>0</td>\n",
              "      <td>0</td>\n",
              "      <td>0</td>\n",
              "    </tr>\n",
              "    <tr>\n",
              "      <th>10342</th>\n",
              "      <td>0.452055</td>\n",
              "      <td>0.533333</td>\n",
              "      <td>0.0</td>\n",
              "      <td>0.0</td>\n",
              "      <td>0.397959</td>\n",
              "      <td>0</td>\n",
              "      <td>0</td>\n",
              "      <td>1</td>\n",
              "      <td>0</td>\n",
              "      <td>0</td>\n",
              "      <td>...</td>\n",
              "      <td>0</td>\n",
              "      <td>0</td>\n",
              "      <td>1</td>\n",
              "      <td>0</td>\n",
              "      <td>0</td>\n",
              "      <td>0</td>\n",
              "      <td>1</td>\n",
              "      <td>0</td>\n",
              "      <td>0</td>\n",
              "      <td>0</td>\n",
              "    </tr>\n",
              "    <tr>\n",
              "      <th>20881</th>\n",
              "      <td>0.479452</td>\n",
              "      <td>0.400000</td>\n",
              "      <td>0.0</td>\n",
              "      <td>0.0</td>\n",
              "      <td>0.397959</td>\n",
              "      <td>0</td>\n",
              "      <td>0</td>\n",
              "      <td>1</td>\n",
              "      <td>0</td>\n",
              "      <td>0</td>\n",
              "      <td>...</td>\n",
              "      <td>0</td>\n",
              "      <td>1</td>\n",
              "      <td>0</td>\n",
              "      <td>1</td>\n",
              "      <td>0</td>\n",
              "      <td>1</td>\n",
              "      <td>0</td>\n",
              "      <td>0</td>\n",
              "      <td>0</td>\n",
              "      <td>0</td>\n",
              "    </tr>\n",
              "    <tr>\n",
              "      <th>24972</th>\n",
              "      <td>0.219178</td>\n",
              "      <td>0.533333</td>\n",
              "      <td>0.0</td>\n",
              "      <td>0.0</td>\n",
              "      <td>0.397959</td>\n",
              "      <td>0</td>\n",
              "      <td>1</td>\n",
              "      <td>0</td>\n",
              "      <td>0</td>\n",
              "      <td>0</td>\n",
              "      <td>...</td>\n",
              "      <td>0</td>\n",
              "      <td>1</td>\n",
              "      <td>0</td>\n",
              "      <td>1</td>\n",
              "      <td>0</td>\n",
              "      <td>0</td>\n",
              "      <td>0</td>\n",
              "      <td>0</td>\n",
              "      <td>1</td>\n",
              "      <td>0</td>\n",
              "    </tr>\n",
              "    <tr>\n",
              "      <th>43866</th>\n",
              "      <td>0.246575</td>\n",
              "      <td>0.600000</td>\n",
              "      <td>0.0</td>\n",
              "      <td>0.0</td>\n",
              "      <td>0.500000</td>\n",
              "      <td>0</td>\n",
              "      <td>0</td>\n",
              "      <td>1</td>\n",
              "      <td>0</td>\n",
              "      <td>0</td>\n",
              "      <td>...</td>\n",
              "      <td>0</td>\n",
              "      <td>1</td>\n",
              "      <td>0</td>\n",
              "      <td>1</td>\n",
              "      <td>1</td>\n",
              "      <td>0</td>\n",
              "      <td>0</td>\n",
              "      <td>0</td>\n",
              "      <td>0</td>\n",
              "      <td>0</td>\n",
              "    </tr>\n",
              "  </tbody>\n",
              "</table>\n",
              "<p>5 rows × 87 columns</p>\n",
              "</div>"
            ],
            "text/plain": [
              "            age  education-num  capital-gain  capital-loss  hours-per-week  \\\n",
              "13181  0.315068       0.600000           0.0           0.0        0.397959   \n",
              "10342  0.452055       0.533333           0.0           0.0        0.397959   \n",
              "20881  0.479452       0.400000           0.0           0.0        0.397959   \n",
              "24972  0.219178       0.533333           0.0           0.0        0.397959   \n",
              "43866  0.246575       0.600000           0.0           0.0        0.500000   \n",
              "\n",
              "       workclass_ Federal-gov  workclass_ Local-gov  workclass_ Private  \\\n",
              "13181                       0                     0                   1   \n",
              "10342                       0                     0                   1   \n",
              "20881                       0                     0                   1   \n",
              "24972                       0                     1                   0   \n",
              "43866                       0                     0                   1   \n",
              "\n",
              "       workclass_ Self-emp-inc  workclass_ Self-emp-not-inc  \\\n",
              "13181                        0                            0   \n",
              "10342                        0                            0   \n",
              "20881                        0                            0   \n",
              "24972                        0                            0   \n",
              "43866                        0                            0   \n",
              "\n",
              "              ...          race_ Other  race_ White  sex_ Female  sex_ Male  \\\n",
              "13181         ...                    0            1            0          1   \n",
              "10342         ...                    0            0            1          0   \n",
              "20881         ...                    0            1            0          1   \n",
              "24972         ...                    0            1            0          1   \n",
              "43866         ...                    0            1            0          1   \n",
              "\n",
              "       relationship_ Husband  relationship_ Not-in-family  \\\n",
              "13181                      1                            0   \n",
              "10342                      0                            0   \n",
              "20881                      0                            1   \n",
              "24972                      0                            0   \n",
              "43866                      1                            0   \n",
              "\n",
              "       relationship_ Other-relative  relationship_ Own-child  \\\n",
              "13181                             0                        0   \n",
              "10342                             1                        0   \n",
              "20881                             0                        0   \n",
              "24972                             0                        0   \n",
              "43866                             0                        0   \n",
              "\n",
              "       relationship_ Unmarried  relationship_ Wife  \n",
              "13181                        0                   0  \n",
              "10342                        0                   0  \n",
              "20881                        0                   0  \n",
              "24972                        1                   0  \n",
              "43866                        0                   0  \n",
              "\n",
              "[5 rows x 87 columns]"
            ]
          },
          "metadata": {
            "tags": []
          },
          "execution_count": 204
        }
      ]
    },
    {
      "metadata": {
        "id": "zxjwB89BvKDa",
        "colab_type": "code",
        "outputId": "c3ed9148-4cb8-4895-dbe5-6c5e1b5383ae",
        "colab": {
          "base_uri": "https://localhost:8080/",
          "height": 287
        }
      },
      "cell_type": "code",
      "source": [
        "X_test.head()"
      ],
      "execution_count": 0,
      "outputs": [
        {
          "output_type": "execute_result",
          "data": {
            "text/html": [
              "<div>\n",
              "<style scoped>\n",
              "    .dataframe tbody tr th:only-of-type {\n",
              "        vertical-align: middle;\n",
              "    }\n",
              "\n",
              "    .dataframe tbody tr th {\n",
              "        vertical-align: top;\n",
              "    }\n",
              "\n",
              "    .dataframe thead th {\n",
              "        text-align: right;\n",
              "    }\n",
              "</style>\n",
              "<table border=\"1\" class=\"dataframe\">\n",
              "  <thead>\n",
              "    <tr style=\"text-align: right;\">\n",
              "      <th></th>\n",
              "      <th>age</th>\n",
              "      <th>education-num</th>\n",
              "      <th>capital-gain</th>\n",
              "      <th>capital-loss</th>\n",
              "      <th>hours-per-week</th>\n",
              "      <th>workclass_ Federal-gov</th>\n",
              "      <th>workclass_ Local-gov</th>\n",
              "      <th>workclass_ Private</th>\n",
              "      <th>workclass_ Self-emp-inc</th>\n",
              "      <th>workclass_ Self-emp-not-inc</th>\n",
              "      <th>...</th>\n",
              "      <th>race_ Other</th>\n",
              "      <th>race_ White</th>\n",
              "      <th>sex_ Female</th>\n",
              "      <th>sex_ Male</th>\n",
              "      <th>relationship_ Husband</th>\n",
              "      <th>relationship_ Not-in-family</th>\n",
              "      <th>relationship_ Other-relative</th>\n",
              "      <th>relationship_ Own-child</th>\n",
              "      <th>relationship_ Unmarried</th>\n",
              "      <th>relationship_ Wife</th>\n",
              "    </tr>\n",
              "  </thead>\n",
              "  <tbody>\n",
              "    <tr>\n",
              "      <th>41386</th>\n",
              "      <td>0.082192</td>\n",
              "      <td>0.733333</td>\n",
              "      <td>0.0</td>\n",
              "      <td>0.0</td>\n",
              "      <td>0.448980</td>\n",
              "      <td>0</td>\n",
              "      <td>0</td>\n",
              "      <td>1</td>\n",
              "      <td>0</td>\n",
              "      <td>0</td>\n",
              "      <td>...</td>\n",
              "      <td>0</td>\n",
              "      <td>1</td>\n",
              "      <td>1</td>\n",
              "      <td>0</td>\n",
              "      <td>0</td>\n",
              "      <td>0</td>\n",
              "      <td>0</td>\n",
              "      <td>0</td>\n",
              "      <td>0</td>\n",
              "      <td>1</td>\n",
              "    </tr>\n",
              "    <tr>\n",
              "      <th>35278</th>\n",
              "      <td>0.315068</td>\n",
              "      <td>0.600000</td>\n",
              "      <td>0.0</td>\n",
              "      <td>0.0</td>\n",
              "      <td>0.316327</td>\n",
              "      <td>0</td>\n",
              "      <td>0</td>\n",
              "      <td>1</td>\n",
              "      <td>0</td>\n",
              "      <td>0</td>\n",
              "      <td>...</td>\n",
              "      <td>0</td>\n",
              "      <td>1</td>\n",
              "      <td>1</td>\n",
              "      <td>0</td>\n",
              "      <td>0</td>\n",
              "      <td>0</td>\n",
              "      <td>0</td>\n",
              "      <td>1</td>\n",
              "      <td>0</td>\n",
              "      <td>0</td>\n",
              "    </tr>\n",
              "    <tr>\n",
              "      <th>26950</th>\n",
              "      <td>0.383562</td>\n",
              "      <td>0.800000</td>\n",
              "      <td>0.0</td>\n",
              "      <td>0.0</td>\n",
              "      <td>0.448980</td>\n",
              "      <td>0</td>\n",
              "      <td>0</td>\n",
              "      <td>1</td>\n",
              "      <td>0</td>\n",
              "      <td>0</td>\n",
              "      <td>...</td>\n",
              "      <td>0</td>\n",
              "      <td>1</td>\n",
              "      <td>0</td>\n",
              "      <td>1</td>\n",
              "      <td>0</td>\n",
              "      <td>1</td>\n",
              "      <td>0</td>\n",
              "      <td>0</td>\n",
              "      <td>0</td>\n",
              "      <td>0</td>\n",
              "    </tr>\n",
              "    <tr>\n",
              "      <th>29133</th>\n",
              "      <td>0.082192</td>\n",
              "      <td>0.600000</td>\n",
              "      <td>0.0</td>\n",
              "      <td>0.0</td>\n",
              "      <td>0.193878</td>\n",
              "      <td>0</td>\n",
              "      <td>0</td>\n",
              "      <td>1</td>\n",
              "      <td>0</td>\n",
              "      <td>0</td>\n",
              "      <td>...</td>\n",
              "      <td>0</td>\n",
              "      <td>1</td>\n",
              "      <td>0</td>\n",
              "      <td>1</td>\n",
              "      <td>0</td>\n",
              "      <td>0</td>\n",
              "      <td>0</td>\n",
              "      <td>1</td>\n",
              "      <td>0</td>\n",
              "      <td>0</td>\n",
              "    </tr>\n",
              "    <tr>\n",
              "      <th>41793</th>\n",
              "      <td>0.191781</td>\n",
              "      <td>0.533333</td>\n",
              "      <td>0.0</td>\n",
              "      <td>0.0</td>\n",
              "      <td>0.397959</td>\n",
              "      <td>0</td>\n",
              "      <td>0</td>\n",
              "      <td>1</td>\n",
              "      <td>0</td>\n",
              "      <td>0</td>\n",
              "      <td>...</td>\n",
              "      <td>0</td>\n",
              "      <td>1</td>\n",
              "      <td>0</td>\n",
              "      <td>1</td>\n",
              "      <td>1</td>\n",
              "      <td>0</td>\n",
              "      <td>0</td>\n",
              "      <td>0</td>\n",
              "      <td>0</td>\n",
              "      <td>0</td>\n",
              "    </tr>\n",
              "  </tbody>\n",
              "</table>\n",
              "<p>5 rows × 87 columns</p>\n",
              "</div>"
            ],
            "text/plain": [
              "            age  education-num  capital-gain  capital-loss  hours-per-week  \\\n",
              "41386  0.082192       0.733333           0.0           0.0        0.448980   \n",
              "35278  0.315068       0.600000           0.0           0.0        0.316327   \n",
              "26950  0.383562       0.800000           0.0           0.0        0.448980   \n",
              "29133  0.082192       0.600000           0.0           0.0        0.193878   \n",
              "41793  0.191781       0.533333           0.0           0.0        0.397959   \n",
              "\n",
              "       workclass_ Federal-gov  workclass_ Local-gov  workclass_ Private  \\\n",
              "41386                       0                     0                   1   \n",
              "35278                       0                     0                   1   \n",
              "26950                       0                     0                   1   \n",
              "29133                       0                     0                   1   \n",
              "41793                       0                     0                   1   \n",
              "\n",
              "       workclass_ Self-emp-inc  workclass_ Self-emp-not-inc  \\\n",
              "41386                        0                            0   \n",
              "35278                        0                            0   \n",
              "26950                        0                            0   \n",
              "29133                        0                            0   \n",
              "41793                        0                            0   \n",
              "\n",
              "              ...          race_ Other  race_ White  sex_ Female  sex_ Male  \\\n",
              "41386         ...                    0            1            1          0   \n",
              "35278         ...                    0            1            1          0   \n",
              "26950         ...                    0            1            0          1   \n",
              "29133         ...                    0            1            0          1   \n",
              "41793         ...                    0            1            0          1   \n",
              "\n",
              "       relationship_ Husband  relationship_ Not-in-family  \\\n",
              "41386                      0                            0   \n",
              "35278                      0                            0   \n",
              "26950                      0                            1   \n",
              "29133                      0                            0   \n",
              "41793                      1                            0   \n",
              "\n",
              "       relationship_ Other-relative  relationship_ Own-child  \\\n",
              "41386                             0                        0   \n",
              "35278                             0                        1   \n",
              "26950                             0                        0   \n",
              "29133                             0                        1   \n",
              "41793                             0                        0   \n",
              "\n",
              "       relationship_ Unmarried  relationship_ Wife  \n",
              "41386                        0                   1  \n",
              "35278                        0                   0  \n",
              "26950                        0                   0  \n",
              "29133                        0                   0  \n",
              "41793                        0                   0  \n",
              "\n",
              "[5 rows x 87 columns]"
            ]
          },
          "metadata": {
            "tags": []
          },
          "execution_count": 205
        }
      ]
    },
    {
      "metadata": {
        "id": "1CnGWHJsvZFL",
        "colab_type": "code",
        "outputId": "f7c072ea-cc7a-4e34-fef1-c5d359176c29",
        "colab": {
          "base_uri": "https://localhost:8080/",
          "height": 34
        }
      },
      "cell_type": "code",
      "source": [
        "y_train.shape"
      ],
      "execution_count": 0,
      "outputs": [
        {
          "output_type": "execute_result",
          "data": {
            "text/plain": [
              "(36176,)"
            ]
          },
          "metadata": {
            "tags": []
          },
          "execution_count": 206
        }
      ]
    },
    {
      "metadata": {
        "id": "O98dz7EN6fkz",
        "colab_type": "code",
        "outputId": "d9e7162c-03da-4c1a-973a-9d44145a3d7f",
        "colab": {
          "base_uri": "https://localhost:8080/",
          "height": 34
        }
      },
      "cell_type": "code",
      "source": [
        "y_train"
      ],
      "execution_count": 0,
      "outputs": [
        {
          "output_type": "execute_result",
          "data": {
            "text/plain": [
              "array([0, 0, 0, ..., 1, 1, 1])"
            ]
          },
          "metadata": {
            "tags": []
          },
          "execution_count": 207
        }
      ]
    },
    {
      "metadata": {
        "id": "_AUcpFZa6kvS",
        "colab_type": "code",
        "outputId": "d4553378-0f0d-45f3-c0ac-3d1ee3d1cd39",
        "colab": {
          "base_uri": "https://localhost:8080/",
          "height": 204
        }
      },
      "cell_type": "code",
      "source": [
        "y_income = pd.DataFrame({\"Income\": y_train})\n",
        "y_income.head()"
      ],
      "execution_count": 0,
      "outputs": [
        {
          "output_type": "execute_result",
          "data": {
            "text/html": [
              "<div>\n",
              "<style scoped>\n",
              "    .dataframe tbody tr th:only-of-type {\n",
              "        vertical-align: middle;\n",
              "    }\n",
              "\n",
              "    .dataframe tbody tr th {\n",
              "        vertical-align: top;\n",
              "    }\n",
              "\n",
              "    .dataframe thead th {\n",
              "        text-align: right;\n",
              "    }\n",
              "</style>\n",
              "<table border=\"1\" class=\"dataframe\">\n",
              "  <thead>\n",
              "    <tr style=\"text-align: right;\">\n",
              "      <th></th>\n",
              "      <th>Income</th>\n",
              "    </tr>\n",
              "  </thead>\n",
              "  <tbody>\n",
              "    <tr>\n",
              "      <th>0</th>\n",
              "      <td>0</td>\n",
              "    </tr>\n",
              "    <tr>\n",
              "      <th>1</th>\n",
              "      <td>0</td>\n",
              "    </tr>\n",
              "    <tr>\n",
              "      <th>2</th>\n",
              "      <td>0</td>\n",
              "    </tr>\n",
              "    <tr>\n",
              "      <th>3</th>\n",
              "      <td>0</td>\n",
              "    </tr>\n",
              "    <tr>\n",
              "      <th>4</th>\n",
              "      <td>0</td>\n",
              "    </tr>\n",
              "  </tbody>\n",
              "</table>\n",
              "</div>"
            ],
            "text/plain": [
              "   Income\n",
              "0       0\n",
              "1       0\n",
              "2       0\n",
              "3       0\n",
              "4       0"
            ]
          },
          "metadata": {
            "tags": []
          },
          "execution_count": 208
        }
      ]
    },
    {
      "metadata": {
        "id": "JVvOLBnW_L-4",
        "colab_type": "code",
        "outputId": "c3f83dcf-e6d7-46b5-b8be-287447082d82",
        "colab": {
          "base_uri": "https://localhost:8080/",
          "height": 142
        }
      },
      "cell_type": "code",
      "source": [
        "missing_values(y_income, \"Income\")"
      ],
      "execution_count": 0,
      "outputs": [
        {
          "output_type": "execute_result",
          "data": {
            "text/html": [
              "<div>\n",
              "<style scoped>\n",
              "    .dataframe tbody tr th:only-of-type {\n",
              "        vertical-align: middle;\n",
              "    }\n",
              "\n",
              "    .dataframe tbody tr th {\n",
              "        vertical-align: top;\n",
              "    }\n",
              "\n",
              "    .dataframe thead th {\n",
              "        text-align: right;\n",
              "    }\n",
              "</style>\n",
              "<table border=\"1\" class=\"dataframe\">\n",
              "  <thead>\n",
              "    <tr style=\"text-align: right;\">\n",
              "      <th></th>\n",
              "      <th>Income</th>\n",
              "    </tr>\n",
              "    <tr>\n",
              "      <th>Income</th>\n",
              "      <th></th>\n",
              "    </tr>\n",
              "  </thead>\n",
              "  <tbody>\n",
              "    <tr>\n",
              "      <th>0</th>\n",
              "      <td>27167</td>\n",
              "    </tr>\n",
              "    <tr>\n",
              "      <th>1</th>\n",
              "      <td>9009</td>\n",
              "    </tr>\n",
              "  </tbody>\n",
              "</table>\n",
              "</div>"
            ],
            "text/plain": [
              "        Income\n",
              "Income        \n",
              "0        27167\n",
              "1         9009"
            ]
          },
          "metadata": {
            "tags": []
          },
          "execution_count": 209
        }
      ]
    },
    {
      "metadata": {
        "id": "BlTkQ_HD8dbR",
        "colab_type": "code",
        "outputId": "13b7aff0-adb1-404e-a99d-c3c73ea6edca",
        "colab": {
          "base_uri": "https://localhost:8080/",
          "height": 34
        }
      },
      "cell_type": "code",
      "source": [
        "y_train.shape"
      ],
      "execution_count": 0,
      "outputs": [
        {
          "output_type": "execute_result",
          "data": {
            "text/plain": [
              "(36176,)"
            ]
          },
          "metadata": {
            "tags": []
          },
          "execution_count": 210
        }
      ]
    },
    {
      "metadata": {
        "id": "PdtUBZ4ROcV5",
        "colab_type": "code",
        "outputId": "7670acc6-ffd1-46c8-dbe2-d1bf33afc701",
        "colab": {
          "base_uri": "https://localhost:8080/",
          "height": 34
        }
      },
      "cell_type": "code",
      "source": [
        "X_train.shape"
      ],
      "execution_count": 0,
      "outputs": [
        {
          "output_type": "execute_result",
          "data": {
            "text/plain": [
              "(36176, 87)"
            ]
          },
          "metadata": {
            "tags": []
          },
          "execution_count": 211
        }
      ]
    },
    {
      "metadata": {
        "id": "2fQhCcbRvqPt",
        "colab_type": "text"
      },
      "cell_type": "markdown",
      "source": [
        "1. According to our result we have 36176 train sets\n",
        "2. And we have 9045 test sets"
      ]
    },
    {
      "metadata": {
        "id": "csd_G8xOvphm",
        "colab_type": "code",
        "outputId": "3046d7d2-563f-4fd9-8b00-58fca5442453",
        "colab": {
          "base_uri": "https://localhost:8080/",
          "height": 34
        }
      },
      "cell_type": "code",
      "source": [
        "y_test"
      ],
      "execution_count": 0,
      "outputs": [
        {
          "output_type": "execute_result",
          "data": {
            "text/plain": [
              "array([0, 0, 0, ..., 1, 1, 0])"
            ]
          },
          "metadata": {
            "tags": []
          },
          "execution_count": 212
        }
      ]
    },
    {
      "metadata": {
        "id": "TOdSKU0fFfQ1",
        "colab_type": "code",
        "outputId": "e33ee40a-bb19-4471-fd08-fe97f9b5a265",
        "colab": {
          "base_uri": "https://localhost:8080/",
          "height": 204
        }
      },
      "cell_type": "code",
      "source": [
        "pd.DataFrame({\"Income\": y_test}).head()"
      ],
      "execution_count": 0,
      "outputs": [
        {
          "output_type": "execute_result",
          "data": {
            "text/html": [
              "<div>\n",
              "<style scoped>\n",
              "    .dataframe tbody tr th:only-of-type {\n",
              "        vertical-align: middle;\n",
              "    }\n",
              "\n",
              "    .dataframe tbody tr th {\n",
              "        vertical-align: top;\n",
              "    }\n",
              "\n",
              "    .dataframe thead th {\n",
              "        text-align: right;\n",
              "    }\n",
              "</style>\n",
              "<table border=\"1\" class=\"dataframe\">\n",
              "  <thead>\n",
              "    <tr style=\"text-align: right;\">\n",
              "      <th></th>\n",
              "      <th>Income</th>\n",
              "    </tr>\n",
              "  </thead>\n",
              "  <tbody>\n",
              "    <tr>\n",
              "      <th>0</th>\n",
              "      <td>0</td>\n",
              "    </tr>\n",
              "    <tr>\n",
              "      <th>1</th>\n",
              "      <td>0</td>\n",
              "    </tr>\n",
              "    <tr>\n",
              "      <th>2</th>\n",
              "      <td>0</td>\n",
              "    </tr>\n",
              "    <tr>\n",
              "      <th>3</th>\n",
              "      <td>0</td>\n",
              "    </tr>\n",
              "    <tr>\n",
              "      <th>4</th>\n",
              "      <td>0</td>\n",
              "    </tr>\n",
              "  </tbody>\n",
              "</table>\n",
              "</div>"
            ],
            "text/plain": [
              "   Income\n",
              "0       0\n",
              "1       0\n",
              "2       0\n",
              "3       0\n",
              "4       0"
            ]
          },
          "metadata": {
            "tags": []
          },
          "execution_count": 213
        }
      ]
    },
    {
      "metadata": {
        "id": "ee4V4HxECwZ-",
        "colab_type": "text"
      },
      "cell_type": "markdown",
      "source": [
        "# 6. Lets create the first model using SVR"
      ]
    },
    {
      "metadata": {
        "id": "d4C3253AC3tD",
        "colab_type": "code",
        "outputId": "cd88c939-a46d-4684-d52a-99d187765f48",
        "colab": {
          "base_uri": "https://localhost:8080/",
          "height": 85
        }
      },
      "cell_type": "code",
      "source": [
        "from sklearn.svm import SVC\n",
        "classifier = SVC(kernel = \"linear\", random_state = 0)\n",
        "classifier.fit(X_train, y_train)"
      ],
      "execution_count": 0,
      "outputs": [
        {
          "output_type": "execute_result",
          "data": {
            "text/plain": [
              "SVC(C=1.0, cache_size=200, class_weight=None, coef0=0.0,\n",
              "  decision_function_shape='ovr', degree=3, gamma='auto_deprecated',\n",
              "  kernel='linear', max_iter=-1, probability=False, random_state=0,\n",
              "  shrinking=True, tol=0.001, verbose=False)"
            ]
          },
          "metadata": {
            "tags": []
          },
          "execution_count": 214
        }
      ]
    },
    {
      "metadata": {
        "id": "c_lkhWJEIEcB",
        "colab_type": "code",
        "outputId": "f9796cad-42c2-4ab4-9a9d-c4951294395b",
        "colab": {
          "base_uri": "https://localhost:8080/",
          "height": 34
        }
      },
      "cell_type": "code",
      "source": [
        "y_pred = classifier.predict(X_test)\n",
        "y_pred"
      ],
      "execution_count": 0,
      "outputs": [
        {
          "output_type": "execute_result",
          "data": {
            "text/plain": [
              "array([0, 0, 0, ..., 0, 1, 0])"
            ]
          },
          "metadata": {
            "tags": []
          },
          "execution_count": 215
        }
      ]
    },
    {
      "metadata": {
        "id": "0hgXKo8YIxiR",
        "colab_type": "code",
        "outputId": "dbb8848d-a711-4467-a038-01aae437d5ad",
        "colab": {
          "base_uri": "https://localhost:8080/",
          "height": 204
        }
      },
      "cell_type": "code",
      "source": [
        "y_pred_t = pd.DataFrame({'salary':y_pred})\n",
        "y_pred_t.head()"
      ],
      "execution_count": 0,
      "outputs": [
        {
          "output_type": "execute_result",
          "data": {
            "text/html": [
              "<div>\n",
              "<style scoped>\n",
              "    .dataframe tbody tr th:only-of-type {\n",
              "        vertical-align: middle;\n",
              "    }\n",
              "\n",
              "    .dataframe tbody tr th {\n",
              "        vertical-align: top;\n",
              "    }\n",
              "\n",
              "    .dataframe thead th {\n",
              "        text-align: right;\n",
              "    }\n",
              "</style>\n",
              "<table border=\"1\" class=\"dataframe\">\n",
              "  <thead>\n",
              "    <tr style=\"text-align: right;\">\n",
              "      <th></th>\n",
              "      <th>salary</th>\n",
              "    </tr>\n",
              "  </thead>\n",
              "  <tbody>\n",
              "    <tr>\n",
              "      <th>0</th>\n",
              "      <td>0</td>\n",
              "    </tr>\n",
              "    <tr>\n",
              "      <th>1</th>\n",
              "      <td>0</td>\n",
              "    </tr>\n",
              "    <tr>\n",
              "      <th>2</th>\n",
              "      <td>0</td>\n",
              "    </tr>\n",
              "    <tr>\n",
              "      <th>3</th>\n",
              "      <td>0</td>\n",
              "    </tr>\n",
              "    <tr>\n",
              "      <th>4</th>\n",
              "      <td>0</td>\n",
              "    </tr>\n",
              "  </tbody>\n",
              "</table>\n",
              "</div>"
            ],
            "text/plain": [
              "   salary\n",
              "0       0\n",
              "1       0\n",
              "2       0\n",
              "3       0\n",
              "4       0"
            ]
          },
          "metadata": {
            "tags": []
          },
          "execution_count": 216
        }
      ]
    },
    {
      "metadata": {
        "id": "xqPXVEewJDzx",
        "colab_type": "code",
        "outputId": "ad981136-14fa-4b58-9de0-28b766b46148",
        "colab": {
          "base_uri": "https://localhost:8080/",
          "height": 51
        }
      },
      "cell_type": "code",
      "source": [
        "#confusion matrix\n",
        "\n",
        "from sklearn.metrics import confusion_matrix\n",
        "cm = confusion_matrix(y_test, y_pred)\n",
        "cm"
      ],
      "execution_count": 0,
      "outputs": [
        {
          "output_type": "execute_result",
          "data": {
            "text/plain": [
              "array([[6377,  469],\n",
              "       [ 858, 1341]])"
            ]
          },
          "metadata": {
            "tags": []
          },
          "execution_count": 217
        }
      ]
    },
    {
      "metadata": {
        "id": "JpfbwZzqJ2sR",
        "colab_type": "code",
        "outputId": "babbf3f1-4079-48ae-8465-2adceeac703f",
        "colab": {
          "base_uri": "https://localhost:8080/",
          "height": 34
        }
      },
      "cell_type": "code",
      "source": [
        "# The percentage of SVC result \n",
        "(7707/9045)*100 "
      ],
      "execution_count": 0,
      "outputs": [
        {
          "output_type": "execute_result",
          "data": {
            "text/plain": [
              "85.2072968490879"
            ]
          },
          "metadata": {
            "tags": []
          },
          "execution_count": 218
        }
      ]
    },
    {
      "metadata": {
        "id": "Vl-GcIOKLQ-R",
        "colab_type": "code",
        "outputId": "0b431846-ec85-4b05-c2a3-402f58e6fe49",
        "colab": {
          "base_uri": "https://localhost:8080/",
          "height": 287
        }
      },
      "cell_type": "code",
      "source": [
        "X_train.astype(float).head()"
      ],
      "execution_count": 0,
      "outputs": [
        {
          "output_type": "execute_result",
          "data": {
            "text/html": [
              "<div>\n",
              "<style scoped>\n",
              "    .dataframe tbody tr th:only-of-type {\n",
              "        vertical-align: middle;\n",
              "    }\n",
              "\n",
              "    .dataframe tbody tr th {\n",
              "        vertical-align: top;\n",
              "    }\n",
              "\n",
              "    .dataframe thead th {\n",
              "        text-align: right;\n",
              "    }\n",
              "</style>\n",
              "<table border=\"1\" class=\"dataframe\">\n",
              "  <thead>\n",
              "    <tr style=\"text-align: right;\">\n",
              "      <th></th>\n",
              "      <th>age</th>\n",
              "      <th>education-num</th>\n",
              "      <th>capital-gain</th>\n",
              "      <th>capital-loss</th>\n",
              "      <th>hours-per-week</th>\n",
              "      <th>workclass_ Federal-gov</th>\n",
              "      <th>workclass_ Local-gov</th>\n",
              "      <th>workclass_ Private</th>\n",
              "      <th>workclass_ Self-emp-inc</th>\n",
              "      <th>workclass_ Self-emp-not-inc</th>\n",
              "      <th>...</th>\n",
              "      <th>race_ Other</th>\n",
              "      <th>race_ White</th>\n",
              "      <th>sex_ Female</th>\n",
              "      <th>sex_ Male</th>\n",
              "      <th>relationship_ Husband</th>\n",
              "      <th>relationship_ Not-in-family</th>\n",
              "      <th>relationship_ Other-relative</th>\n",
              "      <th>relationship_ Own-child</th>\n",
              "      <th>relationship_ Unmarried</th>\n",
              "      <th>relationship_ Wife</th>\n",
              "    </tr>\n",
              "  </thead>\n",
              "  <tbody>\n",
              "    <tr>\n",
              "      <th>13181</th>\n",
              "      <td>0.315068</td>\n",
              "      <td>0.600000</td>\n",
              "      <td>0.0</td>\n",
              "      <td>0.0</td>\n",
              "      <td>0.397959</td>\n",
              "      <td>0.0</td>\n",
              "      <td>0.0</td>\n",
              "      <td>1.0</td>\n",
              "      <td>0.0</td>\n",
              "      <td>0.0</td>\n",
              "      <td>...</td>\n",
              "      <td>0.0</td>\n",
              "      <td>1.0</td>\n",
              "      <td>0.0</td>\n",
              "      <td>1.0</td>\n",
              "      <td>1.0</td>\n",
              "      <td>0.0</td>\n",
              "      <td>0.0</td>\n",
              "      <td>0.0</td>\n",
              "      <td>0.0</td>\n",
              "      <td>0.0</td>\n",
              "    </tr>\n",
              "    <tr>\n",
              "      <th>10342</th>\n",
              "      <td>0.452055</td>\n",
              "      <td>0.533333</td>\n",
              "      <td>0.0</td>\n",
              "      <td>0.0</td>\n",
              "      <td>0.397959</td>\n",
              "      <td>0.0</td>\n",
              "      <td>0.0</td>\n",
              "      <td>1.0</td>\n",
              "      <td>0.0</td>\n",
              "      <td>0.0</td>\n",
              "      <td>...</td>\n",
              "      <td>0.0</td>\n",
              "      <td>0.0</td>\n",
              "      <td>1.0</td>\n",
              "      <td>0.0</td>\n",
              "      <td>0.0</td>\n",
              "      <td>0.0</td>\n",
              "      <td>1.0</td>\n",
              "      <td>0.0</td>\n",
              "      <td>0.0</td>\n",
              "      <td>0.0</td>\n",
              "    </tr>\n",
              "    <tr>\n",
              "      <th>20881</th>\n",
              "      <td>0.479452</td>\n",
              "      <td>0.400000</td>\n",
              "      <td>0.0</td>\n",
              "      <td>0.0</td>\n",
              "      <td>0.397959</td>\n",
              "      <td>0.0</td>\n",
              "      <td>0.0</td>\n",
              "      <td>1.0</td>\n",
              "      <td>0.0</td>\n",
              "      <td>0.0</td>\n",
              "      <td>...</td>\n",
              "      <td>0.0</td>\n",
              "      <td>1.0</td>\n",
              "      <td>0.0</td>\n",
              "      <td>1.0</td>\n",
              "      <td>0.0</td>\n",
              "      <td>1.0</td>\n",
              "      <td>0.0</td>\n",
              "      <td>0.0</td>\n",
              "      <td>0.0</td>\n",
              "      <td>0.0</td>\n",
              "    </tr>\n",
              "    <tr>\n",
              "      <th>24972</th>\n",
              "      <td>0.219178</td>\n",
              "      <td>0.533333</td>\n",
              "      <td>0.0</td>\n",
              "      <td>0.0</td>\n",
              "      <td>0.397959</td>\n",
              "      <td>0.0</td>\n",
              "      <td>1.0</td>\n",
              "      <td>0.0</td>\n",
              "      <td>0.0</td>\n",
              "      <td>0.0</td>\n",
              "      <td>...</td>\n",
              "      <td>0.0</td>\n",
              "      <td>1.0</td>\n",
              "      <td>0.0</td>\n",
              "      <td>1.0</td>\n",
              "      <td>0.0</td>\n",
              "      <td>0.0</td>\n",
              "      <td>0.0</td>\n",
              "      <td>0.0</td>\n",
              "      <td>1.0</td>\n",
              "      <td>0.0</td>\n",
              "    </tr>\n",
              "    <tr>\n",
              "      <th>43866</th>\n",
              "      <td>0.246575</td>\n",
              "      <td>0.600000</td>\n",
              "      <td>0.0</td>\n",
              "      <td>0.0</td>\n",
              "      <td>0.500000</td>\n",
              "      <td>0.0</td>\n",
              "      <td>0.0</td>\n",
              "      <td>1.0</td>\n",
              "      <td>0.0</td>\n",
              "      <td>0.0</td>\n",
              "      <td>...</td>\n",
              "      <td>0.0</td>\n",
              "      <td>1.0</td>\n",
              "      <td>0.0</td>\n",
              "      <td>1.0</td>\n",
              "      <td>1.0</td>\n",
              "      <td>0.0</td>\n",
              "      <td>0.0</td>\n",
              "      <td>0.0</td>\n",
              "      <td>0.0</td>\n",
              "      <td>0.0</td>\n",
              "    </tr>\n",
              "  </tbody>\n",
              "</table>\n",
              "<p>5 rows × 87 columns</p>\n",
              "</div>"
            ],
            "text/plain": [
              "            age  education-num  capital-gain  capital-loss  hours-per-week  \\\n",
              "13181  0.315068       0.600000           0.0           0.0        0.397959   \n",
              "10342  0.452055       0.533333           0.0           0.0        0.397959   \n",
              "20881  0.479452       0.400000           0.0           0.0        0.397959   \n",
              "24972  0.219178       0.533333           0.0           0.0        0.397959   \n",
              "43866  0.246575       0.600000           0.0           0.0        0.500000   \n",
              "\n",
              "       workclass_ Federal-gov  workclass_ Local-gov  workclass_ Private  \\\n",
              "13181                     0.0                   0.0                 1.0   \n",
              "10342                     0.0                   0.0                 1.0   \n",
              "20881                     0.0                   0.0                 1.0   \n",
              "24972                     0.0                   1.0                 0.0   \n",
              "43866                     0.0                   0.0                 1.0   \n",
              "\n",
              "       workclass_ Self-emp-inc  workclass_ Self-emp-not-inc  \\\n",
              "13181                      0.0                          0.0   \n",
              "10342                      0.0                          0.0   \n",
              "20881                      0.0                          0.0   \n",
              "24972                      0.0                          0.0   \n",
              "43866                      0.0                          0.0   \n",
              "\n",
              "              ...          race_ Other  race_ White  sex_ Female  sex_ Male  \\\n",
              "13181         ...                  0.0          1.0          0.0        1.0   \n",
              "10342         ...                  0.0          0.0          1.0        0.0   \n",
              "20881         ...                  0.0          1.0          0.0        1.0   \n",
              "24972         ...                  0.0          1.0          0.0        1.0   \n",
              "43866         ...                  0.0          1.0          0.0        1.0   \n",
              "\n",
              "       relationship_ Husband  relationship_ Not-in-family  \\\n",
              "13181                    1.0                          0.0   \n",
              "10342                    0.0                          0.0   \n",
              "20881                    0.0                          1.0   \n",
              "24972                    0.0                          0.0   \n",
              "43866                    1.0                          0.0   \n",
              "\n",
              "       relationship_ Other-relative  relationship_ Own-child  \\\n",
              "13181                           0.0                      0.0   \n",
              "10342                           1.0                      0.0   \n",
              "20881                           0.0                      0.0   \n",
              "24972                           0.0                      0.0   \n",
              "43866                           0.0                      0.0   \n",
              "\n",
              "       relationship_ Unmarried  relationship_ Wife  \n",
              "13181                      0.0                 0.0  \n",
              "10342                      0.0                 0.0  \n",
              "20881                      0.0                 0.0  \n",
              "24972                      1.0                 0.0  \n",
              "43866                      0.0                 0.0  \n",
              "\n",
              "[5 rows x 87 columns]"
            ]
          },
          "metadata": {
            "tags": []
          },
          "execution_count": 219
        }
      ]
    },
    {
      "metadata": {
        "id": "sObr-Bg2LUw8",
        "colab_type": "text"
      },
      "cell_type": "markdown",
      "source": [
        "# Our SVM model has 85.2% confusion **matrix**"
      ]
    },
    {
      "metadata": {
        "id": "vu3fX4AwLc9R",
        "colab_type": "code",
        "outputId": "d205e507-c005-4053-95fa-35aaae0bb1e2",
        "colab": {
          "base_uri": "https://localhost:8080/",
          "height": 287
        }
      },
      "cell_type": "code",
      "source": [
        "X_train.astype(float).head()"
      ],
      "execution_count": 0,
      "outputs": [
        {
          "output_type": "execute_result",
          "data": {
            "text/html": [
              "<div>\n",
              "<style scoped>\n",
              "    .dataframe tbody tr th:only-of-type {\n",
              "        vertical-align: middle;\n",
              "    }\n",
              "\n",
              "    .dataframe tbody tr th {\n",
              "        vertical-align: top;\n",
              "    }\n",
              "\n",
              "    .dataframe thead th {\n",
              "        text-align: right;\n",
              "    }\n",
              "</style>\n",
              "<table border=\"1\" class=\"dataframe\">\n",
              "  <thead>\n",
              "    <tr style=\"text-align: right;\">\n",
              "      <th></th>\n",
              "      <th>age</th>\n",
              "      <th>education-num</th>\n",
              "      <th>capital-gain</th>\n",
              "      <th>capital-loss</th>\n",
              "      <th>hours-per-week</th>\n",
              "      <th>workclass_ Federal-gov</th>\n",
              "      <th>workclass_ Local-gov</th>\n",
              "      <th>workclass_ Private</th>\n",
              "      <th>workclass_ Self-emp-inc</th>\n",
              "      <th>workclass_ Self-emp-not-inc</th>\n",
              "      <th>...</th>\n",
              "      <th>race_ Other</th>\n",
              "      <th>race_ White</th>\n",
              "      <th>sex_ Female</th>\n",
              "      <th>sex_ Male</th>\n",
              "      <th>relationship_ Husband</th>\n",
              "      <th>relationship_ Not-in-family</th>\n",
              "      <th>relationship_ Other-relative</th>\n",
              "      <th>relationship_ Own-child</th>\n",
              "      <th>relationship_ Unmarried</th>\n",
              "      <th>relationship_ Wife</th>\n",
              "    </tr>\n",
              "  </thead>\n",
              "  <tbody>\n",
              "    <tr>\n",
              "      <th>13181</th>\n",
              "      <td>0.315068</td>\n",
              "      <td>0.600000</td>\n",
              "      <td>0.0</td>\n",
              "      <td>0.0</td>\n",
              "      <td>0.397959</td>\n",
              "      <td>0.0</td>\n",
              "      <td>0.0</td>\n",
              "      <td>1.0</td>\n",
              "      <td>0.0</td>\n",
              "      <td>0.0</td>\n",
              "      <td>...</td>\n",
              "      <td>0.0</td>\n",
              "      <td>1.0</td>\n",
              "      <td>0.0</td>\n",
              "      <td>1.0</td>\n",
              "      <td>1.0</td>\n",
              "      <td>0.0</td>\n",
              "      <td>0.0</td>\n",
              "      <td>0.0</td>\n",
              "      <td>0.0</td>\n",
              "      <td>0.0</td>\n",
              "    </tr>\n",
              "    <tr>\n",
              "      <th>10342</th>\n",
              "      <td>0.452055</td>\n",
              "      <td>0.533333</td>\n",
              "      <td>0.0</td>\n",
              "      <td>0.0</td>\n",
              "      <td>0.397959</td>\n",
              "      <td>0.0</td>\n",
              "      <td>0.0</td>\n",
              "      <td>1.0</td>\n",
              "      <td>0.0</td>\n",
              "      <td>0.0</td>\n",
              "      <td>...</td>\n",
              "      <td>0.0</td>\n",
              "      <td>0.0</td>\n",
              "      <td>1.0</td>\n",
              "      <td>0.0</td>\n",
              "      <td>0.0</td>\n",
              "      <td>0.0</td>\n",
              "      <td>1.0</td>\n",
              "      <td>0.0</td>\n",
              "      <td>0.0</td>\n",
              "      <td>0.0</td>\n",
              "    </tr>\n",
              "    <tr>\n",
              "      <th>20881</th>\n",
              "      <td>0.479452</td>\n",
              "      <td>0.400000</td>\n",
              "      <td>0.0</td>\n",
              "      <td>0.0</td>\n",
              "      <td>0.397959</td>\n",
              "      <td>0.0</td>\n",
              "      <td>0.0</td>\n",
              "      <td>1.0</td>\n",
              "      <td>0.0</td>\n",
              "      <td>0.0</td>\n",
              "      <td>...</td>\n",
              "      <td>0.0</td>\n",
              "      <td>1.0</td>\n",
              "      <td>0.0</td>\n",
              "      <td>1.0</td>\n",
              "      <td>0.0</td>\n",
              "      <td>1.0</td>\n",
              "      <td>0.0</td>\n",
              "      <td>0.0</td>\n",
              "      <td>0.0</td>\n",
              "      <td>0.0</td>\n",
              "    </tr>\n",
              "    <tr>\n",
              "      <th>24972</th>\n",
              "      <td>0.219178</td>\n",
              "      <td>0.533333</td>\n",
              "      <td>0.0</td>\n",
              "      <td>0.0</td>\n",
              "      <td>0.397959</td>\n",
              "      <td>0.0</td>\n",
              "      <td>1.0</td>\n",
              "      <td>0.0</td>\n",
              "      <td>0.0</td>\n",
              "      <td>0.0</td>\n",
              "      <td>...</td>\n",
              "      <td>0.0</td>\n",
              "      <td>1.0</td>\n",
              "      <td>0.0</td>\n",
              "      <td>1.0</td>\n",
              "      <td>0.0</td>\n",
              "      <td>0.0</td>\n",
              "      <td>0.0</td>\n",
              "      <td>0.0</td>\n",
              "      <td>1.0</td>\n",
              "      <td>0.0</td>\n",
              "    </tr>\n",
              "    <tr>\n",
              "      <th>43866</th>\n",
              "      <td>0.246575</td>\n",
              "      <td>0.600000</td>\n",
              "      <td>0.0</td>\n",
              "      <td>0.0</td>\n",
              "      <td>0.500000</td>\n",
              "      <td>0.0</td>\n",
              "      <td>0.0</td>\n",
              "      <td>1.0</td>\n",
              "      <td>0.0</td>\n",
              "      <td>0.0</td>\n",
              "      <td>...</td>\n",
              "      <td>0.0</td>\n",
              "      <td>1.0</td>\n",
              "      <td>0.0</td>\n",
              "      <td>1.0</td>\n",
              "      <td>1.0</td>\n",
              "      <td>0.0</td>\n",
              "      <td>0.0</td>\n",
              "      <td>0.0</td>\n",
              "      <td>0.0</td>\n",
              "      <td>0.0</td>\n",
              "    </tr>\n",
              "  </tbody>\n",
              "</table>\n",
              "<p>5 rows × 87 columns</p>\n",
              "</div>"
            ],
            "text/plain": [
              "            age  education-num  capital-gain  capital-loss  hours-per-week  \\\n",
              "13181  0.315068       0.600000           0.0           0.0        0.397959   \n",
              "10342  0.452055       0.533333           0.0           0.0        0.397959   \n",
              "20881  0.479452       0.400000           0.0           0.0        0.397959   \n",
              "24972  0.219178       0.533333           0.0           0.0        0.397959   \n",
              "43866  0.246575       0.600000           0.0           0.0        0.500000   \n",
              "\n",
              "       workclass_ Federal-gov  workclass_ Local-gov  workclass_ Private  \\\n",
              "13181                     0.0                   0.0                 1.0   \n",
              "10342                     0.0                   0.0                 1.0   \n",
              "20881                     0.0                   0.0                 1.0   \n",
              "24972                     0.0                   1.0                 0.0   \n",
              "43866                     0.0                   0.0                 1.0   \n",
              "\n",
              "       workclass_ Self-emp-inc  workclass_ Self-emp-not-inc  \\\n",
              "13181                      0.0                          0.0   \n",
              "10342                      0.0                          0.0   \n",
              "20881                      0.0                          0.0   \n",
              "24972                      0.0                          0.0   \n",
              "43866                      0.0                          0.0   \n",
              "\n",
              "              ...          race_ Other  race_ White  sex_ Female  sex_ Male  \\\n",
              "13181         ...                  0.0          1.0          0.0        1.0   \n",
              "10342         ...                  0.0          0.0          1.0        0.0   \n",
              "20881         ...                  0.0          1.0          0.0        1.0   \n",
              "24972         ...                  0.0          1.0          0.0        1.0   \n",
              "43866         ...                  0.0          1.0          0.0        1.0   \n",
              "\n",
              "       relationship_ Husband  relationship_ Not-in-family  \\\n",
              "13181                    1.0                          0.0   \n",
              "10342                    0.0                          0.0   \n",
              "20881                    0.0                          1.0   \n",
              "24972                    0.0                          0.0   \n",
              "43866                    1.0                          0.0   \n",
              "\n",
              "       relationship_ Other-relative  relationship_ Own-child  \\\n",
              "13181                           0.0                      0.0   \n",
              "10342                           1.0                      0.0   \n",
              "20881                           0.0                      0.0   \n",
              "24972                           0.0                      0.0   \n",
              "43866                           0.0                      0.0   \n",
              "\n",
              "       relationship_ Unmarried  relationship_ Wife  \n",
              "13181                      0.0                 0.0  \n",
              "10342                      0.0                 0.0  \n",
              "20881                      0.0                 0.0  \n",
              "24972                      1.0                 0.0  \n",
              "43866                      0.0                 0.0  \n",
              "\n",
              "[5 rows x 87 columns]"
            ]
          },
          "metadata": {
            "tags": []
          },
          "execution_count": 220
        }
      ]
    },
    {
      "metadata": {
        "id": "Qabvqi9KmDfG",
        "colab_type": "text"
      },
      "cell_type": "markdown",
      "source": [
        "# Creating the model using KNN"
      ]
    },
    {
      "metadata": {
        "id": "HoGK0V7zlNj7",
        "colab_type": "code",
        "outputId": "d8cd0aaf-14dd-4fcd-8bce-1d9e32584d82",
        "colab": {
          "base_uri": "https://localhost:8080/",
          "height": 68
        }
      },
      "cell_type": "code",
      "source": [
        "from sklearn.neighbors import KNeighborsClassifier\n",
        "K_classifier = KNeighborsClassifier(n_neighbors = 5, metric = 'minkowski', p= 2)\n",
        "K_classifier.fit(X_train, y_train)"
      ],
      "execution_count": 0,
      "outputs": [
        {
          "output_type": "execute_result",
          "data": {
            "text/plain": [
              "KNeighborsClassifier(algorithm='auto', leaf_size=30, metric='minkowski',\n",
              "           metric_params=None, n_jobs=None, n_neighbors=5, p=2,\n",
              "           weights='uniform')"
            ]
          },
          "metadata": {
            "tags": []
          },
          "execution_count": 221
        }
      ]
    },
    {
      "metadata": {
        "id": "NxuzbCVBlNej",
        "colab_type": "code",
        "outputId": "72321ee2-e7a0-490f-c64a-fc4fa3f4ed07",
        "colab": {
          "base_uri": "https://localhost:8080/",
          "height": 34
        }
      },
      "cell_type": "code",
      "source": [
        "y_preds = K_classifier.predict(X_test)\n",
        "y_preds"
      ],
      "execution_count": 0,
      "outputs": [
        {
          "output_type": "execute_result",
          "data": {
            "text/plain": [
              "array([0, 0, 0, ..., 0, 1, 0])"
            ]
          },
          "metadata": {
            "tags": []
          },
          "execution_count": 222
        }
      ]
    },
    {
      "metadata": {
        "id": "hWywt4StlNVT",
        "colab_type": "code",
        "outputId": "35de8ce1-9f97-4d53-9efa-29c29031c071",
        "colab": {
          "base_uri": "https://localhost:8080/",
          "height": 51
        }
      },
      "cell_type": "code",
      "source": [
        "# Lets check the how much are correct in our prediction\n",
        "\n",
        "from sklearn.metrics import confusion_matrix\n",
        "CM = confusion_matrix(y_test, y_preds)\n",
        "CM"
      ],
      "execution_count": 0,
      "outputs": [
        {
          "output_type": "execute_result",
          "data": {
            "text/plain": [
              "array([[6221,  625],\n",
              "       [ 910, 1289]])"
            ]
          },
          "metadata": {
            "tags": []
          },
          "execution_count": 223
        }
      ]
    },
    {
      "metadata": {
        "id": "eeyJx9xxppsL",
        "colab_type": "code",
        "outputId": "2bb3bf99-84fb-4d82-9517-94d405c3e7ef",
        "colab": {
          "base_uri": "https://localhost:8080/",
          "height": 34
        }
      },
      "cell_type": "code",
      "source": [
        "# Lest change CM result to proportions\n",
        " \n",
        "((6204 + 1276)/(6204 + 1276 + 923 + 642))*100 "
      ],
      "execution_count": 0,
      "outputs": [
        {
          "output_type": "execute_result",
          "data": {
            "text/plain": [
              "82.69762299613046"
            ]
          },
          "metadata": {
            "tags": []
          },
          "execution_count": 224
        }
      ]
    },
    {
      "metadata": {
        "id": "ErEBRvxfqb1W",
        "colab_type": "text"
      },
      "cell_type": "markdown",
      "source": [
        "# Our KNN model has 82.69% confusion matrix"
      ]
    },
    {
      "metadata": {
        "id": "xswwi2GjrcKI",
        "colab_type": "text"
      },
      "cell_type": "markdown",
      "source": [
        "# Building Naive Bayes Model"
      ]
    },
    {
      "metadata": {
        "id": "ohLkGXaOrZse",
        "colab_type": "code",
        "outputId": "c152f0ef-7059-4a9b-c6a1-56568a42ab42",
        "colab": {
          "base_uri": "https://localhost:8080/",
          "height": 34
        }
      },
      "cell_type": "code",
      "source": [
        "from sklearn.naive_bayes import GaussianNB\n",
        "B_classifier = GaussianNB()\n",
        "\n",
        "B_classifier.fit(X_train, y_train)\n"
      ],
      "execution_count": 0,
      "outputs": [
        {
          "output_type": "execute_result",
          "data": {
            "text/plain": [
              "GaussianNB(priors=None, var_smoothing=1e-09)"
            ]
          },
          "metadata": {
            "tags": []
          },
          "execution_count": 225
        }
      ]
    },
    {
      "metadata": {
        "id": "1X0r_SdbraAu",
        "colab_type": "code",
        "outputId": "8c21e8a8-f506-4604-901d-baa21d4ceb81",
        "colab": {
          "base_uri": "https://localhost:8080/",
          "height": 34
        }
      },
      "cell_type": "code",
      "source": [
        "y_predi = B_classifier.predict(X_test)\n",
        "y_predi"
      ],
      "execution_count": 0,
      "outputs": [
        {
          "output_type": "execute_result",
          "data": {
            "text/plain": [
              "array([1, 0, 1, ..., 1, 1, 1])"
            ]
          },
          "metadata": {
            "tags": []
          },
          "execution_count": 226
        }
      ]
    },
    {
      "metadata": {
        "id": "plUcqGNGs-wA",
        "colab_type": "code",
        "outputId": "c6eed485-08cd-4281-bfc2-0dc4e9c7da62",
        "colab": {
          "base_uri": "https://localhost:8080/",
          "height": 51
        }
      },
      "cell_type": "code",
      "source": [
        "from sklearn.metrics import confusion_matrix\n",
        "b_CM = confusion_matrix(y_test, y_predi)\n",
        "b_CM"
      ],
      "execution_count": 0,
      "outputs": [
        {
          "output_type": "execute_result",
          "data": {
            "text/plain": [
              "array([[3221, 3625],\n",
              "       [ 130, 2069]])"
            ]
          },
          "metadata": {
            "tags": []
          },
          "execution_count": 227
        }
      ]
    },
    {
      "metadata": {
        "id": "GfgWDbteraZu",
        "colab_type": "code",
        "outputId": "4ed70f3d-8879-42ea-892e-c964df51c7a4",
        "colab": {
          "base_uri": "https://localhost:8080/",
          "height": 34
        }
      },
      "cell_type": "code",
      "source": [
        "# Lets conver the metrics to proportions\n",
        "\n",
        "((3400 + 2039)/(3400 + 2039 + 160 + 3446))*100 "
      ],
      "execution_count": 0,
      "outputs": [
        {
          "output_type": "execute_result",
          "data": {
            "text/plain": [
              "60.13266998341626"
            ]
          },
          "metadata": {
            "tags": []
          },
          "execution_count": 228
        }
      ]
    },
    {
      "metadata": {
        "id": "bpKffL-huyEk",
        "colab_type": "text"
      },
      "cell_type": "markdown",
      "source": [
        "# Our naive_bayes model shows 60.13% confusion matrics"
      ]
    },
    {
      "metadata": {
        "id": "Q0YIqX44vF6U",
        "colab_type": "text"
      },
      "cell_type": "markdown",
      "source": [
        "# Lets build Model using RandomForest"
      ]
    },
    {
      "metadata": {
        "id": "zXf8-mk5w8aH",
        "colab_type": "code",
        "outputId": "b1b65636-9b78-4fab-87f9-d4183ee118ea",
        "colab": {
          "base_uri": "https://localhost:8080/",
          "height": 119
        }
      },
      "cell_type": "code",
      "source": [
        "from sklearn.ensemble import RandomForestClassifier\n",
        "r_classifier = RandomForestClassifier(n_estimators = 10, criterion = 'entropy', random_state = 0)\n",
        "\n",
        "r_classifier.fit(X_train, y_train)"
      ],
      "execution_count": 0,
      "outputs": [
        {
          "output_type": "execute_result",
          "data": {
            "text/plain": [
              "RandomForestClassifier(bootstrap=True, class_weight=None, criterion='entropy',\n",
              "            max_depth=None, max_features='auto', max_leaf_nodes=None,\n",
              "            min_impurity_decrease=0.0, min_impurity_split=None,\n",
              "            min_samples_leaf=1, min_samples_split=2,\n",
              "            min_weight_fraction_leaf=0.0, n_estimators=10, n_jobs=None,\n",
              "            oob_score=False, random_state=0, verbose=0, warm_start=False)"
            ]
          },
          "metadata": {
            "tags": []
          },
          "execution_count": 229
        }
      ]
    },
    {
      "metadata": {
        "id": "e-qe8jrKw8uw",
        "colab_type": "code",
        "outputId": "e806df13-2a3c-4108-8224-a97e853ec32b",
        "colab": {
          "base_uri": "https://localhost:8080/",
          "height": 34
        }
      },
      "cell_type": "code",
      "source": [
        "y_predicts = r_classifier.predict(X_test)\n",
        "y_predicts"
      ],
      "execution_count": 0,
      "outputs": [
        {
          "output_type": "execute_result",
          "data": {
            "text/plain": [
              "array([0, 0, 0, ..., 0, 1, 0])"
            ]
          },
          "metadata": {
            "tags": []
          },
          "execution_count": 230
        }
      ]
    },
    {
      "metadata": {
        "id": "0MqllLaIw9CC",
        "colab_type": "code",
        "outputId": "d41fe4c3-4859-4399-fd82-1ff8e3e212f5",
        "colab": {
          "base_uri": "https://localhost:8080/",
          "height": 51
        }
      },
      "cell_type": "code",
      "source": [
        "from sklearn.metrics import confusion_matrix\n",
        "r_CM = confusion_matrix(y_test, y_predicts)\n",
        "r_CM"
      ],
      "execution_count": 0,
      "outputs": [
        {
          "output_type": "execute_result",
          "data": {
            "text/plain": [
              "array([[6299,  547],\n",
              "       [ 825, 1374]])"
            ]
          },
          "metadata": {
            "tags": []
          },
          "execution_count": 231
        }
      ]
    },
    {
      "metadata": {
        "id": "gfJyMtSFy8hM",
        "colab_type": "code",
        "outputId": "677e988e-73f6-4fe2-d571-397fe953afdd",
        "colab": {
          "base_uri": "https://localhost:8080/",
          "height": 34
        }
      },
      "cell_type": "code",
      "source": [
        "# Lets change the confusion matrix to proportions to see clearn hom many percent of our results are correct\n",
        "\n",
        "((6264 + 1354)/(6264 + 1354 + 845 + 1354))*100 "
      ],
      "execution_count": 0,
      "outputs": [
        {
          "output_type": "execute_result",
          "data": {
            "text/plain": [
              "77.60008149129062"
            ]
          },
          "metadata": {
            "tags": []
          },
          "execution_count": 232
        }
      ]
    },
    {
      "metadata": {
        "id": "SBWu6ztBzitc",
        "colab_type": "text"
      },
      "cell_type": "markdown",
      "source": [
        "# Our RandomForest model shows 77.60% confusion matrics"
      ]
    },
    {
      "metadata": {
        "id": "XWXmXDF_LuQO",
        "colab_type": "text"
      },
      "cell_type": "markdown",
      "source": [
        "## Lets visualize the model as SVM model is in action"
      ]
    },
    {
      "metadata": {
        "id": "6uW9EQrNL1iR",
        "colab_type": "code",
        "outputId": "9dbc6d65-c39c-48bf-e5c5-7d4fe8c3102b",
        "colab": {
          "base_uri": "https://localhost:8080/",
          "height": 350
        }
      },
      "cell_type": "code",
      "source": [
        "from matplotlib.colors import ListedColormap\n",
        "X_set, Y_set = X_train, y_train\n",
        "\n",
        "X1, X2 = np.meshgrid(np.arange(start = X_set.min()-1, stop = X_set.max()+1, step=0.01),\n",
        "                    np.arange(start = X_set.min()-1, stop = X_set.max()+1, step=0.01))\n",
        "\n",
        "plt.contourf(X1, X2, claddifier.predict(np.array([X1.ravel(), X2.ravel()]).T).reshape(X1.shape),\n",
        "            alpha = 0.75, cmap = ListedColormap(('red', 'green')))\n",
        "\n",
        "plt.xlim(X1.min(), X1.max())\n",
        "plt.ylim(X2.min(), X2.max())\n",
        "\n",
        "for i, j in enumerate(np.unique(y_set)):\n",
        "  plt.scatter(X_set[y_set == j, 0], X_set[y_set == j, 1],\n",
        "             c = ListedColormap(('red', 'green'))(i), label = j)\n",
        "  \n",
        "plt.title('Logistic Regression (Training set)')\n",
        "plt.xlabel(\"allvalues\")\n",
        "plt.ylabel(\"Salary\")\n",
        "plt.legend()\n",
        "plt.show()"
      ],
      "execution_count": 0,
      "outputs": [
        {
          "output_type": "error",
          "ename": "TypeError",
          "evalue": "ignored",
          "traceback": [
            "\u001b[0;31m---------------------------------------------------------------------------\u001b[0m",
            "\u001b[0;31mTypeError\u001b[0m                                 Traceback (most recent call last)",
            "\u001b[0;32m<ipython-input-233-597dd89c51df>\u001b[0m in \u001b[0;36m<module>\u001b[0;34m()\u001b[0m\n\u001b[1;32m      2\u001b[0m \u001b[0mX_set\u001b[0m\u001b[0;34m,\u001b[0m \u001b[0mY_set\u001b[0m \u001b[0;34m=\u001b[0m \u001b[0mX_train\u001b[0m\u001b[0;34m,\u001b[0m \u001b[0my_train\u001b[0m\u001b[0;34m\u001b[0m\u001b[0;34m\u001b[0m\u001b[0m\n\u001b[1;32m      3\u001b[0m \u001b[0;34m\u001b[0m\u001b[0m\n\u001b[0;32m----> 4\u001b[0;31m X1, X2 = np.meshgrid(np.arange(start = X_set.min()-1, stop = X_set.max()+1, step=0.01),\n\u001b[0m\u001b[1;32m      5\u001b[0m                     np.arange(start = X_set.min()-1, stop = X_set.max()+1, step=0.01))\n\u001b[1;32m      6\u001b[0m \u001b[0;34m\u001b[0m\u001b[0m\n",
            "\u001b[0;32m/usr/local/lib/python3.6/dist-packages/pandas/core/series.py\u001b[0m in \u001b[0;36mwrapper\u001b[0;34m(self)\u001b[0m\n\u001b[1;32m    110\u001b[0m             \u001b[0;32mreturn\u001b[0m \u001b[0mconverter\u001b[0m\u001b[0;34m(\u001b[0m\u001b[0mself\u001b[0m\u001b[0;34m.\u001b[0m\u001b[0miloc\u001b[0m\u001b[0;34m[\u001b[0m\u001b[0;36m0\u001b[0m\u001b[0;34m]\u001b[0m\u001b[0;34m)\u001b[0m\u001b[0;34m\u001b[0m\u001b[0;34m\u001b[0m\u001b[0m\n\u001b[1;32m    111\u001b[0m         raise TypeError(\"cannot convert the series to \"\n\u001b[0;32m--> 112\u001b[0;31m                         \"{0}\".format(str(converter)))\n\u001b[0m\u001b[1;32m    113\u001b[0m \u001b[0;34m\u001b[0m\u001b[0m\n\u001b[1;32m    114\u001b[0m     \u001b[0;32mreturn\u001b[0m \u001b[0mwrapper\u001b[0m\u001b[0;34m\u001b[0m\u001b[0;34m\u001b[0m\u001b[0m\n",
            "\u001b[0;31mTypeError\u001b[0m: cannot convert the series to <class 'float'>"
          ]
        }
      ]
    },
    {
      "metadata": {
        "id": "xFICb4GElJ9C",
        "colab_type": "code",
        "colab": {}
      },
      "cell_type": "code",
      "source": [
        ""
      ],
      "execution_count": 0,
      "outputs": []
    }
  ]
}